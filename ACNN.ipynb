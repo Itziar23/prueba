{
  "nbformat": 4,
  "nbformat_minor": 0,
  "metadata": {
    "colab": {
      "provenance": [],
      "authorship_tag": "ABX9TyN3upQD7nNgSpLNtfm54yxF",
      "include_colab_link": true
    },
    "kernelspec": {
      "name": "python3",
      "display_name": "Python 3"
    },
    "language_info": {
      "name": "python"
    }
  },
  "cells": [
    {
      "cell_type": "markdown",
      "metadata": {
        "id": "view-in-github",
        "colab_type": "text"
      },
      "source": [
        "<a href=\"https://colab.research.google.com/github/Itziar23/prueba/blob/master/ACNN.ipynb\" target=\"_parent\"><img src=\"https://colab.research.google.com/assets/colab-badge.svg\" alt=\"Open In Colab\"/></a>"
      ]
    },
    {
      "cell_type": "code",
      "execution_count": null,
      "metadata": {
        "id": "Jd76OWGCgw6k"
      },
      "outputs": [],
      "source": [
        "import sys\n",
        "import os\n",
        "from google.colab import drive\n",
        "drive.mount('/content/gdrive')\n",
        "ruta='gdrive/My Drive/dataset/CAMUS/'"
      ]
    },
    {
      "cell_type": "code",
      "source": [
        "# Standard\n",
        "import os\n",
        "import sys\n",
        "import datetime\n",
        "import numpy as np\n",
        "import matplotlib.pyplot as plt\n",
        "# Utils\n",
        "import h5py\n",
        "# Deep Learning\n",
        "from sklearn.model_selection import train_test_split\n",
        "from tensorflow.keras import backend as K\n",
        "from tensorflow.keras.optimizers import Adam\n",
        "from tensorflow.keras.callbacks import EarlyStopping, ReduceLROnPlateau\n",
        "from tensorflow.keras.utils import plot_model"
      ],
      "metadata": {
        "id": "A8sHrTTOhze7"
      },
      "execution_count": null,
      "outputs": []
    },
    {
      "cell_type": "code",
      "source": [
        "PROJECT_ROOT_DIR = \"/content/gdrive/MyDrive/Colab Notebooks/\"\n",
        "CHAPTER_ID = \"cnn\"\n",
        "IMAGES_PATH = os.path.join(PROJECT_ROOT_DIR, \"images\")"
      ],
      "metadata": {
        "id": "OpOyNB22hWBj"
      },
      "execution_count": null,
      "outputs": []
    },
    {
      "cell_type": "code",
      "source": [
        "pip install SimpleITK"
      ],
      "metadata": {
        "id": "FbMIL3q0hWFD"
      },
      "execution_count": null,
      "outputs": []
    },
    {
      "cell_type": "code",
      "source": [
        "import numpy as np\n",
        "import pandas as pd\n",
        "import matplotlib.pyplot as plt\n",
        "import SimpleITK as sitk\n",
        "import os\n",
        "\n",
        "%matplotlib inline"
      ],
      "metadata": {
        "id": "2i0CbyJUhWIU"
      },
      "execution_count": null,
      "outputs": []
    },
    {
      "cell_type": "code",
      "source": [
        "def save_fig(fig_id, tight_layout=True, fig_extension=\"png\", resolution=300):\n",
        "    path = os.path.join(IMAGES_PATH, fig_id + \".\" + fig_extension)\n",
        "    print(\"Saving figure\", fig_id)\n",
        "    if tight_layout:\n",
        "        plt.tight_layout()\n",
        "    plt.savefig(path, format=fig_extension, dpi=resolution)"
      ],
      "metadata": {
        "id": "m1JUvPAnhWLb"
      },
      "execution_count": null,
      "outputs": []
    },
    {
      "cell_type": "code",
      "source": [
        "print(os.getcwd())"
      ],
      "metadata": {
        "id": "y0Zg-ghVhWOr"
      },
      "execution_count": null,
      "outputs": []
    },
    {
      "cell_type": "code",
      "source": [
        "import sys  \n",
        "sys.path.insert(0, '/content/gdrive/MyDrive/Colab Notebooks/architectures')\n",
        "from laddernet import LadderNet\n",
        "from unet import UNet\n",
        "from resunet import ResUNet"
      ],
      "metadata": {
        "id": "-_GLEYMQhWRs"
      },
      "execution_count": null,
      "outputs": []
    },
    {
      "cell_type": "code",
      "source": [
        "import sys  \n",
        "sys.path.insert(0, '/content/gdrive/MyDrive/Colab Notebooks/metrics')\n",
        "from multiclass_dice import multiclass_dice"
      ],
      "metadata": {
        "id": "3idLKOHWhWUr"
      },
      "execution_count": null,
      "outputs": []
    },
    {
      "cell_type": "code",
      "source": [
        "import sys  \n",
        "sys.path.insert(0, '/content/gdrive/MyDrive/Colab Notebooks/metrics')\n",
        "from iou import iou"
      ],
      "metadata": {
        "id": "P9ZK2SR-hWYM"
      },
      "execution_count": null,
      "outputs": []
    },
    {
      "cell_type": "code",
      "source": [
        "train_path = ruta + \"training/patient0001/\""
      ],
      "metadata": {
        "id": "zITO2jlthpek"
      },
      "execution_count": null,
      "outputs": []
    },
    {
      "cell_type": "code",
      "source": [
        "def mhd_to_array(path):\n",
        "    \"\"\"\n",
        "    Read an *.mhd file stored in path and return it as a numpy array.\n",
        "    \"\"\"\n",
        "    return sitk.GetArrayFromImage(sitk.ReadImage(path, sitk.sitkFloat32))"
      ],
      "metadata": {
        "id": "Bw6hBhuShpmi"
      },
      "execution_count": null,
      "outputs": []
    },
    {
      "cell_type": "code",
      "source": [
        "image = sitk.GetArrayFromImage(sitk.ReadImage(train_path + \"patient0001_4CH_ED.mhd\", sitk.sitkFloat32))\n",
        "mask = sitk.GetArrayFromImage(sitk.ReadImage(train_path + \"patient0001_4CH_ED_gt.mhd\", sitk.sitkFloat32))"
      ],
      "metadata": {
        "id": "DQ_hx9-Ahpp7"
      },
      "execution_count": null,
      "outputs": []
    },
    {
      "cell_type": "code",
      "source": [
        "earlystop = EarlyStopping(monitor='val_multiclass_dice', min_delta=0, patience=5,\n",
        "                          verbose=1, mode=\"max\", restore_best_weights = True)\n",
        "\n",
        "reduce_lr = ReduceLROnPlateau(monitor='val_multiclass_dice', factor=0.2, patience=2,\n",
        "                              verbose=1, mode=\"max\", min_lr=1e-5)"
      ],
      "metadata": {
        "id": "XPjPw94zhptN"
      },
      "execution_count": null,
      "outputs": []
    },
    {
      "cell_type": "code",
      "source": [
        "f = h5py.File(\"gdrive/My Drive/dataset/image_dataset.hdf5\", \"r\")"
      ],
      "metadata": {
        "id": "xS_gbvHthpwU"
      },
      "execution_count": null,
      "outputs": []
    },
    {
      "cell_type": "code",
      "source": [
        "train_frames = f[\"train_4ch_ed_frames\"][:,:,:,:]\n",
        "train_masks = f[\"train_4ch_ed_masks\"][:,:,:,:]\n",
        "test_frames = f[\"test_4ch_ed_frames\"][:,:,:,:]\n",
        "test_masks = f[\"test_4ch_ed_masks\"][:,:,:,:]"
      ],
      "metadata": {
        "id": "pYQsHHFjhpzh"
      },
      "execution_count": null,
      "outputs": []
    },
    {
      "cell_type": "code",
      "source": [
        "train_frames, valid_frames, train_masks, valid_masks = train_test_split(train_frames, train_masks)"
      ],
      "metadata": {
        "id": "equxr52yhp17"
      },
      "execution_count": null,
      "outputs": []
    },
    {
      "cell_type": "code",
      "source": [
        "import sys  \n",
        "sys.path.insert(0, '/content/gdrive/MyDrive/Colab Notebooks/architectures')\n",
        "\n",
        "from acnn import ACNN"
      ],
      "metadata": {
        "id": "dHUBpZjjiC47"
      },
      "execution_count": null,
      "outputs": []
    },
    {
      "cell_type": "code",
      "source": [
        "model_acnn= ACNN(input_size=(384, 384, 1),num_classes=4)"
      ],
      "metadata": {
        "id": "uhXtMWrxiC_b"
      },
      "execution_count": null,
      "outputs": []
    },
    {
      "cell_type": "code",
      "source": [
        "model_acnn.summary()"
      ],
      "metadata": {
        "id": "BEbelnluiDCi"
      },
      "execution_count": null,
      "outputs": []
    },
    {
      "cell_type": "code",
      "source": [
        "model_acnn.compile(optimizer=Adam(learning_rate=1e-3), loss=\"sparse_categorical_crossentropy\", metrics=[multiclass_dice, iou,\"accuracy\"])"
      ],
      "metadata": {
        "id": "c0veklNhiDFa"
      },
      "execution_count": null,
      "outputs": []
    },
    {
      "cell_type": "code",
      "source": [
        "history_acnn=model_acnn.fit(x=train_frames,\n",
        "                    y=train_masks,\n",
        "                    validation_data=(valid_frames, valid_masks),\n",
        "                    batch_size=5,\n",
        "                    epochs=3,\n",
        "                    callbacks=[earlystop, reduce_lr])"
      ],
      "metadata": {
        "id": "yqCpjIaMiDIi"
      },
      "execution_count": null,
      "outputs": []
    },
    {
      "cell_type": "code",
      "source": [
        "loss_acnn_4 = model_acnn.evaluate(x=test_frames,y=test_masks)"
      ],
      "metadata": {
        "id": "xezo_K65iDL7"
      },
      "execution_count": null,
      "outputs": []
    },
    {
      "cell_type": "code",
      "source": [
        "print(history_acnn.history.keys())"
      ],
      "metadata": {
        "id": "78b6oxZBiOob"
      },
      "execution_count": null,
      "outputs": []
    },
    {
      "cell_type": "code",
      "source": [
        "df=pd.DataFrame(history_acnn.history)\n",
        "df.plot(figsize=(8, 5))\n",
        "plt.grid(True)\n",
        "plt.gca().set_ylim(0, 1)\n",
        "save_fig(\"keras_learning_curves_plot_1\")\n",
        "plt.show()"
      ],
      "metadata": {
        "id": "-cNLisr-iOrb"
      },
      "execution_count": null,
      "outputs": []
    },
    {
      "cell_type": "code",
      "source": [
        "df.to_csv('/content/gdrive/MyDrive/Colab Notebooks/file_name.csv')"
      ],
      "metadata": {
        "id": "1ZKOHEq7iOuc"
      },
      "execution_count": null,
      "outputs": []
    },
    {
      "cell_type": "code",
      "source": [
        "model_acnn.save_weights(\"/content/gdrive/MyDrive/Colab Notebooks/models/acnn_4ch_ed.h5\")"
      ],
      "metadata": {
        "id": "maSAMbQEiOxa"
      },
      "execution_count": null,
      "outputs": []
    },
    {
      "cell_type": "code",
      "source": [
        "loss_acnn_4 = model_acnn.evaluate(x=test_frames,\n",
        "                    y=test_masks)"
      ],
      "metadata": {
        "id": "EuzE4J-viVzb"
      },
      "execution_count": null,
      "outputs": []
    },
    {
      "cell_type": "code",
      "source": [
        "print(type(model_acnn.history))"
      ],
      "metadata": {
        "id": "ufFwFIJeiV6K"
      },
      "execution_count": null,
      "outputs": []
    }
  ]
}