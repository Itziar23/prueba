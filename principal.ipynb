{
  "nbformat": 4,
  "nbformat_minor": 0,
  "metadata": {
    "colab": {
      "provenance": [],
      "authorship_tag": "ABX9TyN0cjiipJfziU4SDpcQ2/po",
      "include_colab_link": true
    },
    "kernelspec": {
      "name": "python3",
      "display_name": "Python 3"
    },
    "language_info": {
      "name": "python"
    },
    "accelerator": "GPU",
    "gpuClass": "standard"
  },
  "cells": [
    {
      "cell_type": "markdown",
      "metadata": {
        "id": "view-in-github",
        "colab_type": "text"
      },
      "source": [
        "<a href=\"https://colab.research.google.com/github/Itziar23/prueba/blob/master/principal.ipynb\" target=\"_parent\"><img src=\"https://colab.research.google.com/assets/colab-badge.svg\" alt=\"Open In Colab\"/></a>"
      ]
    },
    {
      "cell_type": "code",
      "execution_count": 1,
      "metadata": {
        "colab": {
          "base_uri": "https://localhost:8080/"
        },
        "id": "Sv3BhyeDIciu",
        "outputId": "f72bbff3-b284-4640-f535-68f1d94b9c0f"
      },
      "outputs": [
        {
          "output_type": "stream",
          "name": "stdout",
          "text": [
            "Mounted at /content/gdrive\n"
          ]
        }
      ],
      "source": [
        "import sys\n",
        "import os\n",
        "from google.colab import drive\n",
        "drive.mount('/content/gdrive')\n",
        "ruta='gdrive/My Drive/dataset/CAMUS/'"
      ]
    },
    {
      "cell_type": "code",
      "source": [
        "PROJECT_ROOT_DIR = \"/content/gdrive/MyDrive/Colab Notebooks/\"\n",
        "CHAPTER_ID = \"cnn\"\n",
        "IMAGES_PATH = os.path.join(PROJECT_ROOT_DIR, \"images\")"
      ],
      "metadata": {
        "id": "VOJzqWcqyE1s"
      },
      "execution_count": 2,
      "outputs": []
    },
    {
      "cell_type": "code",
      "source": [
        "pip install SimpleITK"
      ],
      "metadata": {
        "colab": {
          "base_uri": "https://localhost:8080/"
        },
        "id": "h3Si1fpKPp8u",
        "outputId": "6808b453-bebc-4c94-9c3c-5ac204555ebb"
      },
      "execution_count": 3,
      "outputs": [
        {
          "output_type": "stream",
          "name": "stdout",
          "text": [
            "Looking in indexes: https://pypi.org/simple, https://us-python.pkg.dev/colab-wheels/public/simple/\n",
            "Collecting SimpleITK\n",
            "  Downloading SimpleITK-2.2.1-cp38-cp38-manylinux_2_17_x86_64.manylinux2014_x86_64.whl (52.7 MB)\n",
            "\u001b[2K     \u001b[90m━━━━━━━━━━━━━━━━━━━━━━━━━━━━━━━━━━━━━━━━\u001b[0m \u001b[32m52.7/52.7 MB\u001b[0m \u001b[31m13.5 MB/s\u001b[0m eta \u001b[36m0:00:00\u001b[0m\n",
            "\u001b[?25hInstalling collected packages: SimpleITK\n",
            "Successfully installed SimpleITK-2.2.1\n"
          ]
        }
      ]
    },
    {
      "cell_type": "code",
      "source": [
        "import numpy as np\n",
        "import pandas as pd\n",
        "import matplotlib.pyplot as plt\n",
        "import SimpleITK as sitk\n",
        "import os\n",
        "\n",
        "%matplotlib inline"
      ],
      "metadata": {
        "id": "nUVa0vr_PAHG"
      },
      "execution_count": 4,
      "outputs": []
    },
    {
      "cell_type": "code",
      "source": [
        "def save_fig(fig_id, tight_layout=True, fig_extension=\"png\", resolution=300):\n",
        "    path = os.path.join(IMAGES_PATH, fig_id + \".\" + fig_extension)\n",
        "    print(\"Saving figure\", fig_id)\n",
        "    if tight_layout:\n",
        "        plt.tight_layout()\n",
        "    plt.savefig(path, format=fig_extension, dpi=resolution)"
      ],
      "metadata": {
        "id": "3YD6flEBrepa"
      },
      "execution_count": 5,
      "outputs": []
    },
    {
      "cell_type": "code",
      "source": [
        "print(os.getcwd())"
      ],
      "metadata": {
        "colab": {
          "base_uri": "https://localhost:8080/"
        },
        "id": "uG3axiHVXsVA",
        "outputId": "eb4b5704-7908-45b0-f8b7-53d3bd30dfab"
      },
      "execution_count": 6,
      "outputs": [
        {
          "output_type": "stream",
          "name": "stdout",
          "text": [
            "/content\n"
          ]
        }
      ]
    },
    {
      "cell_type": "code",
      "source": [
        "import sys  \n",
        "sys.path.insert(0, '/content/gdrive/MyDrive/Colab Notebooks/architectures')\n",
        "from laddernet import LadderNet\n",
        "from unet import UNet"
      ],
      "metadata": {
        "id": "AaDntQUMXip9"
      },
      "execution_count": 7,
      "outputs": []
    },
    {
      "cell_type": "code",
      "source": [
        "import sys  \n",
        "sys.path.insert(0, '/content/gdrive/MyDrive/Colab Notebooks/metrics')\n",
        "from multiclass_dice import multiclass_dice"
      ],
      "metadata": {
        "id": "DvR8KdGS8lSA"
      },
      "execution_count": 8,
      "outputs": []
    },
    {
      "cell_type": "code",
      "source": [
        "fig_size = plt.rcParams[\"figure.figsize\"]\n",
        "\n",
        "fig_size[0] = 7\n",
        "fig_size[1] = 9\n",
        "plt.rcParams[\"figure.figsize\"] = fig_size"
      ],
      "metadata": {
        "id": "54TRe-JDPNI-"
      },
      "execution_count": 9,
      "outputs": []
    },
    {
      "cell_type": "code",
      "source": [
        "train_path = ruta + \"training/patient0001/\""
      ],
      "metadata": {
        "id": "oXoKa3_SPO2-"
      },
      "execution_count": 10,
      "outputs": []
    },
    {
      "cell_type": "code",
      "source": [
        "def mhd_to_array(path):\n",
        "    \"\"\"\n",
        "    Read an *.mhd file stored in path and return it as a numpy array.\n",
        "    \"\"\"\n",
        "    return sitk.GetArrayFromImage(sitk.ReadImage(path, sitk.sitkFloat32))"
      ],
      "metadata": {
        "id": "0IRetv7BPWp1"
      },
      "execution_count": 11,
      "outputs": []
    },
    {
      "cell_type": "code",
      "source": [
        "image = sitk.GetArrayFromImage(sitk.ReadImage(train_path + \"patient0001_4CH_ED.mhd\", sitk.sitkFloat32))\n",
        "mask = sitk.GetArrayFromImage(sitk.ReadImage(train_path + \"patient0001_4CH_ED_gt.mhd\", sitk.sitkFloat32))"
      ],
      "metadata": {
        "id": "lM1uKRavPbC9"
      },
      "execution_count": 12,
      "outputs": []
    },
    {
      "cell_type": "code",
      "source": [
        "np.shape(image)"
      ],
      "metadata": {
        "colab": {
          "base_uri": "https://localhost:8080/"
        },
        "id": "ycWNR3JbPdX2",
        "outputId": "341ca27c-6c12-4787-bedb-f985603c7226"
      },
      "execution_count": 13,
      "outputs": [
        {
          "output_type": "execute_result",
          "data": {
            "text/plain": [
              "(1, 778, 549)"
            ]
          },
          "metadata": {},
          "execution_count": 13
        }
      ]
    },
    {
      "cell_type": "code",
      "source": [
        "np.shape(mask)"
      ],
      "metadata": {
        "colab": {
          "base_uri": "https://localhost:8080/"
        },
        "id": "SPgoCw7PPfGm",
        "outputId": "9e6236de-a83c-497c-a438-c15b7935292d"
      },
      "execution_count": 14,
      "outputs": [
        {
          "output_type": "execute_result",
          "data": {
            "text/plain": [
              "(1, 778, 549)"
            ]
          },
          "metadata": {},
          "execution_count": 14
        }
      ]
    },
    {
      "cell_type": "code",
      "source": [
        "fig, ax = plt.subplots(2)\n",
        "ax[0].imshow(image[0]) # End Diastolic frame\n",
        "ax[1].imshow(mask[0]) # End Diastolic mask\n",
        "plt.show()"
      ],
      "metadata": {
        "colab": {
          "base_uri": "https://localhost:8080/",
          "height": 541
        },
        "id": "yOtHjdl4Pg4O",
        "outputId": "99f8ddd6-29aa-4231-bd48-1b1fb7ae6f76"
      },
      "execution_count": 15,
      "outputs": [
        {
          "output_type": "display_data",
          "data": {
            "text/plain": [
              "<Figure size 504x648 with 2 Axes>"
            ],
            "image/png": "[encoded data removed]"
          },
          "metadata": {
            "needs_background": "light"
          }
        }
      ]
    },
    {
      "cell_type": "code",
      "source": [
        "image = sitk.GetArrayFromImage(sitk.ReadImage(train_path + \"patient0001_4CH_ES.mhd\", sitk.sitkFloat32))\n",
        "mask = sitk.GetArrayFromImage(sitk.ReadImage(train_path + \"patient0001_4CH_ES_gt.mhd\", sitk.sitkFloat32))"
      ],
      "metadata": {
        "id": "iUzlVDdTeEHZ"
      },
      "execution_count": 16,
      "outputs": []
    },
    {
      "cell_type": "code",
      "source": [
        "np.shape(image)"
      ],
      "metadata": {
        "colab": {
          "base_uri": "https://localhost:8080/"
        },
        "id": "Mqvi41TreJ_S",
        "outputId": "046b3d73-7608-4700-ef15-2e3aabefdff5"
      },
      "execution_count": 17,
      "outputs": [
        {
          "output_type": "execute_result",
          "data": {
            "text/plain": [
              "(1, 778, 549)"
            ]
          },
          "metadata": {},
          "execution_count": 17
        }
      ]
    },
    {
      "cell_type": "code",
      "source": [
        "np.shape(mask)"
      ],
      "metadata": {
        "colab": {
          "base_uri": "https://localhost:8080/"
        },
        "id": "WJHnqupEeK9y",
        "outputId": "cda0e337-f2bd-4877-c356-409dc370bb33"
      },
      "execution_count": 18,
      "outputs": [
        {
          "output_type": "execute_result",
          "data": {
            "text/plain": [
              "(1, 778, 549)"
            ]
          },
          "metadata": {},
          "execution_count": 18
        }
      ]
    },
    {
      "cell_type": "code",
      "source": [
        "fig, ax = plt.subplots(2)\n",
        "ax[0].imshow(image[0]) # End Diastolic frame\n",
        "ax[1].imshow(mask[0]) # End Diastolic mask\n",
        "plt.show()"
      ],
      "metadata": {
        "colab": {
          "base_uri": "https://localhost:8080/",
          "height": 541
        },
        "id": "u5Tjps4TeOeJ",
        "outputId": "f987beec-6a3c-4056-eb4c-a7ab002b5365"
      },
      "execution_count": 19,
      "outputs": [
        {
          "output_type": "display_data",
          "data": {
            "text/plain": [
              "<Figure size 504x648 with 2 Axes>"
            ],
            "image/png": "[encoded data removed]"
          },
          "metadata": {
            "needs_background": "light"
          }
        }
      ]
    },
    {
      "cell_type": "code",
      "source": [
        "# Standard\n",
        "import os\n",
        "import sys\n",
        "import datetime\n",
        "import numpy as np\n",
        "import matplotlib.pyplot as plt\n",
        "# Utils\n",
        "import h5py\n",
        "# Deep Learning\n",
        "from sklearn.model_selection import train_test_split\n",
        "from tensorflow.keras import backend as K\n",
        "from tensorflow.keras.optimizers import Adam\n",
        "from tensorflow.keras.callbacks import EarlyStopping, ReduceLROnPlateau\n",
        "from tensorflow.keras.utils import plot_model"
      ],
      "metadata": {
        "id": "i2ZLe4TUsswb"
      },
      "execution_count": 20,
      "outputs": []
    },
    {
      "cell_type": "code",
      "source": [
        "earlystop = EarlyStopping(monitor='val_multiclass_dice', min_delta=0, patience=5,\n",
        "                          verbose=1, mode=\"max\", restore_best_weights = True)\n",
        "\n",
        "reduce_lr = ReduceLROnPlateau(monitor='val_multiclass_dice', factor=0.2, patience=2,\n",
        "                              verbose=1, mode=\"max\", min_lr=1e-5)"
      ],
      "metadata": {
        "id": "NQpYkrSLjj8j"
      },
      "execution_count": 21,
      "outputs": []
    },
    {
      "cell_type": "code",
      "source": [
        "f = h5py.File(\"gdrive/My Drive/dataset/image_dataset.hdf5\", \"r\")"
      ],
      "metadata": {
        "id": "tKuoJW7ojRdk"
      },
      "execution_count": 22,
      "outputs": []
    },
    {
      "cell_type": "code",
      "source": [
        "frames4ch = f[\"train_4ch_ed_frames\"][:,:,:,:]\n",
        "masks4ch = f[\"train_4ch_ed_masks\"][:,:,:,:]"
      ],
      "metadata": {
        "id": "Z62Lq0tvjVQ6"
      },
      "execution_count": 23,
      "outputs": []
    },
    {
      "cell_type": "code",
      "source": [
        "train_frames, test_frames, train_masks, test_masks = train_test_split(frames4ch, masks4ch)"
      ],
      "metadata": {
        "id": "AVNg0_rKjgyr"
      },
      "execution_count": 24,
      "outputs": []
    },
    {
      "cell_type": "code",
      "source": [
        "model_laddernet = LadderNet(input_size=(384, 384, 1), num_classes=4, filters=20)\n",
        "model_unet = UNet(input_size=(384, 384, 1), depth=5, num_classes=4, filters=10, batch_norm=True)"
      ],
      "metadata": {
        "id": "fdHcS-c1jp_8"
      },
      "execution_count": 25,
      "outputs": []
    },
    {
      "cell_type": "code",
      "source": [
        "model_unet.summary()"
      ],
      "metadata": {
        "id": "sAciEUg8KiA1",
        "colab": {
          "base_uri": "https://localhost:8080/"
        },
        "outputId": "06def68b-e408-4431-9439-1a65a053ee9c"
      },
      "execution_count": 26,
      "outputs": [
        {
          "output_type": "stream",
          "name": "stdout",
          "text": [
            "Model: \"model_1\"\n",
            "__________________________________________________________________________________________________\n",
            " Layer (type)                   Output Shape         Param #     Connected to                     \n",
            "==================================================================================================\n",
            " input_2 (InputLayer)           [(None, 384, 384, 1  0           []                               \n",
            "                                )]                                                                \n",
            "                                                                                                  \n",
            " conv2d_30 (Conv2D)             (None, 384, 384, 10  100         ['input_2[0][0]']                \n",
            "                                )                                                                 \n",
            "                                                                                                  \n",
            " batch_normalization_40 (BatchN  (None, 384, 384, 10  40         ['conv2d_30[0][0]']              \n",
            " ormalization)                  )                                                                 \n",
            "                                                                                                  \n",
            " conv2d_31 (Conv2D)             (None, 384, 384, 10  910         ['batch_normalization_40[0][0]'] \n",
            "                                )                                                                 \n",
            "                                                                                                  \n",
            " batch_normalization_41 (BatchN  (None, 384, 384, 10  40         ['conv2d_31[0][0]']              \n",
            " ormalization)                  )                                                                 \n",
            "                                                                                                  \n",
            " max_pooling2d (MaxPooling2D)   (None, 192, 192, 10  0           ['batch_normalization_41[0][0]'] \n",
            "                                )                                                                 \n",
            "                                                                                                  \n",
            " conv2d_32 (Conv2D)             (None, 192, 192, 20  1820        ['max_pooling2d[0][0]']          \n",
            "                                )                                                                 \n",
            "                                                                                                  \n",
            " batch_normalization_42 (BatchN  (None, 192, 192, 20  80         ['conv2d_32[0][0]']              \n",
            " ormalization)                  )                                                                 \n",
            "                                                                                                  \n",
            " conv2d_33 (Conv2D)             (None, 192, 192, 20  3620        ['batch_normalization_42[0][0]'] \n",
            "                                )                                                                 \n",
            "                                                                                                  \n",
            " batch_normalization_43 (BatchN  (None, 192, 192, 20  80         ['conv2d_33[0][0]']              \n",
            " ormalization)                  )                                                                 \n",
            "                                                                                                  \n",
            " max_pooling2d_1 (MaxPooling2D)  (None, 96, 96, 20)  0           ['batch_normalization_43[0][0]'] \n",
            "                                                                                                  \n",
            " conv2d_34 (Conv2D)             (None, 96, 96, 40)   7240        ['max_pooling2d_1[0][0]']        \n",
            "                                                                                                  \n",
            " batch_normalization_44 (BatchN  (None, 96, 96, 40)  160         ['conv2d_34[0][0]']              \n",
            " ormalization)                                                                                    \n",
            "                                                                                                  \n",
            " conv2d_35 (Conv2D)             (None, 96, 96, 40)   14440       ['batch_normalization_44[0][0]'] \n",
            "                                                                                                  \n",
            " batch_normalization_45 (BatchN  (None, 96, 96, 40)  160         ['conv2d_35[0][0]']              \n",
            " ormalization)                                                                                    \n",
            "                                                                                                  \n",
            " max_pooling2d_2 (MaxPooling2D)  (None, 48, 48, 40)  0           ['batch_normalization_45[0][0]'] \n",
            "                                                                                                  \n",
            " conv2d_36 (Conv2D)             (None, 48, 48, 80)   28880       ['max_pooling2d_2[0][0]']        \n",
            "                                                                                                  \n",
            " batch_normalization_46 (BatchN  (None, 48, 48, 80)  320         ['conv2d_36[0][0]']              \n",
            " ormalization)                                                                                    \n",
            "                                                                                                  \n",
            " conv2d_37 (Conv2D)             (None, 48, 48, 80)   57680       ['batch_normalization_46[0][0]'] \n",
            "                                                                                                  \n",
            " batch_normalization_47 (BatchN  (None, 48, 48, 80)  320         ['conv2d_37[0][0]']              \n",
            " ormalization)                                                                                    \n",
            "                                                                                                  \n",
            " max_pooling2d_3 (MaxPooling2D)  (None, 24, 24, 80)  0           ['batch_normalization_47[0][0]'] \n",
            "                                                                                                  \n",
            " conv2d_38 (Conv2D)             (None, 24, 24, 160)  115360      ['max_pooling2d_3[0][0]']        \n",
            "                                                                                                  \n",
            " batch_normalization_48 (BatchN  (None, 24, 24, 160)  640        ['conv2d_38[0][0]']              \n",
            " ormalization)                                                                                    \n",
            "                                                                                                  \n",
            " conv2d_39 (Conv2D)             (None, 24, 24, 160)  230560      ['batch_normalization_48[0][0]'] \n",
            "                                                                                                  \n",
            " batch_normalization_49 (BatchN  (None, 24, 24, 160)  640        ['conv2d_39[0][0]']              \n",
            " ormalization)                                                                                    \n",
            "                                                                                                  \n",
            " max_pooling2d_4 (MaxPooling2D)  (None, 12, 12, 160)  0          ['batch_normalization_49[0][0]'] \n",
            "                                                                                                  \n",
            " conv2d_40 (Conv2D)             (None, 12, 12, 320)  461120      ['max_pooling2d_4[0][0]']        \n",
            "                                                                                                  \n",
            " batch_normalization_50 (BatchN  (None, 12, 12, 320)  1280       ['conv2d_40[0][0]']              \n",
            " ormalization)                                                                                    \n",
            "                                                                                                  \n",
            " conv2d_41 (Conv2D)             (None, 12, 12, 320)  921920      ['batch_normalization_50[0][0]'] \n",
            "                                                                                                  \n",
            " batch_normalization_51 (BatchN  (None, 12, 12, 320)  1280       ['conv2d_41[0][0]']              \n",
            " ormalization)                                                                                    \n",
            "                                                                                                  \n",
            " up_sampling2d (UpSampling2D)   (None, 24, 24, 320)  0           ['batch_normalization_51[0][0]'] \n",
            "                                                                                                  \n",
            " concatenate (Concatenate)      (None, 24, 24, 480)  0           ['up_sampling2d[0][0]',          \n",
            "                                                                  'batch_normalization_49[0][0]'] \n",
            "                                                                                                  \n",
            " conv2d_42 (Conv2D)             (None, 24, 24, 160)  691360      ['concatenate[0][0]']            \n",
            "                                                                                                  \n",
            " batch_normalization_52 (BatchN  (None, 24, 24, 160)  640        ['conv2d_42[0][0]']              \n",
            " ormalization)                                                                                    \n",
            "                                                                                                  \n",
            " conv2d_43 (Conv2D)             (None, 24, 24, 160)  230560      ['batch_normalization_52[0][0]'] \n",
            "                                                                                                  \n",
            " batch_normalization_53 (BatchN  (None, 24, 24, 160)  640        ['conv2d_43[0][0]']              \n",
            " ormalization)                                                                                    \n",
            "                                                                                                  \n",
            " up_sampling2d_1 (UpSampling2D)  (None, 48, 48, 160)  0          ['batch_normalization_53[0][0]'] \n",
            "                                                                                                  \n",
            " concatenate_1 (Concatenate)    (None, 48, 48, 240)  0           ['up_sampling2d_1[0][0]',        \n",
            "                                                                  'batch_normalization_47[0][0]'] \n",
            "                                                                                                  \n",
            " conv2d_44 (Conv2D)             (None, 48, 48, 80)   172880      ['concatenate_1[0][0]']          \n",
            "                                                                                                  \n",
            " batch_normalization_54 (BatchN  (None, 48, 48, 80)  320         ['conv2d_44[0][0]']              \n",
            " ormalization)                                                                                    \n",
            "                                                                                                  \n",
            " conv2d_45 (Conv2D)             (None, 48, 48, 80)   57680       ['batch_normalization_54[0][0]'] \n",
            "                                                                                                  \n",
            " batch_normalization_55 (BatchN  (None, 48, 48, 80)  320         ['conv2d_45[0][0]']              \n",
            " ormalization)                                                                                    \n",
            "                                                                                                  \n",
            " up_sampling2d_2 (UpSampling2D)  (None, 96, 96, 80)  0           ['batch_normalization_55[0][0]'] \n",
            "                                                                                                  \n",
            " concatenate_2 (Concatenate)    (None, 96, 96, 120)  0           ['up_sampling2d_2[0][0]',        \n",
            "                                                                  'batch_normalization_45[0][0]'] \n",
            "                                                                                                  \n",
            " conv2d_46 (Conv2D)             (None, 96, 96, 40)   43240       ['concatenate_2[0][0]']          \n",
            "                                                                                                  \n",
            " batch_normalization_56 (BatchN  (None, 96, 96, 40)  160         ['conv2d_46[0][0]']              \n",
            " ormalization)                                                                                    \n",
            "                                                                                                  \n",
            " conv2d_47 (Conv2D)             (None, 96, 96, 40)   14440       ['batch_normalization_56[0][0]'] \n",
            "                                                                                                  \n",
            " batch_normalization_57 (BatchN  (None, 96, 96, 40)  160         ['conv2d_47[0][0]']              \n",
            " ormalization)                                                                                    \n",
            "                                                                                                  \n",
            " up_sampling2d_3 (UpSampling2D)  (None, 192, 192, 40  0          ['batch_normalization_57[0][0]'] \n",
            "                                )                                                                 \n",
            "                                                                                                  \n",
            " concatenate_3 (Concatenate)    (None, 192, 192, 60  0           ['up_sampling2d_3[0][0]',        \n",
            "                                )                                 'batch_normalization_43[0][0]'] \n",
            "                                                                                                  \n",
            " conv2d_48 (Conv2D)             (None, 192, 192, 20  10820       ['concatenate_3[0][0]']          \n",
            "                                )                                                                 \n",
            "                                                                                                  \n",
            " batch_normalization_58 (BatchN  (None, 192, 192, 20  80         ['conv2d_48[0][0]']              \n",
            " ormalization)                  )                                                                 \n",
            "                                                                                                  \n",
            " conv2d_49 (Conv2D)             (None, 192, 192, 20  3620        ['batch_normalization_58[0][0]'] \n",
            "                                )                                                                 \n",
            "                                                                                                  \n",
            " batch_normalization_59 (BatchN  (None, 192, 192, 20  80         ['conv2d_49[0][0]']              \n",
            " ormalization)                  )                                                                 \n",
            "                                                                                                  \n",
            " up_sampling2d_4 (UpSampling2D)  (None, 384, 384, 20  0          ['batch_normalization_59[0][0]'] \n",
            "                                )                                                                 \n",
            "                                                                                                  \n",
            " concatenate_4 (Concatenate)    (None, 384, 384, 30  0           ['up_sampling2d_4[0][0]',        \n",
            "                                )                                 'batch_normalization_41[0][0]'] \n",
            "                                                                                                  \n",
            " conv2d_50 (Conv2D)             (None, 384, 384, 10  2710        ['concatenate_4[0][0]']          \n",
            "                                )                                                                 \n",
            "                                                                                                  \n",
            " batch_normalization_60 (BatchN  (None, 384, 384, 10  40         ['conv2d_50[0][0]']              \n",
            " ormalization)                  )                                                                 \n",
            "                                                                                                  \n",
            " conv2d_51 (Conv2D)             (None, 384, 384, 10  910         ['batch_normalization_60[0][0]'] \n",
            "                                )                                                                 \n",
            "                                                                                                  \n",
            " batch_normalization_61 (BatchN  (None, 384, 384, 10  40         ['conv2d_51[0][0]']              \n",
            " ormalization)                  )                                                                 \n",
            "                                                                                                  \n",
            " conv2d_52 (Conv2D)             (None, 384, 384, 4)  44          ['batch_normalization_61[0][0]'] \n",
            "                                                                                                  \n",
            " batch_normalization_62 (BatchN  (None, 384, 384, 4)  16         ['conv2d_52[0][0]']              \n",
            " ormalization)                                                                                    \n",
            "                                                                                                  \n",
            " activation_29 (Activation)     (None, 384, 384, 4)  0           ['batch_normalization_62[0][0]'] \n",
            "                                                                                                  \n",
            "==================================================================================================\n",
            "Total params: 3,079,450\n",
            "Trainable params: 3,075,682\n",
            "Non-trainable params: 3,768\n",
            "__________________________________________________________________________________________________\n"
          ]
        }
      ]
    },
    {
      "cell_type": "code",
      "source": [
        "model_laddernet.summary()"
      ],
      "metadata": {
        "id": "_NnxZ6uSSpoo",
        "colab": {
          "base_uri": "https://localhost:8080/"
        },
        "outputId": "b21d699f-af1f-499b-fb33-8922ae71f1e9"
      },
      "execution_count": 27,
      "outputs": [
        {
          "output_type": "stream",
          "name": "stdout",
          "text": [
            "Model: \"model\"\n",
            "__________________________________________________________________________________________________\n",
            " Layer (type)                   Output Shape         Param #     Connected to                     \n",
            "==================================================================================================\n",
            " input_1 (InputLayer)           [(None, 384, 384, 1  0           []                               \n",
            "                                )]                                                                \n",
            "                                                                                                  \n",
            " conv2d (Conv2D)                (None, 384, 384, 20  200         ['input_1[0][0]']                \n",
            "                                )                                                                 \n",
            "                                                                                                  \n",
            " conv2d_1 (Conv2D)              (None, 384, 384, 20  3620        ['conv2d[0][0]',                 \n",
            "                                )                                 'dropout[0][0]']                \n",
            "                                                                                                  \n",
            " batch_normalization (BatchNorm  (None, 384, 384, 20  80         ['conv2d_1[0][0]']               \n",
            " alization)                     )                                                                 \n",
            "                                                                                                  \n",
            " activation (Activation)        (None, 384, 384, 20  0           ['batch_normalization[0][0]']    \n",
            "                                )                                                                 \n",
            "                                                                                                  \n",
            " dropout (Dropout)              (None, 384, 384, 20  0           ['activation[0][0]']             \n",
            "                                )                                                                 \n",
            "                                                                                                  \n",
            " batch_normalization_1 (BatchNo  (None, 384, 384, 20  80         ['conv2d_1[1][0]']               \n",
            " rmalization)                   )                                                                 \n",
            "                                                                                                  \n",
            " conv2d_2 (Conv2D)              (None, 191, 191, 40  7240        ['batch_normalization_1[0][0]']  \n",
            "                                )                                                                 \n",
            "                                                                                                  \n",
            " activation_1 (Activation)      (None, 191, 191, 40  0           ['conv2d_2[0][0]']               \n",
            "                                )                                                                 \n",
            "                                                                                                  \n",
            " conv2d_3 (Conv2D)              (None, 191, 191, 40  14440       ['activation_1[0][0]',           \n",
            "                                )                                 'dropout_1[0][0]']              \n",
            "                                                                                                  \n",
            " batch_normalization_2 (BatchNo  (None, 191, 191, 40  160        ['conv2d_3[0][0]']               \n",
            " rmalization)                   )                                                                 \n",
            "                                                                                                  \n",
            " activation_2 (Activation)      (None, 191, 191, 40  0           ['batch_normalization_2[0][0]']  \n",
            "                                )                                                                 \n",
            "                                                                                                  \n",
            " dropout_1 (Dropout)            (None, 191, 191, 40  0           ['activation_2[0][0]']           \n",
            "                                )                                                                 \n",
            "                                                                                                  \n",
            " batch_normalization_3 (BatchNo  (None, 191, 191, 40  160        ['conv2d_3[1][0]']               \n",
            " rmalization)                   )                                                                 \n",
            "                                                                                                  \n",
            " conv2d_4 (Conv2D)              (None, 95, 95, 80)   28880       ['batch_normalization_3[0][0]']  \n",
            "                                                                                                  \n",
            " activation_3 (Activation)      (None, 95, 95, 80)   0           ['conv2d_4[0][0]']               \n",
            "                                                                                                  \n",
            " conv2d_5 (Conv2D)              (None, 95, 95, 80)   57680       ['activation_3[0][0]',           \n",
            "                                                                  'dropout_2[0][0]']              \n",
            "                                                                                                  \n",
            " batch_normalization_4 (BatchNo  (None, 95, 95, 80)  320         ['conv2d_5[0][0]']               \n",
            " rmalization)                                                                                     \n",
            "                                                                                                  \n",
            " activation_4 (Activation)      (None, 95, 95, 80)   0           ['batch_normalization_4[0][0]']  \n",
            "                                                                                                  \n",
            " dropout_2 (Dropout)            (None, 95, 95, 80)   0           ['activation_4[0][0]']           \n",
            "                                                                                                  \n",
            " batch_normalization_5 (BatchNo  (None, 95, 95, 80)  320         ['conv2d_5[1][0]']               \n",
            " rmalization)                                                                                     \n",
            "                                                                                                  \n",
            " conv2d_6 (Conv2D)              (None, 47, 47, 160)  115360      ['batch_normalization_5[0][0]']  \n",
            "                                                                                                  \n",
            " activation_5 (Activation)      (None, 47, 47, 160)  0           ['conv2d_6[0][0]']               \n",
            "                                                                                                  \n",
            " conv2d_7 (Conv2D)              (None, 47, 47, 160)  230560      ['activation_5[0][0]',           \n",
            "                                                                  'dropout_3[0][0]']              \n",
            "                                                                                                  \n",
            " batch_normalization_6 (BatchNo  (None, 47, 47, 160)  640        ['conv2d_7[0][0]']               \n",
            " rmalization)                                                                                     \n",
            "                                                                                                  \n",
            " activation_6 (Activation)      (None, 47, 47, 160)  0           ['batch_normalization_6[0][0]']  \n",
            "                                                                                                  \n",
            " dropout_3 (Dropout)            (None, 47, 47, 160)  0           ['activation_6[0][0]']           \n",
            "                                                                                                  \n",
            " batch_normalization_7 (BatchNo  (None, 47, 47, 160)  640        ['conv2d_7[1][0]']               \n",
            " rmalization)                                                                                     \n",
            "                                                                                                  \n",
            " conv2d_8 (Conv2D)              (None, 23, 23, 320)  461120      ['batch_normalization_7[0][0]']  \n",
            "                                                                                                  \n",
            " activation_7 (Activation)      (None, 23, 23, 320)  0           ['conv2d_8[0][0]']               \n",
            "                                                                                                  \n",
            " conv2d_9 (Conv2D)              (None, 23, 23, 320)  921920      ['activation_7[0][0]',           \n",
            "                                                                  'dropout_4[0][0]']              \n",
            "                                                                                                  \n",
            " batch_normalization_8 (BatchNo  (None, 23, 23, 320)  1280       ['conv2d_9[0][0]']               \n",
            " rmalization)                                                                                     \n",
            "                                                                                                  \n",
            " activation_8 (Activation)      (None, 23, 23, 320)  0           ['batch_normalization_8[0][0]']  \n",
            "                                                                                                  \n",
            " dropout_4 (Dropout)            (None, 23, 23, 320)  0           ['activation_8[0][0]']           \n",
            "                                                                                                  \n",
            " batch_normalization_9 (BatchNo  (None, 23, 23, 320)  1280       ['conv2d_9[1][0]']               \n",
            " rmalization)                                                                                     \n",
            "                                                                                                  \n",
            " conv2d_transpose (Conv2DTransp  (None, 47, 47, 160)  460960     ['batch_normalization_9[0][0]']  \n",
            " ose)                                                                                             \n",
            "                                                                                                  \n",
            " add (Add)                      (None, 47, 47, 160)  0           ['conv2d_transpose[0][0]',       \n",
            "                                                                  'batch_normalization_7[0][0]']  \n",
            "                                                                                                  \n",
            " conv2d_10 (Conv2D)             (None, 47, 47, 160)  230560      ['add[0][0]',                    \n",
            "                                                                  'dropout_5[0][0]']              \n",
            "                                                                                                  \n",
            " batch_normalization_10 (BatchN  (None, 47, 47, 160)  640        ['conv2d_10[0][0]']              \n",
            " ormalization)                                                                                    \n",
            "                                                                                                  \n",
            " activation_9 (Activation)      (None, 47, 47, 160)  0           ['batch_normalization_10[0][0]'] \n",
            "                                                                                                  \n",
            " dropout_5 (Dropout)            (None, 47, 47, 160)  0           ['activation_9[0][0]']           \n",
            "                                                                                                  \n",
            " batch_normalization_11 (BatchN  (None, 47, 47, 160)  640        ['conv2d_10[1][0]']              \n",
            " ormalization)                                                                                    \n",
            "                                                                                                  \n",
            " conv2d_transpose_1 (Conv2DTran  (None, 95, 95, 80)  115280      ['batch_normalization_11[0][0]'] \n",
            " spose)                                                                                           \n",
            "                                                                                                  \n",
            " add_1 (Add)                    (None, 95, 95, 80)   0           ['conv2d_transpose_1[0][0]',     \n",
            "                                                                  'batch_normalization_5[0][0]']  \n",
            "                                                                                                  \n",
            " conv2d_11 (Conv2D)             (None, 95, 95, 80)   57680       ['add_1[0][0]',                  \n",
            "                                                                  'dropout_6[0][0]']              \n",
            "                                                                                                  \n",
            " batch_normalization_12 (BatchN  (None, 95, 95, 80)  320         ['conv2d_11[0][0]']              \n",
            " ormalization)                                                                                    \n",
            "                                                                                                  \n",
            " activation_10 (Activation)     (None, 95, 95, 80)   0           ['batch_normalization_12[0][0]'] \n",
            "                                                                                                  \n",
            " dropout_6 (Dropout)            (None, 95, 95, 80)   0           ['activation_10[0][0]']          \n",
            "                                                                                                  \n",
            " batch_normalization_13 (BatchN  (None, 95, 95, 80)  320         ['conv2d_11[1][0]']              \n",
            " ormalization)                                                                                    \n",
            "                                                                                                  \n",
            " conv2d_transpose_2 (Conv2DTran  (None, 191, 191, 40  28840      ['batch_normalization_13[0][0]'] \n",
            " spose)                         )                                                                 \n",
            "                                                                                                  \n",
            " add_2 (Add)                    (None, 191, 191, 40  0           ['conv2d_transpose_2[0][0]',     \n",
            "                                )                                 'batch_normalization_3[0][0]']  \n",
            "                                                                                                  \n",
            " conv2d_12 (Conv2D)             (None, 191, 191, 40  14440       ['add_2[0][0]',                  \n",
            "                                )                                 'dropout_7[0][0]']              \n",
            "                                                                                                  \n",
            " batch_normalization_14 (BatchN  (None, 191, 191, 40  160        ['conv2d_12[0][0]']              \n",
            " ormalization)                  )                                                                 \n",
            "                                                                                                  \n",
            " activation_11 (Activation)     (None, 191, 191, 40  0           ['batch_normalization_14[0][0]'] \n",
            "                                )                                                                 \n",
            "                                                                                                  \n",
            " dropout_7 (Dropout)            (None, 191, 191, 40  0           ['activation_11[0][0]']          \n",
            "                                )                                                                 \n",
            "                                                                                                  \n",
            " batch_normalization_15 (BatchN  (None, 191, 191, 40  160        ['conv2d_12[1][0]']              \n",
            " ormalization)                  )                                                                 \n",
            "                                                                                                  \n",
            " conv2d_transpose_3 (Conv2DTran  (None, 384, 384, 20  7220       ['batch_normalization_15[0][0]'] \n",
            " spose)                         )                                                                 \n",
            "                                                                                                  \n",
            " add_3 (Add)                    (None, 384, 384, 20  0           ['conv2d_transpose_3[0][0]',     \n",
            "                                )                                 'batch_normalization_1[0][0]']  \n",
            "                                                                                                  \n",
            " conv2d_13 (Conv2D)             (None, 384, 384, 20  3620        ['add_3[0][0]',                  \n",
            "                                )                                 'dropout_8[0][0]']              \n",
            "                                                                                                  \n",
            " batch_normalization_16 (BatchN  (None, 384, 384, 20  80         ['conv2d_13[0][0]']              \n",
            " ormalization)                  )                                                                 \n",
            "                                                                                                  \n",
            " activation_12 (Activation)     (None, 384, 384, 20  0           ['batch_normalization_16[0][0]'] \n",
            "                                )                                                                 \n",
            "                                                                                                  \n",
            " dropout_8 (Dropout)            (None, 384, 384, 20  0           ['activation_12[0][0]']          \n",
            "                                )                                                                 \n",
            "                                                                                                  \n",
            " batch_normalization_17 (BatchN  (None, 384, 384, 20  80         ['conv2d_13[1][0]']              \n",
            " ormalization)                  )                                                                 \n",
            "                                                                                                  \n",
            " conv2d_15 (Conv2D)             (None, 384, 384, 20  3620        ['batch_normalization_17[0][0]', \n",
            "                                )                                 'dropout_10[0][0]']             \n",
            "                                                                                                  \n",
            " conv2d_14 (Conv2D)             (None, 384, 384, 20  3620        ['batch_normalization_17[0][0]', \n",
            "                                )                                 'dropout_9[0][0]']              \n",
            "                                                                                                  \n",
            " batch_normalization_20 (BatchN  (None, 384, 384, 20  80         ['conv2d_15[0][0]']              \n",
            " ormalization)                  )                                                                 \n",
            "                                                                                                  \n",
            " batch_normalization_18 (BatchN  (None, 384, 384, 20  80         ['conv2d_14[0][0]']              \n",
            " ormalization)                  )                                                                 \n",
            "                                                                                                  \n",
            " activation_14 (Activation)     (None, 384, 384, 20  0           ['batch_normalization_20[0][0]'] \n",
            "                                )                                                                 \n",
            "                                                                                                  \n",
            " activation_13 (Activation)     (None, 384, 384, 20  0           ['batch_normalization_18[0][0]'] \n",
            "                                )                                                                 \n",
            "                                                                                                  \n",
            " dropout_10 (Dropout)           (None, 384, 384, 20  0           ['activation_14[0][0]']          \n",
            "                                )                                                                 \n",
            "                                                                                                  \n",
            " dropout_9 (Dropout)            (None, 384, 384, 20  0           ['activation_13[0][0]']          \n",
            "                                )                                                                 \n",
            "                                                                                                  \n",
            " batch_normalization_21 (BatchN  (None, 384, 384, 20  80         ['conv2d_15[1][0]']              \n",
            " ormalization)                  )                                                                 \n",
            "                                                                                                  \n",
            " batch_normalization_19 (BatchN  (None, 384, 384, 20  80         ['conv2d_14[1][0]']              \n",
            " ormalization)                  )                                                                 \n",
            "                                                                                                  \n",
            " add_4 (Add)                    (None, 384, 384, 20  0           ['batch_normalization_21[0][0]', \n",
            "                                )                                 'batch_normalization_19[0][0]'] \n",
            "                                                                                                  \n",
            " conv2d_17 (Conv2D)             (None, 191, 191, 40  7240        ['add_4[0][0]']                  \n",
            "                                )                                                                 \n",
            "                                                                                                  \n",
            " activation_16 (Activation)     (None, 191, 191, 40  0           ['conv2d_17[0][0]']              \n",
            "                                )                                                                 \n",
            "                                                                                                  \n",
            " add_5 (Add)                    (None, 191, 191, 40  0           ['batch_normalization_15[0][0]', \n",
            "                                )                                 'activation_16[0][0]']          \n",
            "                                                                                                  \n",
            " conv2d_19 (Conv2D)             (None, 95, 95, 80)   28880       ['add_5[0][0]']                  \n",
            "                                                                                                  \n",
            " activation_18 (Activation)     (None, 95, 95, 80)   0           ['conv2d_19[0][0]']              \n",
            "                                                                                                  \n",
            " add_6 (Add)                    (None, 95, 95, 80)   0           ['batch_normalization_13[0][0]', \n",
            "                                                                  'activation_18[0][0]']          \n",
            "                                                                                                  \n",
            " conv2d_21 (Conv2D)             (None, 47, 47, 160)  115360      ['add_6[0][0]']                  \n",
            "                                                                                                  \n",
            " activation_20 (Activation)     (None, 47, 47, 160)  0           ['conv2d_21[0][0]']              \n",
            "                                                                                                  \n",
            " add_7 (Add)                    (None, 47, 47, 160)  0           ['batch_normalization_11[0][0]', \n",
            "                                                                  'activation_20[0][0]']          \n",
            "                                                                                                  \n",
            " conv2d_23 (Conv2D)             (None, 23, 23, 320)  461120      ['add_7[0][0]']                  \n",
            "                                                                                                  \n",
            " activation_22 (Activation)     (None, 23, 23, 320)  0           ['conv2d_23[0][0]']              \n",
            "                                                                                                  \n",
            " conv2d_24 (Conv2D)             (None, 23, 23, 320)  921920      ['activation_22[0][0]',          \n",
            "                                                                  'dropout_15[0][0]']             \n",
            "                                                                                                  \n",
            " batch_normalization_30 (BatchN  (None, 23, 23, 320)  1280       ['conv2d_24[0][0]']              \n",
            " ormalization)                                                                                    \n",
            "                                                                                                  \n",
            " conv2d_22 (Conv2D)             (None, 47, 47, 160)  230560      ['add_7[0][0]',                  \n",
            "                                                                  'dropout_14[0][0]']             \n",
            "                                                                                                  \n",
            " activation_23 (Activation)     (None, 23, 23, 320)  0           ['batch_normalization_30[0][0]'] \n",
            "                                                                                                  \n",
            " batch_normalization_28 (BatchN  (None, 47, 47, 160)  640        ['conv2d_22[0][0]']              \n",
            " ormalization)                                                                                    \n",
            "                                                                                                  \n",
            " dropout_15 (Dropout)           (None, 23, 23, 320)  0           ['activation_23[0][0]']          \n",
            "                                                                                                  \n",
            " activation_21 (Activation)     (None, 47, 47, 160)  0           ['batch_normalization_28[0][0]'] \n",
            "                                                                                                  \n",
            " dropout_14 (Dropout)           (None, 47, 47, 160)  0           ['activation_21[0][0]']          \n",
            "                                                                                                  \n",
            " batch_normalization_31 (BatchN  (None, 23, 23, 320)  1280       ['conv2d_24[1][0]']              \n",
            " ormalization)                                                                                    \n",
            "                                                                                                  \n",
            " conv2d_transpose_4 (Conv2DTran  (None, 47, 47, 160)  460960     ['batch_normalization_31[0][0]'] \n",
            " spose)                                                                                           \n",
            "                                                                                                  \n",
            " batch_normalization_29 (BatchN  (None, 47, 47, 160)  640        ['conv2d_22[1][0]']              \n",
            " ormalization)                                                                                    \n",
            "                                                                                                  \n",
            " add_8 (Add)                    (None, 47, 47, 160)  0           ['conv2d_transpose_4[0][0]',     \n",
            "                                                                  'batch_normalization_29[0][0]'] \n",
            "                                                                                                  \n",
            " conv2d_25 (Conv2D)             (None, 47, 47, 160)  230560      ['add_8[0][0]',                  \n",
            "                                                                  'dropout_16[0][0]']             \n",
            "                                                                                                  \n",
            " batch_normalization_32 (BatchN  (None, 47, 47, 160)  640        ['conv2d_25[0][0]']              \n",
            " ormalization)                                                                                    \n",
            "                                                                                                  \n",
            " conv2d_20 (Conv2D)             (None, 95, 95, 80)   57680       ['add_6[0][0]',                  \n",
            "                                                                  'dropout_13[0][0]']             \n",
            "                                                                                                  \n",
            " activation_24 (Activation)     (None, 47, 47, 160)  0           ['batch_normalization_32[0][0]'] \n",
            "                                                                                                  \n",
            " batch_normalization_26 (BatchN  (None, 95, 95, 80)  320         ['conv2d_20[0][0]']              \n",
            " ormalization)                                                                                    \n",
            "                                                                                                  \n",
            " dropout_16 (Dropout)           (None, 47, 47, 160)  0           ['activation_24[0][0]']          \n",
            "                                                                                                  \n",
            " activation_19 (Activation)     (None, 95, 95, 80)   0           ['batch_normalization_26[0][0]'] \n",
            "                                                                                                  \n",
            " dropout_13 (Dropout)           (None, 95, 95, 80)   0           ['activation_19[0][0]']          \n",
            "                                                                                                  \n",
            " batch_normalization_33 (BatchN  (None, 47, 47, 160)  640        ['conv2d_25[1][0]']              \n",
            " ormalization)                                                                                    \n",
            "                                                                                                  \n",
            " conv2d_transpose_5 (Conv2DTran  (None, 95, 95, 80)  115280      ['batch_normalization_33[0][0]'] \n",
            " spose)                                                                                           \n",
            "                                                                                                  \n",
            " batch_normalization_27 (BatchN  (None, 95, 95, 80)  320         ['conv2d_20[1][0]']              \n",
            " ormalization)                                                                                    \n",
            "                                                                                                  \n",
            " add_9 (Add)                    (None, 95, 95, 80)   0           ['conv2d_transpose_5[0][0]',     \n",
            "                                                                  'batch_normalization_27[0][0]'] \n",
            "                                                                                                  \n",
            " conv2d_26 (Conv2D)             (None, 95, 95, 80)   57680       ['add_9[0][0]',                  \n",
            "                                                                  'dropout_17[0][0]']             \n",
            "                                                                                                  \n",
            " batch_normalization_34 (BatchN  (None, 95, 95, 80)  320         ['conv2d_26[0][0]']              \n",
            " ormalization)                                                                                    \n",
            "                                                                                                  \n",
            " conv2d_18 (Conv2D)             (None, 191, 191, 40  14440       ['add_5[0][0]',                  \n",
            "                                )                                 'dropout_12[0][0]']             \n",
            "                                                                                                  \n",
            " activation_25 (Activation)     (None, 95, 95, 80)   0           ['batch_normalization_34[0][0]'] \n",
            "                                                                                                  \n",
            " batch_normalization_24 (BatchN  (None, 191, 191, 40  160        ['conv2d_18[0][0]']              \n",
            " ormalization)                  )                                                                 \n",
            "                                                                                                  \n",
            " dropout_17 (Dropout)           (None, 95, 95, 80)   0           ['activation_25[0][0]']          \n",
            "                                                                                                  \n",
            " activation_17 (Activation)     (None, 191, 191, 40  0           ['batch_normalization_24[0][0]'] \n",
            "                                )                                                                 \n",
            "                                                                                                  \n",
            " dropout_12 (Dropout)           (None, 191, 191, 40  0           ['activation_17[0][0]']          \n",
            "                                )                                                                 \n",
            "                                                                                                  \n",
            " batch_normalization_35 (BatchN  (None, 95, 95, 80)  320         ['conv2d_26[1][0]']              \n",
            " ormalization)                                                                                    \n",
            "                                                                                                  \n",
            " conv2d_transpose_6 (Conv2DTran  (None, 191, 191, 40  28840      ['batch_normalization_35[0][0]'] \n",
            " spose)                         )                                                                 \n",
            "                                                                                                  \n",
            " batch_normalization_25 (BatchN  (None, 191, 191, 40  160        ['conv2d_18[1][0]']              \n",
            " ormalization)                  )                                                                 \n",
            "                                                                                                  \n",
            " add_10 (Add)                   (None, 191, 191, 40  0           ['conv2d_transpose_6[0][0]',     \n",
            "                                )                                 'batch_normalization_25[0][0]'] \n",
            "                                                                                                  \n",
            " conv2d_27 (Conv2D)             (None, 191, 191, 40  14440       ['add_10[0][0]',                 \n",
            "                                )                                 'dropout_18[0][0]']             \n",
            "                                                                                                  \n",
            " batch_normalization_36 (BatchN  (None, 191, 191, 40  160        ['conv2d_27[0][0]']              \n",
            " ormalization)                  )                                                                 \n",
            "                                                                                                  \n",
            " conv2d_16 (Conv2D)             (None, 384, 384, 20  3620        ['add_4[0][0]',                  \n",
            "                                )                                 'dropout_11[0][0]']             \n",
            "                                                                                                  \n",
            " activation_26 (Activation)     (None, 191, 191, 40  0           ['batch_normalization_36[0][0]'] \n",
            "                                )                                                                 \n",
            "                                                                                                  \n",
            " batch_normalization_22 (BatchN  (None, 384, 384, 20  80         ['conv2d_16[0][0]']              \n",
            " ormalization)                  )                                                                 \n",
            "                                                                                                  \n",
            " dropout_18 (Dropout)           (None, 191, 191, 40  0           ['activation_26[0][0]']          \n",
            "                                )                                                                 \n",
            "                                                                                                  \n",
            " activation_15 (Activation)     (None, 384, 384, 20  0           ['batch_normalization_22[0][0]'] \n",
            "                                )                                                                 \n",
            "                                                                                                  \n",
            " dropout_11 (Dropout)           (None, 384, 384, 20  0           ['activation_15[0][0]']          \n",
            "                                )                                                                 \n",
            "                                                                                                  \n",
            " batch_normalization_37 (BatchN  (None, 191, 191, 40  160        ['conv2d_27[1][0]']              \n",
            " ormalization)                  )                                                                 \n",
            "                                                                                                  \n",
            " conv2d_transpose_7 (Conv2DTran  (None, 384, 384, 20  7220       ['batch_normalization_37[0][0]'] \n",
            " spose)                         )                                                                 \n",
            "                                                                                                  \n",
            " batch_normalization_23 (BatchN  (None, 384, 384, 20  80         ['conv2d_16[1][0]']              \n",
            " ormalization)                  )                                                                 \n",
            "                                                                                                  \n",
            " add_11 (Add)                   (None, 384, 384, 20  0           ['conv2d_transpose_7[0][0]',     \n",
            "                                )                                 'batch_normalization_23[0][0]'] \n",
            "                                                                                                  \n",
            " conv2d_28 (Conv2D)             (None, 384, 384, 20  3620        ['add_11[0][0]',                 \n",
            "                                )                                 'dropout_19[0][0]']             \n",
            "                                                                                                  \n",
            " batch_normalization_38 (BatchN  (None, 384, 384, 20  80         ['conv2d_28[0][0]']              \n",
            " ormalization)                  )                                                                 \n",
            "                                                                                                  \n",
            " activation_27 (Activation)     (None, 384, 384, 20  0           ['batch_normalization_38[0][0]'] \n",
            "                                )                                                                 \n",
            "                                                                                                  \n",
            " dropout_19 (Dropout)           (None, 384, 384, 20  0           ['activation_27[0][0]']          \n",
            "                                )                                                                 \n",
            "                                                                                                  \n",
            " batch_normalization_39 (BatchN  (None, 384, 384, 20  80         ['conv2d_28[1][0]']              \n",
            " ormalization)                  )                                                                 \n",
            "                                                                                                  \n",
            " conv2d_29 (Conv2D)             (None, 384, 384, 4)  84          ['batch_normalization_39[0][0]'] \n",
            "                                                                                                  \n",
            " activation_28 (Activation)     (None, 384, 384, 4)  0           ['conv2d_29[0][0]']              \n",
            "                                                                                                  \n",
            "==================================================================================================\n",
            "Total params: 5,541,404\n",
            "Trainable params: 5,533,884\n",
            "Non-trainable params: 7,520\n",
            "__________________________________________________________________________________________________\n"
          ]
        }
      ]
    },
    {
      "cell_type": "code",
      "source": [
        "model_laddernet.compile(optimizer=Adam(learning_rate=1e-3), loss=\"sparse_categorical_crossentropy\", metrics=[multiclass_dice, \"accuracy\"])"
      ],
      "metadata": {
        "id": "nreu1w5Sjjib"
      },
      "execution_count": 28,
      "outputs": []
    },
    {
      "cell_type": "code",
      "source": [
        "model_laddernet.fit(x=train_frames,\n",
        "                    y=train_masks,\n",
        "                    validation_data=[test_frames, test_masks],\n",
        "                    batch_size=5,\n",
        "                    epochs=150,\n",
        "                    callbacks=[earlystop, reduce_lr])"
      ],
      "metadata": {
        "colab": {
          "base_uri": "https://localhost:8080/",
          "height": 394
        },
        "id": "4WQ9127je8yq",
        "outputId": "923ee59f-5a27-4279-ffea-f759d9c2bfda"
      },
      "execution_count": null,
      "outputs": [
        {
          "output_type": "error",
          "ename": "KeyboardInterrupt",
          "evalue": "ignored",
          "traceback": [
            "\u001b[0;31m---------------------------------------------------------------------------\u001b[0m",
            "\u001b[0;31mKeyboardInterrupt\u001b[0m                         Traceback (most recent call last)",
            "\u001b[0;32m<ipython-input-25-e56583e95dc2>\u001b[0m in \u001b[0;36m<module>\u001b[0;34m\u001b[0m\n\u001b[0;32m----> 1\u001b[0;31m model_laddernet.fit(x=train_frames,\n\u001b[0m\u001b[1;32m      2\u001b[0m                     \u001b[0my\u001b[0m\u001b[0;34m=\u001b[0m\u001b[0mtrain_masks\u001b[0m\u001b[0;34m,\u001b[0m\u001b[0;34m\u001b[0m\u001b[0;34m\u001b[0m\u001b[0m\n\u001b[1;32m      3\u001b[0m                     \u001b[0mvalidation_data\u001b[0m\u001b[0;34m=\u001b[0m\u001b[0;34m[\u001b[0m\u001b[0mtest_frames\u001b[0m\u001b[0;34m,\u001b[0m \u001b[0mtest_masks\u001b[0m\u001b[0;34m]\u001b[0m\u001b[0;34m,\u001b[0m\u001b[0;34m\u001b[0m\u001b[0;34m\u001b[0m\u001b[0m\n\u001b[1;32m      4\u001b[0m                     \u001b[0mbatch_size\u001b[0m\u001b[0;34m=\u001b[0m\u001b[0;36m5\u001b[0m\u001b[0;34m,\u001b[0m\u001b[0;34m\u001b[0m\u001b[0;34m\u001b[0m\u001b[0m\n\u001b[1;32m      5\u001b[0m                     \u001b[0mepochs\u001b[0m\u001b[0;34m=\u001b[0m\u001b[0;36m10\u001b[0m\u001b[0;34m,\u001b[0m\u001b[0;34m\u001b[0m\u001b[0;34m\u001b[0m\u001b[0m\n",
            "\u001b[0;32m/usr/local/lib/python3.8/dist-packages/keras/utils/traceback_utils.py\u001b[0m in \u001b[0;36merror_handler\u001b[0;34m(*args, **kwargs)\u001b[0m\n\u001b[1;32m     63\u001b[0m         \u001b[0mfiltered_tb\u001b[0m \u001b[0;34m=\u001b[0m \u001b[0;32mNone\u001b[0m\u001b[0;34m\u001b[0m\u001b[0;34m\u001b[0m\u001b[0m\n\u001b[1;32m     64\u001b[0m         \u001b[0;32mtry\u001b[0m\u001b[0;34m:\u001b[0m\u001b[0;34m\u001b[0m\u001b[0;34m\u001b[0m\u001b[0m\n\u001b[0;32m---> 65\u001b[0;31m             \u001b[0;32mreturn\u001b[0m \u001b[0mfn\u001b[0m\u001b[0;34m(\u001b[0m\u001b[0;34m*\u001b[0m\u001b[0margs\u001b[0m\u001b[0;34m,\u001b[0m \u001b[0;34m**\u001b[0m\u001b[0mkwargs\u001b[0m\u001b[0;34m)\u001b[0m\u001b[0;34m\u001b[0m\u001b[0;34m\u001b[0m\u001b[0m\n\u001b[0m\u001b[1;32m     66\u001b[0m         \u001b[0;32mexcept\u001b[0m \u001b[0mException\u001b[0m \u001b[0;32mas\u001b[0m \u001b[0me\u001b[0m\u001b[0;34m:\u001b[0m\u001b[0;34m\u001b[0m\u001b[0;34m\u001b[0m\u001b[0m\n\u001b[1;32m     67\u001b[0m             \u001b[0mfiltered_tb\u001b[0m \u001b[0;34m=\u001b[0m \u001b[0m_process_traceback_frames\u001b[0m\u001b[0;34m(\u001b[0m\u001b[0me\u001b[0m\u001b[0;34m.\u001b[0m\u001b[0m__traceback__\u001b[0m\u001b[0;34m)\u001b[0m\u001b[0;34m\u001b[0m\u001b[0;34m\u001b[0m\u001b[0m\n",
            "\u001b[0;32m/usr/local/lib/python3.8/dist-packages/keras/engine/training.py\u001b[0m in \u001b[0;36mfit\u001b[0;34m(self, x, y, batch_size, epochs, verbose, callbacks, validation_split, validation_data, shuffle, class_weight, sample_weight, initial_epoch, steps_per_epoch, validation_steps, validation_batch_size, validation_freq, max_queue_size, workers, use_multiprocessing)\u001b[0m\n\u001b[1;32m   1588\u001b[0m         ):\n\u001b[1;32m   1589\u001b[0m             \u001b[0;31m# Creates a `tf.data.Dataset` and handles batch and epoch iteration.\u001b[0m\u001b[0;34m\u001b[0m\u001b[0;34m\u001b[0m\u001b[0;34m\u001b[0m\u001b[0m\n\u001b[0;32m-> 1590\u001b[0;31m             data_handler = data_adapter.get_data_handler(\n\u001b[0m\u001b[1;32m   1591\u001b[0m                 \u001b[0mx\u001b[0m\u001b[0;34m=\u001b[0m\u001b[0mx\u001b[0m\u001b[0;34m,\u001b[0m\u001b[0;34m\u001b[0m\u001b[0;34m\u001b[0m\u001b[0m\n\u001b[1;32m   1592\u001b[0m                 \u001b[0my\u001b[0m\u001b[0;34m=\u001b[0m\u001b[0my\u001b[0m\u001b[0;34m,\u001b[0m\u001b[0;34m\u001b[0m\u001b[0;34m\u001b[0m\u001b[0m\n",
            "\u001b[0;32m/usr/local/lib/python3.8/dist-packages/keras/engine/data_adapter.py\u001b[0m in \u001b[0;36mget_data_handler\u001b[0;34m(*args, **kwargs)\u001b[0m\n\u001b[1;32m   1577\u001b[0m     \u001b[0;32mif\u001b[0m \u001b[0mgetattr\u001b[0m\u001b[0;34m(\u001b[0m\u001b[0mkwargs\u001b[0m\u001b[0;34m[\u001b[0m\u001b[0;34m\"model\"\u001b[0m\u001b[0;34m]\u001b[0m\u001b[0;34m,\u001b[0m \u001b[0;34m\"_cluster_coordinator\"\u001b[0m\u001b[0;34m,\u001b[0m \u001b[0;32mNone\u001b[0m\u001b[0;34m)\u001b[0m\u001b[0;34m:\u001b[0m\u001b[0;34m\u001b[0m\u001b[0;34m\u001b[0m\u001b[0m\n\u001b[1;32m   1578\u001b[0m         \u001b[0;32mreturn\u001b[0m \u001b[0m_ClusterCoordinatorDataHandler\u001b[0m\u001b[0;34m(\u001b[0m\u001b[0;34m*\u001b[0m\u001b[0margs\u001b[0m\u001b[0;34m,\u001b[0m \u001b[0;34m**\u001b[0m\u001b[0mkwargs\u001b[0m\u001b[0;34m)\u001b[0m\u001b[0;34m\u001b[0m\u001b[0;34m\u001b[0m\u001b[0m\n\u001b[0;32m-> 1579\u001b[0;31m     \u001b[0;32mreturn\u001b[0m \u001b[0mDataHandler\u001b[0m\u001b[0;34m(\u001b[0m\u001b[0;34m*\u001b[0m\u001b[0margs\u001b[0m\u001b[0;34m,\u001b[0m \u001b[0;34m**\u001b[0m\u001b[0mkwargs\u001b[0m\u001b[0;34m)\u001b[0m\u001b[0;34m\u001b[0m\u001b[0;34m\u001b[0m\u001b[0m\n\u001b[0m\u001b[1;32m   1580\u001b[0m \u001b[0;34m\u001b[0m\u001b[0m\n\u001b[1;32m   1581\u001b[0m \u001b[0;34m\u001b[0m\u001b[0m\n",
            "\u001b[0;32m/usr/local/lib/python3.8/dist-packages/keras/engine/data_adapter.py\u001b[0m in \u001b[0;36m__init__\u001b[0;34m(self, x, y, sample_weight, batch_size, steps_per_epoch, initial_epoch, epochs, shuffle, class_weight, max_queue_size, workers, use_multiprocessing, model, steps_per_execution, distribute)\u001b[0m\n\u001b[1;32m   1257\u001b[0m \u001b[0;34m\u001b[0m\u001b[0m\n\u001b[1;32m   1258\u001b[0m         \u001b[0madapter_cls\u001b[0m \u001b[0;34m=\u001b[0m \u001b[0mselect_data_adapter\u001b[0m\u001b[0;34m(\u001b[0m\u001b[0mx\u001b[0m\u001b[0;34m,\u001b[0m \u001b[0my\u001b[0m\u001b[0;34m)\u001b[0m\u001b[0;34m\u001b[0m\u001b[0;34m\u001b[0m\u001b[0m\n\u001b[0;32m-> 1259\u001b[0;31m         self._adapter = adapter_cls(\n\u001b[0m\u001b[1;32m   1260\u001b[0m             \u001b[0mx\u001b[0m\u001b[0;34m,\u001b[0m\u001b[0;34m\u001b[0m\u001b[0;34m\u001b[0m\u001b[0m\n\u001b[1;32m   1261\u001b[0m             \u001b[0my\u001b[0m\u001b[0;34m,\u001b[0m\u001b[0;34m\u001b[0m\u001b[0;34m\u001b[0m\u001b[0m\n",
            "\u001b[0;32m/usr/local/lib/python3.8/dist-packages/keras/engine/data_adapter.py\u001b[0m in \u001b[0;36m__init__\u001b[0;34m(self, x, y, sample_weights, sample_weight_modes, batch_size, epochs, steps, shuffle, **kwargs)\u001b[0m\n\u001b[1;32m    243\u001b[0m     ):\n\u001b[1;32m    244\u001b[0m         \u001b[0msuper\u001b[0m\u001b[0;34m(\u001b[0m\u001b[0;34m)\u001b[0m\u001b[0;34m.\u001b[0m\u001b[0m__init__\u001b[0m\u001b[0;34m(\u001b[0m\u001b[0mx\u001b[0m\u001b[0;34m,\u001b[0m \u001b[0my\u001b[0m\u001b[0;34m,\u001b[0m \u001b[0;34m**\u001b[0m\u001b[0mkwargs\u001b[0m\u001b[0;34m)\u001b[0m\u001b[0;34m\u001b[0m\u001b[0;34m\u001b[0m\u001b[0m\n\u001b[0;32m--> 245\u001b[0;31m         \u001b[0mx\u001b[0m\u001b[0;34m,\u001b[0m \u001b[0my\u001b[0m\u001b[0;34m,\u001b[0m \u001b[0msample_weights\u001b[0m \u001b[0;34m=\u001b[0m \u001b[0m_process_tensorlike\u001b[0m\u001b[0;34m(\u001b[0m\u001b[0;34m(\u001b[0m\u001b[0mx\u001b[0m\u001b[0;34m,\u001b[0m \u001b[0my\u001b[0m\u001b[0;34m,\u001b[0m \u001b[0msample_weights\u001b[0m\u001b[0;34m)\u001b[0m\u001b[0;34m)\u001b[0m\u001b[0;34m\u001b[0m\u001b[0;34m\u001b[0m\u001b[0m\n\u001b[0m\u001b[1;32m    246\u001b[0m         sample_weight_modes = broadcast_sample_weight_modes(\n\u001b[1;32m    247\u001b[0m             \u001b[0msample_weights\u001b[0m\u001b[0;34m,\u001b[0m \u001b[0msample_weight_modes\u001b[0m\u001b[0;34m\u001b[0m\u001b[0;34m\u001b[0m\u001b[0m\n",
            "\u001b[0;32m/usr/local/lib/python3.8/dist-packages/keras/engine/data_adapter.py\u001b[0m in \u001b[0;36m_process_tensorlike\u001b[0;34m(inputs)\u001b[0m\n\u001b[1;32m   1137\u001b[0m         \u001b[0;32mreturn\u001b[0m \u001b[0mx\u001b[0m\u001b[0;34m\u001b[0m\u001b[0;34m\u001b[0m\u001b[0m\n\u001b[1;32m   1138\u001b[0m \u001b[0;34m\u001b[0m\u001b[0m\n\u001b[0;32m-> 1139\u001b[0;31m     \u001b[0minputs\u001b[0m \u001b[0;34m=\u001b[0m \u001b[0mtf\u001b[0m\u001b[0;34m.\u001b[0m\u001b[0mnest\u001b[0m\u001b[0;34m.\u001b[0m\u001b[0mmap_structure\u001b[0m\u001b[0;34m(\u001b[0m\u001b[0m_convert_single_tensor\u001b[0m\u001b[0;34m,\u001b[0m \u001b[0minputs\u001b[0m\u001b[0;34m)\u001b[0m\u001b[0;34m\u001b[0m\u001b[0;34m\u001b[0m\u001b[0m\n\u001b[0m\u001b[1;32m   1140\u001b[0m     \u001b[0;32mreturn\u001b[0m \u001b[0mtf\u001b[0m\u001b[0;34m.\u001b[0m\u001b[0m__internal__\u001b[0m\u001b[0;34m.\u001b[0m\u001b[0mnest\u001b[0m\u001b[0;34m.\u001b[0m\u001b[0mlist_to_tuple\u001b[0m\u001b[0;34m(\u001b[0m\u001b[0minputs\u001b[0m\u001b[0;34m)\u001b[0m\u001b[0;34m\u001b[0m\u001b[0;34m\u001b[0m\u001b[0m\n\u001b[1;32m   1141\u001b[0m \u001b[0;34m\u001b[0m\u001b[0m\n",
            "\u001b[0;32m/usr/local/lib/python3.8/dist-packages/tensorflow/python/util/nest.py\u001b[0m in \u001b[0;36mmap_structure\u001b[0;34m(func, *structure, **kwargs)\u001b[0m\n\u001b[1;32m    915\u001b[0m \u001b[0;34m\u001b[0m\u001b[0m\n\u001b[1;32m    916\u001b[0m   return pack_sequence_as(\n\u001b[0;32m--> 917\u001b[0;31m       \u001b[0mstructure\u001b[0m\u001b[0;34m[\u001b[0m\u001b[0;36m0\u001b[0m\u001b[0;34m]\u001b[0m\u001b[0;34m,\u001b[0m \u001b[0;34m[\u001b[0m\u001b[0mfunc\u001b[0m\u001b[0;34m(\u001b[0m\u001b[0;34m*\u001b[0m\u001b[0mx\u001b[0m\u001b[0;34m)\u001b[0m \u001b[0;32mfor\u001b[0m \u001b[0mx\u001b[0m \u001b[0;32min\u001b[0m \u001b[0mentries\u001b[0m\u001b[0;34m]\u001b[0m\u001b[0;34m,\u001b[0m\u001b[0;34m\u001b[0m\u001b[0;34m\u001b[0m\u001b[0m\n\u001b[0m\u001b[1;32m    918\u001b[0m       expand_composites=expand_composites)\n\u001b[1;32m    919\u001b[0m \u001b[0;34m\u001b[0m\u001b[0m\n",
            "\u001b[0;32m/usr/local/lib/python3.8/dist-packages/tensorflow/python/util/nest.py\u001b[0m in \u001b[0;36m<listcomp>\u001b[0;34m(.0)\u001b[0m\n\u001b[1;32m    915\u001b[0m \u001b[0;34m\u001b[0m\u001b[0m\n\u001b[1;32m    916\u001b[0m   return pack_sequence_as(\n\u001b[0;32m--> 917\u001b[0;31m       \u001b[0mstructure\u001b[0m\u001b[0;34m[\u001b[0m\u001b[0;36m0\u001b[0m\u001b[0;34m]\u001b[0m\u001b[0;34m,\u001b[0m \u001b[0;34m[\u001b[0m\u001b[0mfunc\u001b[0m\u001b[0;34m(\u001b[0m\u001b[0;34m*\u001b[0m\u001b[0mx\u001b[0m\u001b[0;34m)\u001b[0m \u001b[0;32mfor\u001b[0m \u001b[0mx\u001b[0m \u001b[0;32min\u001b[0m \u001b[0mentries\u001b[0m\u001b[0;34m]\u001b[0m\u001b[0;34m,\u001b[0m\u001b[0;34m\u001b[0m\u001b[0;34m\u001b[0m\u001b[0m\n\u001b[0m\u001b[1;32m    918\u001b[0m       expand_composites=expand_composites)\n\u001b[1;32m    919\u001b[0m \u001b[0;34m\u001b[0m\u001b[0m\n",
            "\u001b[0;32m/usr/local/lib/python3.8/dist-packages/keras/engine/data_adapter.py\u001b[0m in \u001b[0;36m_convert_single_tensor\u001b[0;34m(x)\u001b[0m\n\u001b[1;32m   1132\u001b[0m             \u001b[0;32mif\u001b[0m \u001b[0missubclass\u001b[0m\u001b[0;34m(\u001b[0m\u001b[0mx\u001b[0m\u001b[0;34m.\u001b[0m\u001b[0mdtype\u001b[0m\u001b[0;34m.\u001b[0m\u001b[0mtype\u001b[0m\u001b[0;34m,\u001b[0m \u001b[0mnp\u001b[0m\u001b[0;34m.\u001b[0m\u001b[0mfloating\u001b[0m\u001b[0;34m)\u001b[0m\u001b[0;34m:\u001b[0m\u001b[0;34m\u001b[0m\u001b[0;34m\u001b[0m\u001b[0m\n\u001b[1;32m   1133\u001b[0m                 \u001b[0mdtype\u001b[0m \u001b[0;34m=\u001b[0m \u001b[0mbackend\u001b[0m\u001b[0;34m.\u001b[0m\u001b[0mfloatx\u001b[0m\u001b[0;34m(\u001b[0m\u001b[0;34m)\u001b[0m\u001b[0;34m\u001b[0m\u001b[0;34m\u001b[0m\u001b[0m\n\u001b[0;32m-> 1134\u001b[0;31m             \u001b[0;32mreturn\u001b[0m \u001b[0mtf\u001b[0m\u001b[0;34m.\u001b[0m\u001b[0mconvert_to_tensor\u001b[0m\u001b[0;34m(\u001b[0m\u001b[0mx\u001b[0m\u001b[0;34m,\u001b[0m \u001b[0mdtype\u001b[0m\u001b[0;34m=\u001b[0m\u001b[0mdtype\u001b[0m\u001b[0;34m)\u001b[0m\u001b[0;34m\u001b[0m\u001b[0;34m\u001b[0m\u001b[0m\n\u001b[0m\u001b[1;32m   1135\u001b[0m         \u001b[0;32melif\u001b[0m \u001b[0m_is_scipy_sparse\u001b[0m\u001b[0;34m(\u001b[0m\u001b[0mx\u001b[0m\u001b[0;34m)\u001b[0m\u001b[0;34m:\u001b[0m\u001b[0;34m\u001b[0m\u001b[0;34m\u001b[0m\u001b[0m\n\u001b[1;32m   1136\u001b[0m             \u001b[0;32mreturn\u001b[0m \u001b[0m_scipy_sparse_to_sparse_tensor\u001b[0m\u001b[0;34m(\u001b[0m\u001b[0mx\u001b[0m\u001b[0;34m)\u001b[0m\u001b[0;34m\u001b[0m\u001b[0;34m\u001b[0m\u001b[0m\n",
            "\u001b[0;32m/usr/local/lib/python3.8/dist-packages/tensorflow/python/util/traceback_utils.py\u001b[0m in \u001b[0;36merror_handler\u001b[0;34m(*args, **kwargs)\u001b[0m\n\u001b[1;32m    148\u001b[0m     \u001b[0mfiltered_tb\u001b[0m \u001b[0;34m=\u001b[0m \u001b[0;32mNone\u001b[0m\u001b[0;34m\u001b[0m\u001b[0;34m\u001b[0m\u001b[0m\n\u001b[1;32m    149\u001b[0m     \u001b[0;32mtry\u001b[0m\u001b[0;34m:\u001b[0m\u001b[0;34m\u001b[0m\u001b[0;34m\u001b[0m\u001b[0m\n\u001b[0;32m--> 150\u001b[0;31m       \u001b[0;32mreturn\u001b[0m \u001b[0mfn\u001b[0m\u001b[0;34m(\u001b[0m\u001b[0;34m*\u001b[0m\u001b[0margs\u001b[0m\u001b[0;34m,\u001b[0m \u001b[0;34m**\u001b[0m\u001b[0mkwargs\u001b[0m\u001b[0;34m)\u001b[0m\u001b[0;34m\u001b[0m\u001b[0;34m\u001b[0m\u001b[0m\n\u001b[0m\u001b[1;32m    151\u001b[0m     \u001b[0;32mexcept\u001b[0m \u001b[0mException\u001b[0m \u001b[0;32mas\u001b[0m \u001b[0me\u001b[0m\u001b[0;34m:\u001b[0m\u001b[0;34m\u001b[0m\u001b[0;34m\u001b[0m\u001b[0m\n\u001b[1;32m    152\u001b[0m       \u001b[0mfiltered_tb\u001b[0m \u001b[0;34m=\u001b[0m \u001b[0m_process_traceback_frames\u001b[0m\u001b[0;34m(\u001b[0m\u001b[0me\u001b[0m\u001b[0;34m.\u001b[0m\u001b[0m__traceback__\u001b[0m\u001b[0;34m)\u001b[0m\u001b[0;34m\u001b[0m\u001b[0;34m\u001b[0m\u001b[0m\n",
            "\u001b[0;32m/usr/local/lib/python3.8/dist-packages/tensorflow/python/util/dispatch.py\u001b[0m in \u001b[0;36mop_dispatch_handler\u001b[0;34m(*args, **kwargs)\u001b[0m\n\u001b[1;32m   1174\u001b[0m       \u001b[0;31m# Fallback dispatch system (dispatch v1):\u001b[0m\u001b[0;34m\u001b[0m\u001b[0;34m\u001b[0m\u001b[0;34m\u001b[0m\u001b[0m\n\u001b[1;32m   1175\u001b[0m       \u001b[0;32mtry\u001b[0m\u001b[0;34m:\u001b[0m\u001b[0;34m\u001b[0m\u001b[0;34m\u001b[0m\u001b[0m\n\u001b[0;32m-> 1176\u001b[0;31m         \u001b[0;32mreturn\u001b[0m \u001b[0mdispatch_target\u001b[0m\u001b[0;34m(\u001b[0m\u001b[0;34m*\u001b[0m\u001b[0margs\u001b[0m\u001b[0;34m,\u001b[0m \u001b[0;34m**\u001b[0m\u001b[0mkwargs\u001b[0m\u001b[0;34m)\u001b[0m\u001b[0;34m\u001b[0m\u001b[0;34m\u001b[0m\u001b[0m\n\u001b[0m\u001b[1;32m   1177\u001b[0m       \u001b[0;32mexcept\u001b[0m \u001b[0;34m(\u001b[0m\u001b[0mTypeError\u001b[0m\u001b[0;34m,\u001b[0m \u001b[0mValueError\u001b[0m\u001b[0;34m)\u001b[0m\u001b[0;34m:\u001b[0m\u001b[0;34m\u001b[0m\u001b[0;34m\u001b[0m\u001b[0m\n\u001b[1;32m   1178\u001b[0m         \u001b[0;31m# Note: convert_to_eager_tensor currently raises a ValueError, not a\u001b[0m\u001b[0;34m\u001b[0m\u001b[0;34m\u001b[0m\u001b[0;34m\u001b[0m\u001b[0m\n",
            "\u001b[0;32m/usr/local/lib/python3.8/dist-packages/tensorflow/python/framework/ops.py\u001b[0m in \u001b[0;36mconvert_to_tensor_v2_with_dispatch\u001b[0;34m(value, dtype, dtype_hint, name)\u001b[0m\n\u001b[1;32m   1488\u001b[0m     \u001b[0mValueError\u001b[0m\u001b[0;34m:\u001b[0m \u001b[0mIf\u001b[0m \u001b[0mthe\u001b[0m\u001b[0;31m \u001b[0m\u001b[0;31m`\u001b[0m\u001b[0mvalue\u001b[0m\u001b[0;31m`\u001b[0m \u001b[0;32mis\u001b[0m \u001b[0ma\u001b[0m \u001b[0mtensor\u001b[0m \u001b[0;32mnot\u001b[0m \u001b[0mof\u001b[0m \u001b[0mgiven\u001b[0m\u001b[0;31m \u001b[0m\u001b[0;31m`\u001b[0m\u001b[0mdtype\u001b[0m\u001b[0;31m`\u001b[0m \u001b[0;32min\u001b[0m \u001b[0mgraph\u001b[0m \u001b[0mmode\u001b[0m\u001b[0;34m.\u001b[0m\u001b[0;34m\u001b[0m\u001b[0;34m\u001b[0m\u001b[0m\n\u001b[1;32m   1489\u001b[0m   \"\"\"\n\u001b[0;32m-> 1490\u001b[0;31m   return convert_to_tensor_v2(\n\u001b[0m\u001b[1;32m   1491\u001b[0m       value, dtype=dtype, dtype_hint=dtype_hint, name=name)\n\u001b[1;32m   1492\u001b[0m \u001b[0;34m\u001b[0m\u001b[0m\n",
            "\u001b[0;32m/usr/local/lib/python3.8/dist-packages/tensorflow/python/framework/ops.py\u001b[0m in \u001b[0;36mconvert_to_tensor_v2\u001b[0;34m(value, dtype, dtype_hint, name)\u001b[0m\n\u001b[1;32m   1494\u001b[0m \u001b[0;32mdef\u001b[0m \u001b[0mconvert_to_tensor_v2\u001b[0m\u001b[0;34m(\u001b[0m\u001b[0mvalue\u001b[0m\u001b[0;34m,\u001b[0m \u001b[0mdtype\u001b[0m\u001b[0;34m=\u001b[0m\u001b[0;32mNone\u001b[0m\u001b[0;34m,\u001b[0m \u001b[0mdtype_hint\u001b[0m\u001b[0;34m=\u001b[0m\u001b[0;32mNone\u001b[0m\u001b[0;34m,\u001b[0m \u001b[0mname\u001b[0m\u001b[0;34m=\u001b[0m\u001b[0;32mNone\u001b[0m\u001b[0;34m)\u001b[0m\u001b[0;34m:\u001b[0m\u001b[0;34m\u001b[0m\u001b[0;34m\u001b[0m\u001b[0m\n\u001b[1;32m   1495\u001b[0m   \u001b[0;34m\"\"\"Converts the given `value` to a `Tensor`.\"\"\"\u001b[0m\u001b[0;34m\u001b[0m\u001b[0;34m\u001b[0m\u001b[0m\n\u001b[0;32m-> 1496\u001b[0;31m   return convert_to_tensor(\n\u001b[0m\u001b[1;32m   1497\u001b[0m       \u001b[0mvalue\u001b[0m\u001b[0;34m=\u001b[0m\u001b[0mvalue\u001b[0m\u001b[0;34m,\u001b[0m\u001b[0;34m\u001b[0m\u001b[0;34m\u001b[0m\u001b[0m\n\u001b[1;32m   1498\u001b[0m       \u001b[0mdtype\u001b[0m\u001b[0;34m=\u001b[0m\u001b[0mdtype\u001b[0m\u001b[0;34m,\u001b[0m\u001b[0;34m\u001b[0m\u001b[0;34m\u001b[0m\u001b[0m\n",
            "\u001b[0;32m/usr/local/lib/python3.8/dist-packages/tensorflow/python/profiler/trace.py\u001b[0m in \u001b[0;36mwrapped\u001b[0;34m(*args, **kwargs)\u001b[0m\n\u001b[1;32m    181\u001b[0m         \u001b[0;32mwith\u001b[0m \u001b[0mTrace\u001b[0m\u001b[0;34m(\u001b[0m\u001b[0mtrace_name\u001b[0m\u001b[0;34m,\u001b[0m \u001b[0;34m**\u001b[0m\u001b[0mtrace_kwargs\u001b[0m\u001b[0;34m)\u001b[0m\u001b[0;34m:\u001b[0m\u001b[0;34m\u001b[0m\u001b[0;34m\u001b[0m\u001b[0m\n\u001b[1;32m    182\u001b[0m           \u001b[0;32mreturn\u001b[0m \u001b[0mfunc\u001b[0m\u001b[0;34m(\u001b[0m\u001b[0;34m*\u001b[0m\u001b[0margs\u001b[0m\u001b[0;34m,\u001b[0m \u001b[0;34m**\u001b[0m\u001b[0mkwargs\u001b[0m\u001b[0;34m)\u001b[0m\u001b[0;34m\u001b[0m\u001b[0;34m\u001b[0m\u001b[0m\n\u001b[0;32m--> 183\u001b[0;31m       \u001b[0;32mreturn\u001b[0m \u001b[0mfunc\u001b[0m\u001b[0;34m(\u001b[0m\u001b[0;34m*\u001b[0m\u001b[0margs\u001b[0m\u001b[0;34m,\u001b[0m \u001b[0;34m**\u001b[0m\u001b[0mkwargs\u001b[0m\u001b[0;34m)\u001b[0m\u001b[0;34m\u001b[0m\u001b[0;34m\u001b[0m\u001b[0m\n\u001b[0m\u001b[1;32m    184\u001b[0m \u001b[0;34m\u001b[0m\u001b[0m\n\u001b[1;32m    185\u001b[0m     \u001b[0;32mreturn\u001b[0m \u001b[0mwrapped\u001b[0m\u001b[0;34m\u001b[0m\u001b[0;34m\u001b[0m\u001b[0m\n",
            "\u001b[0;32m/usr/local/lib/python3.8/dist-packages/tensorflow/python/framework/ops.py\u001b[0m in \u001b[0;36mconvert_to_tensor\u001b[0;34m(value, dtype, name, as_ref, preferred_dtype, dtype_hint, ctx, accepted_result_types)\u001b[0m\n\u001b[1;32m   1634\u001b[0m \u001b[0;34m\u001b[0m\u001b[0m\n\u001b[1;32m   1635\u001b[0m     \u001b[0;32mif\u001b[0m \u001b[0mret\u001b[0m \u001b[0;32mis\u001b[0m \u001b[0;32mNone\u001b[0m\u001b[0;34m:\u001b[0m\u001b[0;34m\u001b[0m\u001b[0;34m\u001b[0m\u001b[0m\n\u001b[0;32m-> 1636\u001b[0;31m       \u001b[0mret\u001b[0m \u001b[0;34m=\u001b[0m \u001b[0mconversion_func\u001b[0m\u001b[0;34m(\u001b[0m\u001b[0mvalue\u001b[0m\u001b[0;34m,\u001b[0m \u001b[0mdtype\u001b[0m\u001b[0;34m=\u001b[0m\u001b[0mdtype\u001b[0m\u001b[0;34m,\u001b[0m \u001b[0mname\u001b[0m\u001b[0;34m=\u001b[0m\u001b[0mname\u001b[0m\u001b[0;34m,\u001b[0m \u001b[0mas_ref\u001b[0m\u001b[0;34m=\u001b[0m\u001b[0mas_ref\u001b[0m\u001b[0;34m)\u001b[0m\u001b[0;34m\u001b[0m\u001b[0;34m\u001b[0m\u001b[0m\n\u001b[0m\u001b[1;32m   1637\u001b[0m \u001b[0;34m\u001b[0m\u001b[0m\n\u001b[1;32m   1638\u001b[0m     \u001b[0;32mif\u001b[0m \u001b[0mret\u001b[0m \u001b[0;32mis\u001b[0m \u001b[0mNotImplemented\u001b[0m\u001b[0;34m:\u001b[0m\u001b[0;34m\u001b[0m\u001b[0;34m\u001b[0m\u001b[0m\n",
            "\u001b[0;32m/usr/local/lib/python3.8/dist-packages/tensorflow/python/framework/tensor_conversion_registry.py\u001b[0m in \u001b[0;36m_default_conversion_function\u001b[0;34m(***failed resolving arguments***)\u001b[0m\n\u001b[1;32m     46\u001b[0m \u001b[0;32mdef\u001b[0m \u001b[0m_default_conversion_function\u001b[0m\u001b[0;34m(\u001b[0m\u001b[0mvalue\u001b[0m\u001b[0;34m,\u001b[0m \u001b[0mdtype\u001b[0m\u001b[0;34m,\u001b[0m \u001b[0mname\u001b[0m\u001b[0;34m,\u001b[0m \u001b[0mas_ref\u001b[0m\u001b[0;34m)\u001b[0m\u001b[0;34m:\u001b[0m\u001b[0;34m\u001b[0m\u001b[0;34m\u001b[0m\u001b[0m\n\u001b[1;32m     47\u001b[0m   \u001b[0;32mdel\u001b[0m \u001b[0mas_ref\u001b[0m  \u001b[0;31m# Unused.\u001b[0m\u001b[0;34m\u001b[0m\u001b[0;34m\u001b[0m\u001b[0m\n\u001b[0;32m---> 48\u001b[0;31m   \u001b[0;32mreturn\u001b[0m \u001b[0mconstant_op\u001b[0m\u001b[0;34m.\u001b[0m\u001b[0mconstant\u001b[0m\u001b[0;34m(\u001b[0m\u001b[0mvalue\u001b[0m\u001b[0;34m,\u001b[0m \u001b[0mdtype\u001b[0m\u001b[0;34m,\u001b[0m \u001b[0mname\u001b[0m\u001b[0;34m=\u001b[0m\u001b[0mname\u001b[0m\u001b[0;34m)\u001b[0m\u001b[0;34m\u001b[0m\u001b[0;34m\u001b[0m\u001b[0m\n\u001b[0m\u001b[1;32m     49\u001b[0m \u001b[0;34m\u001b[0m\u001b[0m\n\u001b[1;32m     50\u001b[0m \u001b[0;34m\u001b[0m\u001b[0m\n",
            "\u001b[0;32m/usr/local/lib/python3.8/dist-packages/tensorflow/python/framework/constant_op.py\u001b[0m in \u001b[0;36mconstant\u001b[0;34m(value, dtype, shape, name)\u001b[0m\n\u001b[1;32m    265\u001b[0m     \u001b[0mValueError\u001b[0m\u001b[0;34m:\u001b[0m \u001b[0;32mif\u001b[0m \u001b[0mcalled\u001b[0m \u001b[0mon\u001b[0m \u001b[0ma\u001b[0m \u001b[0msymbolic\u001b[0m \u001b[0mtensor\u001b[0m\u001b[0;34m.\u001b[0m\u001b[0;34m\u001b[0m\u001b[0;34m\u001b[0m\u001b[0m\n\u001b[1;32m    266\u001b[0m   \"\"\"\n\u001b[0;32m--> 267\u001b[0;31m   return _constant_impl(value, dtype, shape, name, verify_shape=False,\n\u001b[0m\u001b[1;32m    268\u001b[0m                         allow_broadcast=True)\n\u001b[1;32m    269\u001b[0m \u001b[0;34m\u001b[0m\u001b[0m\n",
            "\u001b[0;32m/usr/local/lib/python3.8/dist-packages/tensorflow/python/framework/constant_op.py\u001b[0m in \u001b[0;36m_constant_impl\u001b[0;34m(value, dtype, shape, name, verify_shape, allow_broadcast)\u001b[0m\n\u001b[1;32m    277\u001b[0m       \u001b[0;32mwith\u001b[0m \u001b[0mtrace\u001b[0m\u001b[0;34m.\u001b[0m\u001b[0mTrace\u001b[0m\u001b[0;34m(\u001b[0m\u001b[0;34m\"tf.constant\"\u001b[0m\u001b[0;34m)\u001b[0m\u001b[0;34m:\u001b[0m\u001b[0;34m\u001b[0m\u001b[0;34m\u001b[0m\u001b[0m\n\u001b[1;32m    278\u001b[0m         \u001b[0;32mreturn\u001b[0m \u001b[0m_constant_eager_impl\u001b[0m\u001b[0;34m(\u001b[0m\u001b[0mctx\u001b[0m\u001b[0;34m,\u001b[0m \u001b[0mvalue\u001b[0m\u001b[0;34m,\u001b[0m \u001b[0mdtype\u001b[0m\u001b[0;34m,\u001b[0m \u001b[0mshape\u001b[0m\u001b[0;34m,\u001b[0m \u001b[0mverify_shape\u001b[0m\u001b[0;34m)\u001b[0m\u001b[0;34m\u001b[0m\u001b[0;34m\u001b[0m\u001b[0m\n\u001b[0;32m--> 279\u001b[0;31m     \u001b[0;32mreturn\u001b[0m \u001b[0m_constant_eager_impl\u001b[0m\u001b[0;34m(\u001b[0m\u001b[0mctx\u001b[0m\u001b[0;34m,\u001b[0m \u001b[0mvalue\u001b[0m\u001b[0;34m,\u001b[0m \u001b[0mdtype\u001b[0m\u001b[0;34m,\u001b[0m \u001b[0mshape\u001b[0m\u001b[0;34m,\u001b[0m \u001b[0mverify_shape\u001b[0m\u001b[0;34m)\u001b[0m\u001b[0;34m\u001b[0m\u001b[0;34m\u001b[0m\u001b[0m\n\u001b[0m\u001b[1;32m    280\u001b[0m \u001b[0;34m\u001b[0m\u001b[0m\n\u001b[1;32m    281\u001b[0m   \u001b[0mg\u001b[0m \u001b[0;34m=\u001b[0m \u001b[0mops\u001b[0m\u001b[0;34m.\u001b[0m\u001b[0mget_default_graph\u001b[0m\u001b[0;34m(\u001b[0m\u001b[0;34m)\u001b[0m\u001b[0;34m\u001b[0m\u001b[0;34m\u001b[0m\u001b[0m\n",
            "\u001b[0;32m/usr/local/lib/python3.8/dist-packages/tensorflow/python/framework/constant_op.py\u001b[0m in \u001b[0;36m_constant_eager_impl\u001b[0;34m(ctx, value, dtype, shape, verify_shape)\u001b[0m\n\u001b[1;32m    302\u001b[0m \u001b[0;32mdef\u001b[0m \u001b[0m_constant_eager_impl\u001b[0m\u001b[0;34m(\u001b[0m\u001b[0mctx\u001b[0m\u001b[0;34m,\u001b[0m \u001b[0mvalue\u001b[0m\u001b[0;34m,\u001b[0m \u001b[0mdtype\u001b[0m\u001b[0;34m,\u001b[0m \u001b[0mshape\u001b[0m\u001b[0;34m,\u001b[0m \u001b[0mverify_shape\u001b[0m\u001b[0;34m)\u001b[0m\u001b[0;34m:\u001b[0m\u001b[0;34m\u001b[0m\u001b[0;34m\u001b[0m\u001b[0m\n\u001b[1;32m    303\u001b[0m   \u001b[0;34m\"\"\"Creates a constant on the current device.\"\"\"\u001b[0m\u001b[0;34m\u001b[0m\u001b[0;34m\u001b[0m\u001b[0m\n\u001b[0;32m--> 304\u001b[0;31m   \u001b[0mt\u001b[0m \u001b[0;34m=\u001b[0m \u001b[0mconvert_to_eager_tensor\u001b[0m\u001b[0;34m(\u001b[0m\u001b[0mvalue\u001b[0m\u001b[0;34m,\u001b[0m \u001b[0mctx\u001b[0m\u001b[0;34m,\u001b[0m \u001b[0mdtype\u001b[0m\u001b[0;34m)\u001b[0m\u001b[0;34m\u001b[0m\u001b[0;34m\u001b[0m\u001b[0m\n\u001b[0m\u001b[1;32m    305\u001b[0m   \u001b[0;32mif\u001b[0m \u001b[0mshape\u001b[0m \u001b[0;32mis\u001b[0m \u001b[0;32mNone\u001b[0m\u001b[0;34m:\u001b[0m\u001b[0;34m\u001b[0m\u001b[0;34m\u001b[0m\u001b[0m\n\u001b[1;32m    306\u001b[0m     \u001b[0;32mreturn\u001b[0m \u001b[0mt\u001b[0m\u001b[0;34m\u001b[0m\u001b[0;34m\u001b[0m\u001b[0m\n",
            "\u001b[0;32m/usr/local/lib/python3.8/dist-packages/tensorflow/python/framework/constant_op.py\u001b[0m in \u001b[0;36mconvert_to_eager_tensor\u001b[0;34m(value, ctx, dtype)\u001b[0m\n\u001b[1;32m    100\u001b[0m       \u001b[0mdtype\u001b[0m \u001b[0;34m=\u001b[0m \u001b[0mdtypes\u001b[0m\u001b[0;34m.\u001b[0m\u001b[0mas_dtype\u001b[0m\u001b[0;34m(\u001b[0m\u001b[0mdtype\u001b[0m\u001b[0;34m)\u001b[0m\u001b[0;34m.\u001b[0m\u001b[0mas_datatype_enum\u001b[0m\u001b[0;34m\u001b[0m\u001b[0;34m\u001b[0m\u001b[0m\n\u001b[1;32m    101\u001b[0m   \u001b[0mctx\u001b[0m\u001b[0;34m.\u001b[0m\u001b[0mensure_initialized\u001b[0m\u001b[0;34m(\u001b[0m\u001b[0;34m)\u001b[0m\u001b[0;34m\u001b[0m\u001b[0;34m\u001b[0m\u001b[0m\n\u001b[0;32m--> 102\u001b[0;31m   \u001b[0;32mreturn\u001b[0m \u001b[0mops\u001b[0m\u001b[0;34m.\u001b[0m\u001b[0mEagerTensor\u001b[0m\u001b[0;34m(\u001b[0m\u001b[0mvalue\u001b[0m\u001b[0;34m,\u001b[0m \u001b[0mctx\u001b[0m\u001b[0;34m.\u001b[0m\u001b[0mdevice_name\u001b[0m\u001b[0;34m,\u001b[0m \u001b[0mdtype\u001b[0m\u001b[0;34m)\u001b[0m\u001b[0;34m\u001b[0m\u001b[0;34m\u001b[0m\u001b[0m\n\u001b[0m\u001b[1;32m    103\u001b[0m \u001b[0;34m\u001b[0m\u001b[0m\n\u001b[1;32m    104\u001b[0m \u001b[0;34m\u001b[0m\u001b[0m\n",
            "\u001b[0;31mKeyboardInterrupt\u001b[0m: "
          ]
        }
      ]
    },
    {
      "cell_type": "code",
      "source": [
        "model_laddernet.save_weights(\"/content/gdrive/MyDrive/Colab Notebooks/models/ladder_4ch_ed.h5\")"
      ],
      "metadata": {
        "id": "sqacZCGJfibL"
      },
      "execution_count": null,
      "outputs": []
    },
    {
      "cell_type": "code",
      "source": [
        "model_unet.compile(optimizer=Adam(learning_rate=1e-3), loss=\"sparse_categorical_crossentropy\", metrics=[multiclass_dice, \"accuracy\"])"
      ],
      "metadata": {
        "id": "1ZWZ68APXW-Z"
      },
      "execution_count": null,
      "outputs": []
    },
    {
      "cell_type": "code",
      "source": [
        "\n",
        "model_unet.fit(x=train_frames,\n",
        "                    y=train_masks,\n",
        "                    validation_data=[test_frames, test_masks],\n",
        "                    batch_size=5,\n",
        "                    epochs=150,\n",
        "                    callbacks=[earlystop, reduce_lr])"
      ],
      "metadata": {
        "colab": {
          "base_uri": "https://localhost:8080/"
        },
        "id": "QBCz_W01XZ0_",
        "outputId": "f0064724-79bd-4101-d647-b08c0bf675a5"
      },
      "execution_count": null,
      "outputs": [
        {
          "output_type": "stream",
          "name": "stdout",
          "text": [
            "Epoch 1/10\n",
            "135/135 [==============================] - 1352s 10s/step - loss: 0.9618 - multiclass_dice: 0.5521 - accuracy: 0.8702 - val_loss: 2.8722 - val_multiclass_dice: 0.2912 - val_accuracy: 0.7376 - lr: 0.0010\n",
            "Epoch 2/10\n",
            "135/135 [==============================] - 1330s 10s/step - loss: 0.7242 - multiclass_dice: 0.7322 - accuracy: 0.9458 - val_loss: 4.4335 - val_multiclass_dice: 0.1813 - val_accuracy: 0.2832 - lr: 0.0010\n",
            "Epoch 3/10\n",
            "135/135 [==============================] - ETA: 0s - loss: 0.5968 - multiclass_dice: 0.7615 - accuracy: 0.9558\n",
            "Epoch 3: ReduceLROnPlateau reducing learning rate to 0.00020000000949949026.\n",
            "135/135 [==============================] - 1321s 10s/step - loss: 0.5968 - multiclass_dice: 0.7615 - accuracy: 0.9558 - val_loss: 1.6089 - val_multiclass_dice: 0.2838 - val_accuracy: 0.5210 - lr: 0.0010\n",
            "Epoch 4/10\n",
            "135/135 [==============================] - 1310s 10s/step - loss: 0.5000 - multiclass_dice: 0.8310 - accuracy: 0.9687 - val_loss: 0.5209 - val_multiclass_dice: 0.7786 - val_accuracy: 0.9521 - lr: 2.0000e-04\n",
            "Epoch 5/10\n",
            "135/135 [==============================] - 1313s 10s/step - loss: 0.4791 - multiclass_dice: 0.8382 - accuracy: 0.9706 - val_loss: 0.4440 - val_multiclass_dice: 0.8640 - val_accuracy: 0.9720 - lr: 2.0000e-04\n",
            "Epoch 6/10\n",
            "135/135 [==============================] - 1316s 10s/step - loss: 0.4538 - multiclass_dice: 0.8488 - accuracy: 0.9726 - val_loss: 0.4147 - val_multiclass_dice: 0.8692 - val_accuracy: 0.9741 - lr: 2.0000e-04\n",
            "Epoch 7/10\n",
            "135/135 [==============================] - 1316s 10s/step - loss: 0.4449 - multiclass_dice: 0.8273 - accuracy: 0.9731 - val_loss: 0.3908 - val_multiclass_dice: 0.8659 - val_accuracy: 0.9740 - lr: 2.0000e-04\n",
            "Epoch 8/10\n",
            "135/135 [==============================] - ETA: 0s - loss: 0.4192 - multiclass_dice: 0.8556 - accuracy: 0.9751\n",
            "Epoch 8: ReduceLROnPlateau reducing learning rate to 4.0000001899898055e-05.\n",
            "135/135 [==============================] - 1315s 10s/step - loss: 0.4192 - multiclass_dice: 0.8556 - accuracy: 0.9751 - val_loss: 0.3853 - val_multiclass_dice: 0.8691 - val_accuracy: 0.9743 - lr: 2.0000e-04\n",
            "Epoch 9/10\n",
            "135/135 [==============================] - 1318s 10s/step - loss: 0.4125 - multiclass_dice: 0.8461 - accuracy: 0.9768 - val_loss: 0.3735 - val_multiclass_dice: 0.8809 - val_accuracy: 0.9761 - lr: 4.0000e-05\n",
            "Epoch 10/10\n",
            "135/135 [==============================] - 1318s 10s/step - loss: 0.4100 - multiclass_dice: 0.8354 - accuracy: 0.9773 - val_loss: 0.3662 - val_multiclass_dice: 0.8784 - val_accuracy: 0.9758 - lr: 4.0000e-05\n"
          ]
        },
        {
          "output_type": "execute_result",
          "data": {
            "text/plain": [
              "<keras.callbacks.History at 0x7f0a7d96b6d0>"
            ]
          },
          "metadata": {},
          "execution_count": 27
        }
      ]
    },
    {
      "cell_type": "code",
      "source": [
        "model_unet.save_weights(\"/content/gdrive/MyDrive/Colab Notebooks/models/unet_4ch_ed.h5\")"
      ],
      "metadata": {
        "id": "jLnPgM6lfaec"
      },
      "execution_count": null,
      "outputs": []
    },
    {
      "cell_type": "code",
      "source": [
        "import sys  \n",
        "sys.path.insert(0, '/content/gdrive/MyDrive/Colab Notebooks/architectures')\n",
        "\n",
        "\n",
        "from cnn import CNN"
      ],
      "metadata": {
        "id": "AHPgdfn5oMUC"
      },
      "execution_count": null,
      "outputs": []
    },
    {
      "cell_type": "markdown",
      "source": [],
      "metadata": {
        "id": "EzHSDXIRqrVQ"
      }
    },
    {
      "cell_type": "code",
      "source": [
        "from keras.models import Sequential\n",
        "from keras.layers import Conv2D, MaxPooling2D, Flatten, Dense\n",
        "\n",
        "def CNN(input_size, num_classes):\n",
        "   # Crear modelo secuencial\n",
        "   model = Sequential()\n",
        "\n",
        "   # Agregar capas convolucionales y de max pooling\n",
        "   model.add(Conv2D(32, (3, 3), activation='relu', input_shape=(384, 384, 1)))\n",
        "   model.add(MaxPooling2D((2, 2)))\n",
        "   model.add(Conv2D(64, (3, 3), activation='relu'))\n",
        "   model.add(MaxPooling2D((2, 2)))\n",
        "   model.add(Conv2D(128, (3, 3), activation='relu'))\n",
        "   model.add(MaxPooling2D((2, 2)))\n",
        "\n",
        "   # Aplanar la salida y agregar capas densas\n",
        "   model.add(Flatten())\n",
        "   model.add(Dense(64, activation='relu'))\n",
        "   model.add(Dense(4, activation='softmax'))\n",
        "    \n",
        "   return model\n"
      ],
      "metadata": {
        "id": "ZDUjMu7oGqSN"
      },
      "execution_count": null,
      "outputs": []
    },
    {
      "cell_type": "code",
      "source": [
        "model_cnn= CNN(input_size=(384, 384, 1),num_classes=4)"
      ],
      "metadata": {
        "id": "v4rdJUvkfGzd"
      },
      "execution_count": null,
      "outputs": []
    },
    {
      "cell_type": "code",
      "source": [
        "model_cnn.compile(optimizer=Adam(learning_rate=1e-3), loss=\"sparse_categorical_crossentropy\", metrics=[multiclass_dice, \"accuracy\"])"
      ],
      "metadata": {
        "id": "b-G7sxIxfYtd"
      },
      "execution_count": null,
      "outputs": []
    },
    {
      "cell_type": "code",
      "source": [
        "model_cnn.fit(x=train_frames,\n",
        "                    y=train_masks,\n",
        "                    validation_data=[test_frames, test_masks],\n",
        "                    batch_size=5,\n",
        "                    epochs=150,\n",
        "                    callbacks=[earlystop, reduce_lr])"
      ],
      "metadata": {
        "id": "Z-BvhCnPfao1"
      },
      "execution_count": null,
      "outputs": []
    },
    {
      "cell_type": "code",
      "source": [
        "import sys  \n",
        "sys.path.insert(0, '/content/gdrive/MyDrive/Colab Notebooks/architectures')\n",
        "\n",
        "from acnn import ACNN"
      ],
      "metadata": {
        "id": "5TOZU8wceLww"
      },
      "execution_count": 29,
      "outputs": []
    },
    {
      "cell_type": "code",
      "source": [
        "model_acnn= ACNN(input_size=(384, 384, 1),num_classes=4)"
      ],
      "metadata": {
        "id": "CdeqX37veZw6"
      },
      "execution_count": 30,
      "outputs": []
    },
    {
      "cell_type": "code",
      "source": [
        "model_acnn.summary()"
      ],
      "metadata": {
        "colab": {
          "base_uri": "https://localhost:8080/"
        },
        "id": "6hXFkcazHCqv",
        "outputId": "fc8000a2-ca4f-445a-a8f2-e7e6822f1a6a"
      },
      "execution_count": 31,
      "outputs": [
        {
          "output_type": "stream",
          "name": "stdout",
          "text": [
            "Model: \"model_2\"\n",
            "_________________________________________________________________\n",
            " Layer (type)                Output Shape              Param #   \n",
            "=================================================================\n",
            " input_3 (InputLayer)        [(None, 384, 384, 1)]     0         \n",
            "                                                                 \n",
            " conv2d_53 (Conv2D)          (None, 384, 384, 32)      320       \n",
            "                                                                 \n",
            " max_pooling2d_5 (MaxPooling  (None, 192, 192, 32)     0         \n",
            " 2D)                                                             \n",
            "                                                                 \n",
            " conv2d_54 (Conv2D)          (None, 192, 192, 64)      18496     \n",
            "                                                                 \n",
            " max_pooling2d_6 (MaxPooling  (None, 96, 96, 64)       0         \n",
            " 2D)                                                             \n",
            "                                                                 \n",
            " conv2d_55 (Conv2D)          (None, 96, 96, 128)       73856     \n",
            "                                                                 \n",
            " conv2d_56 (Conv2D)          (None, 96, 96, 256)       295168    \n",
            "                                                                 \n",
            " conv2d_57 (Conv2D)          (None, 96, 96, 128)       295040    \n",
            "                                                                 \n",
            " up_sampling2d_5 (UpSampling  (None, 192, 192, 128)    0         \n",
            " 2D)                                                             \n",
            "                                                                 \n",
            " conv2d_58 (Conv2D)          (None, 192, 192, 64)      73792     \n",
            "                                                                 \n",
            " up_sampling2d_6 (UpSampling  (None, 384, 384, 64)     0         \n",
            " 2D)                                                             \n",
            "                                                                 \n",
            " conv2d_59 (Conv2D)          (None, 384, 384, 4)       260       \n",
            "                                                                 \n",
            " activation_30 (Activation)  (None, 384, 384, 4)       0         \n",
            "                                                                 \n",
            "=================================================================\n",
            "Total params: 756,932\n",
            "Trainable params: 756,932\n",
            "Non-trainable params: 0\n",
            "_________________________________________________________________\n"
          ]
        }
      ]
    },
    {
      "cell_type": "code",
      "source": [
        "model_acnn.compile(optimizer=Adam(learning_rate=1e-3), loss=\"sparse_categorical_crossentropy\", metrics=[multiclass_dice,\"accuracy\"])"
      ],
      "metadata": {
        "id": "cvzildvFq5Jq"
      },
      "execution_count": 32,
      "outputs": []
    },
    {
      "cell_type": "code",
      "source": [
        "history_acnn=model_acnn.fit(x=train_frames,\n",
        "                    y=train_masks,\n",
        "                    validation_data=(test_frames, test_masks),\n",
        "                    batch_size=5,\n",
        "                    epochs=3,\n",
        "                    callbacks=[earlystop, reduce_lr])"
      ],
      "metadata": {
        "colab": {
          "base_uri": "https://localhost:8080/"
        },
        "id": "37iy0OmSrAoB",
        "outputId": "b3c41a48-f540-4f34-fac4-3e7055950ed6"
      },
      "execution_count": 37,
      "outputs": [
        {
          "output_type": "stream",
          "name": "stdout",
          "text": [
            "Epoch 1/3\n",
            "135/135 [==============================] - 12s 88ms/step - loss: 0.2589 - multiclass_dice: 0.3445 - accuracy: 0.8873 - val_loss: 0.2671 - val_multiclass_dice: 0.4072 - val_accuracy: 0.8838 - lr: 0.0010\n",
            "Epoch 2/3\n",
            "135/135 [==============================] - 11s 84ms/step - loss: 0.2479 - multiclass_dice: 0.3921 - accuracy: 0.8946 - val_loss: 0.2446 - val_multiclass_dice: 0.4510 - val_accuracy: 0.8965 - lr: 0.0010\n",
            "Epoch 3/3\n",
            "135/135 [==============================] - 11s 85ms/step - loss: 0.2329 - multiclass_dice: 0.4433 - accuracy: 0.9024 - val_loss: 0.2464 - val_multiclass_dice: 0.4096 - val_accuracy: 0.8988 - lr: 0.0010\n"
          ]
        }
      ]
    },
    {
      "cell_type": "code",
      "source": [
        "print(history_acnn.history.keys())"
      ],
      "metadata": {
        "colab": {
          "base_uri": "https://localhost:8080/"
        },
        "id": "PPbeO8WbvU8h",
        "outputId": "1df82ab3-ca5b-4567-f93a-6d43ce60701c"
      },
      "execution_count": 35,
      "outputs": [
        {
          "output_type": "stream",
          "name": "stdout",
          "text": [
            "dict_keys(['loss', 'multiclass_dice', 'accuracy', 'val_loss', 'val_multiclass_dice', 'val_accuracy', 'lr'])\n"
          ]
        }
      ]
    },
    {
      "cell_type": "code",
      "source": [
        "df=pd.DataFrame(history_acnn.history)\n",
        "df.plot(figsize=(8, 5))\n",
        "plt.grid(True)\n",
        "plt.gca().set_ylim(0, 1)\n",
        "save_fig(\"keras_learning_curves_plot_1\")\n",
        "plt.show()"
      ],
      "metadata": {
        "colab": {
          "base_uri": "https://localhost:8080/",
          "height": 387
        },
        "id": "LQRfQWoVwQZZ",
        "outputId": "c8eb87fb-ea38-48e1-9ce9-a4d00338e1e0"
      },
      "execution_count": 39,
      "outputs": [
        {
          "output_type": "stream",
          "name": "stdout",
          "text": [
            "Saving figure keras_learning_curves_plot_1\n"
          ]
        },
        {
          "output_type": "display_data",
          "data": {
            "text/plain": [
              "<Figure size 576x360 with 1 Axes>"
            ],
            "image/png": "[encoded data removed]"
          },
          "metadata": {
            "needs_background": "light"
          }
        }
      ]
    },
    {
      "cell_type": "code",
      "source": [
        "df.to_csv('/content/gdrive/MyDrive/Colab Notebooks/file_name.csv')"
      ],
      "metadata": {
        "id": "6Wj5v37wwSw2"
      },
      "execution_count": 41,
      "outputs": []
    },
    {
      "cell_type": "code",
      "source": [
        "model_acnn.save_weights(\"/content/gdrive/MyDrive/Colab Notebooks/models/acnn_4ch_ed.h5\")"
      ],
      "metadata": {
        "id": "Fkn4oOrXfJpp"
      },
      "execution_count": 42,
      "outputs": []
    },
    {
      "cell_type": "code",
      "source": [
        "loss_acnn_4 = model_acnn.evaluate(x=test_frames,\n",
        "                    y=test_masks)"
      ],
      "metadata": {
        "colab": {
          "base_uri": "https://localhost:8080/"
        },
        "id": "JujwSDkln1hB",
        "outputId": "273b1327-f83a-46b8-f935-e3923a9d6276"
      },
      "execution_count": null,
      "outputs": [
        {
          "output_type": "stream",
          "name": "stdout",
          "text": [
            "8/8 [==============================] - 1s 154ms/step - loss: 0.1611 - multiclass_dice: 0.6493 - accuracy: 0.9364\n"
          ]
        }
      ]
    },
    {
      "cell_type": "code",
      "source": [
        "print(type(model_acnn.history))"
      ],
      "metadata": {
        "colab": {
          "base_uri": "https://localhost:8080/"
        },
        "id": "_C2n6EApnVsS",
        "outputId": "356e8a23-c27f-49a8-cd7f-ed748031c663"
      },
      "execution_count": null,
      "outputs": [
        {
          "output_type": "stream",
          "name": "stdout",
          "text": [
            "<class 'keras.callbacks.History'>\n"
          ]
        }
      ]
    },
    {
      "cell_type": "code",
      "source": [
        "pd.DataFrame(history_1.history).plot(figsize=(8, 5))\n",
        "plt.grid(True)\n",
        "plt.gca().set_ylim(0, 1)\n",
        "save_fig(\"keras_learning_curves_plot_1\")\n",
        "plt.show()"
      ],
      "metadata": {
        "colab": {
          "base_uri": "https://localhost:8080/",
          "height": 243
        },
        "id": "EbYCloBahMOr",
        "outputId": "00a179d4-8faf-4a2e-85c0-acbbe78a27cb"
      },
      "execution_count": null,
      "outputs": [
        {
          "output_type": "error",
          "ename": "NameError",
          "evalue": "ignored",
          "traceback": [
            "\u001b[0;31m---------------------------------------------------------------------------\u001b[0m",
            "\u001b[0;31mNameError\u001b[0m                                 Traceback (most recent call last)",
            "\u001b[0;32m<ipython-input-61-7b6cfdad050d>\u001b[0m in \u001b[0;36m<module>\u001b[0;34m\u001b[0m\n\u001b[0;32m----> 1\u001b[0;31m \u001b[0mpd\u001b[0m\u001b[0;34m.\u001b[0m\u001b[0mDataFrame\u001b[0m\u001b[0;34m(\u001b[0m\u001b[0mhistory_1\u001b[0m\u001b[0;34m.\u001b[0m\u001b[0mhistory\u001b[0m\u001b[0;34m)\u001b[0m\u001b[0;34m.\u001b[0m\u001b[0mplot\u001b[0m\u001b[0;34m(\u001b[0m\u001b[0mfigsize\u001b[0m\u001b[0;34m=\u001b[0m\u001b[0;34m(\u001b[0m\u001b[0;36m8\u001b[0m\u001b[0;34m,\u001b[0m \u001b[0;36m5\u001b[0m\u001b[0;34m)\u001b[0m\u001b[0;34m)\u001b[0m\u001b[0;34m\u001b[0m\u001b[0;34m\u001b[0m\u001b[0m\n\u001b[0m\u001b[1;32m      2\u001b[0m \u001b[0mplt\u001b[0m\u001b[0;34m.\u001b[0m\u001b[0mgrid\u001b[0m\u001b[0;34m(\u001b[0m\u001b[0;32mTrue\u001b[0m\u001b[0;34m)\u001b[0m\u001b[0;34m\u001b[0m\u001b[0;34m\u001b[0m\u001b[0m\n\u001b[1;32m      3\u001b[0m \u001b[0mplt\u001b[0m\u001b[0;34m.\u001b[0m\u001b[0mgca\u001b[0m\u001b[0;34m(\u001b[0m\u001b[0;34m)\u001b[0m\u001b[0;34m.\u001b[0m\u001b[0mset_ylim\u001b[0m\u001b[0;34m(\u001b[0m\u001b[0;36m0\u001b[0m\u001b[0;34m,\u001b[0m \u001b[0;36m1\u001b[0m\u001b[0;34m)\u001b[0m\u001b[0;34m\u001b[0m\u001b[0;34m\u001b[0m\u001b[0m\n\u001b[1;32m      4\u001b[0m \u001b[0msave_fig\u001b[0m\u001b[0;34m(\u001b[0m\u001b[0;34m\"keras_learning_curves_plot_1\"\u001b[0m\u001b[0;34m)\u001b[0m\u001b[0;34m\u001b[0m\u001b[0;34m\u001b[0m\u001b[0m\n\u001b[1;32m      5\u001b[0m \u001b[0mplt\u001b[0m\u001b[0;34m.\u001b[0m\u001b[0mshow\u001b[0m\u001b[0;34m(\u001b[0m\u001b[0;34m)\u001b[0m\u001b[0;34m\u001b[0m\u001b[0;34m\u001b[0m\u001b[0m\n",
            "\u001b[0;31mNameError\u001b[0m: name 'history_1' is not defined"
          ]
        }
      ]
    },
    {
      "cell_type": "code",
      "source": [
        "from keras.models import Model\n",
        "from keras.layers import Input, Conv2D, MaxPooling2D, UpSampling2D, Concatenate\n",
        "from keras.layers import Activation\n",
        "\n",
        "def residual_block(x, filters):\n",
        "    conv1 = Conv2D(filters, kernel_size=3, padding='same', activation='relu')(x)\n",
        "    conv2 = Conv2D(filters, kernel_size=3, padding='same', activation=None)(conv1)\n",
        "    add = Concatenate()([conv2, x])\n",
        "    out = Activation('relu')(add)\n",
        "    return out\n",
        "\n",
        "def ResUNet(input_size=(256, 256, 3)):\n",
        "    # Encoder\n",
        "    inputs = Input(input_size)\n",
        "    conv1 = residual_block(inputs, 32)\n",
        "    pool1 = MaxPooling2D(pool_size=(2, 2))(conv1)\n",
        "    conv2 = residual_block(pool1, 64)\n",
        "    pool2 = MaxPooling2D(pool_size=(2, 2))(conv2)\n",
        "    conv3 = residual_block(pool2, 128)\n",
        "    pool3 = MaxPooling2D(pool_size=(2, 2))(conv3)\n",
        "    \n",
        "    # Bridge\n",
        "    conv4 = residual_block(pool3, 256)\n",
        "    \n",
        "    # Decoder\n",
        "    up1 = UpSampling2D(size=(2, 2))(conv4)\n",
        "    concat1 = Concatenate()([up1, conv3])\n",
        "    conv5 = residual_block(concat1, 128)\n",
        "    up2 = UpSampling2D(size=(2, 2))(conv5)\n",
        "    concat2 = Concatenate()([up2, conv2])\n",
        "    conv6 = residual_block(concat2, 64)\n",
        "    up3 = UpSampling2D(size=(2, 2))(conv6)\n",
        "    concat3 = Concatenate()([up3, conv1])\n",
        "    conv7 = residual_block(concat3, 32)\n",
        "    \n",
        "    # Output\n",
        "    outputs = Conv2D(4, kernel_size=1)(conv7)\n",
        "    outputs = Activation(\"softmax\")(outputs)\n",
        "\n",
        "    model = Model(inputs=inputs, outputs=outputs)\n",
        "    return model\n"
      ],
      "metadata": {
        "id": "OsPOopMpM-4T"
      },
      "execution_count": null,
      "outputs": []
    },
    {
      "cell_type": "code",
      "source": [
        "model_resunet= ResUNet(input_size=(384, 384, 1))"
      ],
      "metadata": {
        "id": "ZO7xHCpwMsM-"
      },
      "execution_count": null,
      "outputs": []
    },
    {
      "cell_type": "code",
      "source": [
        "model_resunet.compile(optimizer=Adam(learning_rate=1e-3), loss=\"sparse_categorical_crossentropy\", metrics=[multiclass_dice, \"accuracy\"])"
      ],
      "metadata": {
        "id": "TH01bS0RM4UM"
      },
      "execution_count": null,
      "outputs": []
    },
    {
      "cell_type": "code",
      "source": [
        "model_resunet.fit(x=train_frames,\n",
        "                    y=train_masks,\n",
        "                    validation_data=[test_frames, test_masks],\n",
        "                    batch_size=3,\n",
        "                    epochs=150,\n",
        "                    callbacks=[earlystop, reduce_lr])"
      ],
      "metadata": {
        "colab": {
          "base_uri": "https://localhost:8080/"
        },
        "id": "R3kqsWC3M9eT",
        "outputId": "92a61e36-8eee-4c51-b33c-50bfc17a6975"
      },
      "execution_count": null,
      "outputs": [
        {
          "output_type": "stream",
          "name": "stdout",
          "text": [
            "Epoch 1/150\n",
            "225/225 [==============================] - 261s 1s/step - loss: 0.2432 - multiclass_dice: 0.3578 - accuracy: 0.8976 - val_loss: 0.2374 - val_multiclass_dice: 0.3476 - val_accuracy: 0.9000 - lr: 0.0010\n",
            "Epoch 2/150\n",
            "225/225 [==============================] - 186s 827ms/step - loss: 0.2131 - multiclass_dice: 0.4622 - accuracy: 0.9131 - val_loss: 0.2099 - val_multiclass_dice: 0.4671 - val_accuracy: 0.9130 - lr: 0.0010\n",
            "Epoch 3/150\n",
            "225/225 [==============================] - 185s 824ms/step - loss: 0.1802 - multiclass_dice: 0.5006 - accuracy: 0.9278 - val_loss: 0.1667 - val_multiclass_dice: 0.6038 - val_accuracy: 0.9342 - lr: 0.0010\n",
            "Epoch 4/150\n",
            "225/225 [==============================] - 185s 823ms/step - loss: 0.1641 - multiclass_dice: 0.5658 - accuracy: 0.9355 - val_loss: 0.1646 - val_multiclass_dice: 0.5899 - val_accuracy: 0.9363 - lr: 0.0010\n",
            "Epoch 5/150\n",
            "225/225 [==============================] - 185s 824ms/step - loss: 0.1456 - multiclass_dice: 0.6156 - accuracy: 0.9446 - val_loss: 0.1170 - val_multiclass_dice: 0.6926 - val_accuracy: 0.9553 - lr: 0.0010\n",
            "Epoch 6/150\n",
            "225/225 [==============================] - 185s 823ms/step - loss: 0.1180 - multiclass_dice: 0.6623 - accuracy: 0.9545 - val_loss: 0.1242 - val_multiclass_dice: 0.6717 - val_accuracy: 0.9528 - lr: 0.0010\n",
            "Epoch 7/150\n",
            "225/225 [==============================] - 185s 824ms/step - loss: 0.1059 - multiclass_dice: 0.6766 - accuracy: 0.9586 - val_loss: 0.0954 - val_multiclass_dice: 0.7294 - val_accuracy: 0.9636 - lr: 0.0010\n",
            "Epoch 8/150\n",
            "225/225 [==============================] - 185s 824ms/step - loss: 0.1044 - multiclass_dice: 0.6656 - accuracy: 0.9593 - val_loss: 0.0970 - val_multiclass_dice: 0.7321 - val_accuracy: 0.9627 - lr: 0.0010\n",
            "Epoch 9/150\n",
            "225/225 [==============================] - 181s 806ms/step - loss: 0.0950 - multiclass_dice: 0.6782 - accuracy: 0.9629 - val_loss: 0.0855 - val_multiclass_dice: 0.7484 - val_accuracy: 0.9666 - lr: 0.0010\n",
            "Epoch 10/150\n",
            "225/225 [==============================] - 185s 823ms/step - loss: 0.0960 - multiclass_dice: 0.7067 - accuracy: 0.9625 - val_loss: 0.1021 - val_multiclass_dice: 0.7057 - val_accuracy: 0.9601 - lr: 0.0010\n",
            "Epoch 11/150\n",
            "225/225 [==============================] - ETA: 0s - loss: 0.0862 - multiclass_dice: 0.7018 - accuracy: 0.9660\n",
            "Epoch 11: ReduceLROnPlateau reducing learning rate to 0.00020000000949949026.\n",
            "225/225 [==============================] - 181s 805ms/step - loss: 0.0862 - multiclass_dice: 0.7018 - accuracy: 0.9660 - val_loss: 0.0868 - val_multiclass_dice: 0.7414 - val_accuracy: 0.9659 - lr: 0.0010\n",
            "Epoch 12/150\n",
            "225/225 [==============================] - 181s 806ms/step - loss: 0.0721 - multiclass_dice: 0.7461 - accuracy: 0.9711 - val_loss: 0.0732 - val_multiclass_dice: 0.7692 - val_accuracy: 0.9709 - lr: 2.0000e-04\n",
            "Epoch 13/150\n",
            "225/225 [==============================] - 181s 805ms/step - loss: 0.0688 - multiclass_dice: 0.7291 - accuracy: 0.9723 - val_loss: 0.0745 - val_multiclass_dice: 0.7716 - val_accuracy: 0.9706 - lr: 2.0000e-04\n",
            "Epoch 14/150\n",
            "225/225 [==============================] - 185s 825ms/step - loss: 0.0672 - multiclass_dice: 0.7529 - accuracy: 0.9728 - val_loss: 0.0709 - val_multiclass_dice: 0.7762 - val_accuracy: 0.9722 - lr: 2.0000e-04\n",
            "Epoch 15/150\n",
            "225/225 [==============================] - 186s 826ms/step - loss: 0.0655 - multiclass_dice: 0.7610 - accuracy: 0.9734 - val_loss: 0.0698 - val_multiclass_dice: 0.7781 - val_accuracy: 0.9724 - lr: 2.0000e-04\n",
            "Epoch 16/150\n",
            "225/225 [==============================] - 186s 826ms/step - loss: 0.0652 - multiclass_dice: 0.7438 - accuracy: 0.9736 - val_loss: 0.0722 - val_multiclass_dice: 0.7717 - val_accuracy: 0.9711 - lr: 2.0000e-04\n",
            "Epoch 17/150\n",
            "225/225 [==============================] - 182s 809ms/step - loss: 0.0634 - multiclass_dice: 0.7643 - accuracy: 0.9742 - val_loss: 0.0679 - val_multiclass_dice: 0.7819 - val_accuracy: 0.9732 - lr: 2.0000e-04\n",
            "Epoch 18/150\n",
            "225/225 [==============================] - 186s 826ms/step - loss: 0.0627 - multiclass_dice: 0.7437 - accuracy: 0.9746 - val_loss: 0.0692 - val_multiclass_dice: 0.7799 - val_accuracy: 0.9729 - lr: 2.0000e-04\n",
            "Epoch 19/150\n",
            "225/225 [==============================] - 186s 827ms/step - loss: 0.0615 - multiclass_dice: 0.7523 - accuracy: 0.9749 - val_loss: 0.0667 - val_multiclass_dice: 0.7862 - val_accuracy: 0.9739 - lr: 2.0000e-04\n",
            "Epoch 20/150\n",
            "225/225 [==============================] - 186s 827ms/step - loss: 0.0610 - multiclass_dice: 0.7469 - accuracy: 0.9752 - val_loss: 0.0660 - val_multiclass_dice: 0.7863 - val_accuracy: 0.9739 - lr: 2.0000e-04\n",
            "Epoch 21/150\n",
            "225/225 [==============================] - 186s 827ms/step - loss: 0.0595 - multiclass_dice: 0.7354 - accuracy: 0.9756 - val_loss: 0.0689 - val_multiclass_dice: 0.7822 - val_accuracy: 0.9733 - lr: 2.0000e-04\n",
            "Epoch 22/150\n",
            "225/225 [==============================] - ETA: 0s - loss: 0.0593 - multiclass_dice: 0.7616 - accuracy: 0.9757\n",
            "Epoch 22: ReduceLROnPlateau reducing learning rate to 4.0000001899898055e-05.\n",
            "225/225 [==============================] - 186s 826ms/step - loss: 0.0593 - multiclass_dice: 0.7616 - accuracy: 0.9757 - val_loss: 0.0743 - val_multiclass_dice: 0.7757 - val_accuracy: 0.9721 - lr: 2.0000e-04\n",
            "Epoch 23/150\n",
            "225/225 [==============================] - 182s 809ms/step - loss: 0.0544 - multiclass_dice: 0.7715 - accuracy: 0.9776 - val_loss: 0.0654 - val_multiclass_dice: 0.7902 - val_accuracy: 0.9746 - lr: 4.0000e-05\n",
            "Epoch 24/150\n",
            "225/225 [==============================] - 186s 826ms/step - loss: 0.0534 - multiclass_dice: 0.7668 - accuracy: 0.9780 - val_loss: 0.0651 - val_multiclass_dice: 0.7911 - val_accuracy: 0.9747 - lr: 4.0000e-05\n",
            "Epoch 25/150\n",
            "225/225 [==============================] - 186s 826ms/step - loss: 0.0531 - multiclass_dice: 0.7664 - accuracy: 0.9780 - val_loss: 0.0651 - val_multiclass_dice: 0.7913 - val_accuracy: 0.9747 - lr: 4.0000e-05\n",
            "Epoch 26/150\n",
            "225/225 [==============================] - 186s 827ms/step - loss: 0.0527 - multiclass_dice: 0.7723 - accuracy: 0.9781 - val_loss: 0.0653 - val_multiclass_dice: 0.7922 - val_accuracy: 0.9748 - lr: 4.0000e-05\n",
            "Epoch 27/150\n",
            "225/225 [==============================] - 182s 809ms/step - loss: 0.0524 - multiclass_dice: 0.7675 - accuracy: 0.9783 - val_loss: 0.0646 - val_multiclass_dice: 0.7929 - val_accuracy: 0.9749 - lr: 4.0000e-05\n",
            "Epoch 28/150\n",
            "225/225 [==============================] - 182s 810ms/step - loss: 0.0519 - multiclass_dice: 0.7635 - accuracy: 0.9785 - val_loss: 0.0651 - val_multiclass_dice: 0.7928 - val_accuracy: 0.9748 - lr: 4.0000e-05\n",
            "Epoch 29/150\n",
            "225/225 [==============================] - ETA: 0s - loss: 0.0517 - multiclass_dice: 0.7620 - accuracy: 0.9785\n",
            "Epoch 29: ReduceLROnPlateau reducing learning rate to 1e-05.\n",
            "225/225 [==============================] - 186s 826ms/step - loss: 0.0517 - multiclass_dice: 0.7620 - accuracy: 0.9785 - val_loss: 0.0665 - val_multiclass_dice: 0.7910 - val_accuracy: 0.9746 - lr: 4.0000e-05\n",
            "Epoch 30/150\n",
            "225/225 [==============================] - 186s 826ms/step - loss: 0.0508 - multiclass_dice: 0.7920 - accuracy: 0.9789 - val_loss: 0.0652 - val_multiclass_dice: 0.7934 - val_accuracy: 0.9750 - lr: 1.0000e-05\n",
            "Epoch 31/150\n",
            "225/225 [==============================] - 182s 809ms/step - loss: 0.0507 - multiclass_dice: 0.7597 - accuracy: 0.9790 - val_loss: 0.0654 - val_multiclass_dice: 0.7928 - val_accuracy: 0.9750 - lr: 1.0000e-05\n",
            "Epoch 32/150\n",
            "225/225 [==============================] - 186s 827ms/step - loss: 0.0506 - multiclass_dice: 0.7840 - accuracy: 0.9790 - val_loss: 0.0650 - val_multiclass_dice: 0.7936 - val_accuracy: 0.9751 - lr: 1.0000e-05\n",
            "Epoch 33/150\n",
            "225/225 [==============================] - 186s 826ms/step - loss: 0.0504 - multiclass_dice: 0.7795 - accuracy: 0.9790 - val_loss: 0.0654 - val_multiclass_dice: 0.7936 - val_accuracy: 0.9750 - lr: 1.0000e-05\n",
            "Epoch 34/150\n",
            "225/225 [==============================] - 186s 827ms/step - loss: 0.0504 - multiclass_dice: 0.8114 - accuracy: 0.9791 - val_loss: 0.0648 - val_multiclass_dice: 0.7939 - val_accuracy: 0.9752 - lr: 1.0000e-05\n",
            "Epoch 35/150\n",
            "225/225 [==============================] - 182s 808ms/step - loss: 0.0503 - multiclass_dice: 0.7684 - accuracy: 0.9791 - val_loss: 0.0651 - val_multiclass_dice: 0.7935 - val_accuracy: 0.9751 - lr: 1.0000e-05\n",
            "Epoch 36/150\n",
            "225/225 [==============================] - 186s 827ms/step - loss: 0.0502 - multiclass_dice: 0.7645 - accuracy: 0.9791 - val_loss: 0.0654 - val_multiclass_dice: 0.7934 - val_accuracy: 0.9750 - lr: 1.0000e-05\n",
            "Epoch 37/150\n",
            "225/225 [==============================] - 186s 827ms/step - loss: 0.0501 - multiclass_dice: 0.7685 - accuracy: 0.9792 - val_loss: 0.0660 - val_multiclass_dice: 0.7923 - val_accuracy: 0.9749 - lr: 1.0000e-05\n",
            "Epoch 38/150\n",
            "225/225 [==============================] - 186s 827ms/step - loss: 0.0500 - multiclass_dice: 0.7780 - accuracy: 0.9792 - val_loss: 0.0653 - val_multiclass_dice: 0.7934 - val_accuracy: 0.9752 - lr: 1.0000e-05\n",
            "Epoch 39/150\n",
            "225/225 [==============================] - ETA: 0s - loss: 0.0500 - multiclass_dice: 0.7924 - accuracy: 0.9792Restoring model weights from the end of the best epoch: 34.\n",
            "225/225 [==============================] - 186s 827ms/step - loss: 0.0500 - multiclass_dice: 0.7924 - accuracy: 0.9792 - val_loss: 0.0653 - val_multiclass_dice: 0.7938 - val_accuracy: 0.9751 - lr: 1.0000e-05\n",
            "Epoch 39: early stopping\n"
          ]
        },
        {
          "output_type": "execute_result",
          "data": {
            "text/plain": [
              "<keras.callbacks.History at 0x7fb8420b2e80>"
            ]
          },
          "metadata": {},
          "execution_count": 36
        }
      ]
    },
    {
      "cell_type": "code",
      "source": [
        "model_resunet.save_weights(\"../models/resunet_4ch_ed.h5\")"
      ],
      "metadata": {
        "colab": {
          "base_uri": "https://localhost:8080/"
        },
        "id": "gHvZBgSyqB4r",
        "outputId": "59884d96-79dd-4fd1-9753-4c33dc5641d7"
      },
      "execution_count": null,
      "outputs": [
        {
          "output_type": "error",
          "ename": "OSError",
          "evalue": "ignored",
          "traceback": [
            "\u001b[0;31m---------------------------------------------------------------------------\u001b[0m",
            "\u001b[0;31mOSError\u001b[0m                                   Traceback (most recent call last)",
            "\u001b[0;32m<ipython-input-37-a261e2067756>\u001b[0m in \u001b[0;36m<module>\u001b[0;34m\u001b[0m\n\u001b[0;32m----> 1\u001b[0;31m \u001b[0mmodel_resunet\u001b[0m\u001b[0;34m.\u001b[0m\u001b[0msave_weights\u001b[0m\u001b[0;34m(\u001b[0m\u001b[0;34m\"../models/resunet_4ch_ed.h5\"\u001b[0m\u001b[0;34m)\u001b[0m\u001b[0;34m\u001b[0m\u001b[0;34m\u001b[0m\u001b[0m\n\u001b[0m",
            "\u001b[0;32m/usr/local/lib/python3.8/dist-packages/keras/utils/traceback_utils.py\u001b[0m in \u001b[0;36merror_handler\u001b[0;34m(*args, **kwargs)\u001b[0m\n\u001b[1;32m     68\u001b[0m             \u001b[0;31m# To get the full stack trace, call:\u001b[0m\u001b[0;34m\u001b[0m\u001b[0;34m\u001b[0m\u001b[0;34m\u001b[0m\u001b[0m\n\u001b[1;32m     69\u001b[0m             \u001b[0;31m# `tf.debugging.disable_traceback_filtering()`\u001b[0m\u001b[0;34m\u001b[0m\u001b[0;34m\u001b[0m\u001b[0;34m\u001b[0m\u001b[0m\n\u001b[0;32m---> 70\u001b[0;31m             \u001b[0;32mraise\u001b[0m \u001b[0me\u001b[0m\u001b[0;34m.\u001b[0m\u001b[0mwith_traceback\u001b[0m\u001b[0;34m(\u001b[0m\u001b[0mfiltered_tb\u001b[0m\u001b[0;34m)\u001b[0m \u001b[0;32mfrom\u001b[0m \u001b[0;32mNone\u001b[0m\u001b[0;34m\u001b[0m\u001b[0;34m\u001b[0m\u001b[0m\n\u001b[0m\u001b[1;32m     71\u001b[0m         \u001b[0;32mfinally\u001b[0m\u001b[0;34m:\u001b[0m\u001b[0;34m\u001b[0m\u001b[0;34m\u001b[0m\u001b[0m\n\u001b[1;32m     72\u001b[0m             \u001b[0;32mdel\u001b[0m \u001b[0mfiltered_tb\u001b[0m\u001b[0;34m\u001b[0m\u001b[0;34m\u001b[0m\u001b[0m\n",
            "\u001b[0;32m/usr/local/lib/python3.8/dist-packages/h5py/_hl/files.py\u001b[0m in \u001b[0;36m__init__\u001b[0;34m(self, name, mode, driver, libver, userblock_size, swmr, rdcc_nslots, rdcc_nbytes, rdcc_w0, track_order, fs_strategy, fs_persist, fs_threshold, **kwds)\u001b[0m\n\u001b[1;32m    422\u001b[0m             \u001b[0;32mwith\u001b[0m \u001b[0mphil\u001b[0m\u001b[0;34m:\u001b[0m\u001b[0;34m\u001b[0m\u001b[0;34m\u001b[0m\u001b[0m\n\u001b[1;32m    423\u001b[0m                 \u001b[0mfapl\u001b[0m \u001b[0;34m=\u001b[0m \u001b[0mmake_fapl\u001b[0m\u001b[0;34m(\u001b[0m\u001b[0mdriver\u001b[0m\u001b[0;34m,\u001b[0m \u001b[0mlibver\u001b[0m\u001b[0;34m,\u001b[0m \u001b[0mrdcc_nslots\u001b[0m\u001b[0;34m,\u001b[0m \u001b[0mrdcc_nbytes\u001b[0m\u001b[0;34m,\u001b[0m \u001b[0mrdcc_w0\u001b[0m\u001b[0;34m,\u001b[0m \u001b[0;34m**\u001b[0m\u001b[0mkwds\u001b[0m\u001b[0;34m)\u001b[0m\u001b[0;34m\u001b[0m\u001b[0;34m\u001b[0m\u001b[0m\n\u001b[0;32m--> 424\u001b[0;31m                 fid = make_fid(name, mode, userblock_size,\n\u001b[0m\u001b[1;32m    425\u001b[0m                                fapl, fcpl=make_fcpl(track_order=track_order, fs_strategy=fs_strategy,\n\u001b[1;32m    426\u001b[0m                                fs_persist=fs_persist, fs_threshold=fs_threshold),\n",
            "\u001b[0;32m/usr/local/lib/python3.8/dist-packages/h5py/_hl/files.py\u001b[0m in \u001b[0;36mmake_fid\u001b[0;34m(name, mode, userblock_size, fapl, fcpl, swmr)\u001b[0m\n\u001b[1;32m    194\u001b[0m         \u001b[0mfid\u001b[0m \u001b[0;34m=\u001b[0m \u001b[0mh5f\u001b[0m\u001b[0;34m.\u001b[0m\u001b[0mcreate\u001b[0m\u001b[0;34m(\u001b[0m\u001b[0mname\u001b[0m\u001b[0;34m,\u001b[0m \u001b[0mh5f\u001b[0m\u001b[0;34m.\u001b[0m\u001b[0mACC_EXCL\u001b[0m\u001b[0;34m,\u001b[0m \u001b[0mfapl\u001b[0m\u001b[0;34m=\u001b[0m\u001b[0mfapl\u001b[0m\u001b[0;34m,\u001b[0m \u001b[0mfcpl\u001b[0m\u001b[0;34m=\u001b[0m\u001b[0mfcpl\u001b[0m\u001b[0;34m)\u001b[0m\u001b[0;34m\u001b[0m\u001b[0;34m\u001b[0m\u001b[0m\n\u001b[1;32m    195\u001b[0m     \u001b[0;32melif\u001b[0m \u001b[0mmode\u001b[0m \u001b[0;34m==\u001b[0m \u001b[0;34m'w'\u001b[0m\u001b[0;34m:\u001b[0m\u001b[0;34m\u001b[0m\u001b[0;34m\u001b[0m\u001b[0m\n\u001b[0;32m--> 196\u001b[0;31m         \u001b[0mfid\u001b[0m \u001b[0;34m=\u001b[0m \u001b[0mh5f\u001b[0m\u001b[0;34m.\u001b[0m\u001b[0mcreate\u001b[0m\u001b[0;34m(\u001b[0m\u001b[0mname\u001b[0m\u001b[0;34m,\u001b[0m \u001b[0mh5f\u001b[0m\u001b[0;34m.\u001b[0m\u001b[0mACC_TRUNC\u001b[0m\u001b[0;34m,\u001b[0m \u001b[0mfapl\u001b[0m\u001b[0;34m=\u001b[0m\u001b[0mfapl\u001b[0m\u001b[0;34m,\u001b[0m \u001b[0mfcpl\u001b[0m\u001b[0;34m=\u001b[0m\u001b[0mfcpl\u001b[0m\u001b[0;34m)\u001b[0m\u001b[0;34m\u001b[0m\u001b[0;34m\u001b[0m\u001b[0m\n\u001b[0m\u001b[1;32m    197\u001b[0m     \u001b[0;32melif\u001b[0m \u001b[0mmode\u001b[0m \u001b[0;34m==\u001b[0m \u001b[0;34m'a'\u001b[0m\u001b[0;34m:\u001b[0m\u001b[0;34m\u001b[0m\u001b[0;34m\u001b[0m\u001b[0m\n\u001b[1;32m    198\u001b[0m         \u001b[0;31m# Open in append mode (read/write).\u001b[0m\u001b[0;34m\u001b[0m\u001b[0;34m\u001b[0m\u001b[0;34m\u001b[0m\u001b[0m\n",
            "\u001b[0;32mh5py/_objects.pyx\u001b[0m in \u001b[0;36mh5py._objects.with_phil.wrapper\u001b[0;34m()\u001b[0m\n",
            "\u001b[0;32mh5py/_objects.pyx\u001b[0m in \u001b[0;36mh5py._objects.with_phil.wrapper\u001b[0;34m()\u001b[0m\n",
            "\u001b[0;32mh5py/h5f.pyx\u001b[0m in \u001b[0;36mh5py.h5f.create\u001b[0;34m()\u001b[0m\n",
            "\u001b[0;31mOSError\u001b[0m: Unable to create file (unable to open file: name = '../models/resunet_4ch_ed.h5', errno = 2, error message = 'No such file or directory', flags = 13, o_flags = 242)"
          ]
        }
      ]
    },
    {
      "cell_type": "code",
      "source": [
        "pd.DataFrame(model_resunet.history).plot(figsize=(8, 5))\n",
        "plt.grid(True)\n",
        "plt.gca().set_ylim(0, 1)\n",
        "save_fig(\"keras_learning_curves_plot_1\")\n",
        "plt.show()"
      ],
      "metadata": {
        "id": "KlESI1yPqSgf"
      },
      "execution_count": null,
      "outputs": []
    },
    {
      "cell_type": "markdown",
      "source": [
        "Aumento de datos"
      ],
      "metadata": {
        "id": "D0xHE1xr0dzP"
      }
    },
    {
      "cell_type": "code",
      "source": [
        "def central_crop(image):\n",
        "    shape = tf.shape(image)\n",
        "    min_dim = tf.reduce_min([shape[0], shape[1]])\n",
        "    top_crop = (shape[0] - min_dim) // 4\n",
        "    bottom_crop = shape[0] - top_crop\n",
        "    left_crop = (shape[1] - min_dim) // 4\n",
        "    right_crop = shape[1] - left_crop\n",
        "    return image[top_crop:bottom_crop, left_crop:right_crop]\n",
        "\n",
        "def random_crop(image):\n",
        "    shape = tf.shape(image)\n",
        "    min_dim = tf.reduce_min([shape[0], shape[1]]) * 90 // 100\n",
        "    return tf.image.random_crop(image, [min_dim, min_dim, 3])\n",
        "\n",
        "def preprocess(image, label, randomize=False):\n",
        "    if randomize:\n",
        "        cropped_image = random_crop(image)\n",
        "        cropped_image = tf.image.random_flip_left_right(cropped_image)\n",
        "    else:\n",
        "        cropped_image = central_crop(image)\n",
        "    resized_image = tf.image.resize(cropped_image, [224, 224])\n",
        "    final_image = keras.applications.xception.preprocess_input(resized_image)\n",
        "    return final_image, label\n",
        "\n",
        "batch_size = 32\n",
        "train_set = train_set_raw.shuffle(1000).repeat()\n",
        "train_set = train_set.map(partial(preprocess, randomize=True)).batch(batch_size).prefetch(1)\n",
        "valid_set = valid_set_raw.map(preprocess).batch(batch_size).prefetch(1)\n",
        "test_set = test_set_raw.map(preprocess).batch(batch_size).prefetch(1)"
      ],
      "metadata": {
        "id": "S6GPWwMP0XeX"
      },
      "execution_count": null,
      "outputs": []
    },
    {
      "cell_type": "code",
      "source": [
        "history_1 = model.fit(train_set,\n",
        "                    steps_per_epoch=int(0.75 * dataset_size / batch_size),\n",
        "                    validation_data=valid_set,\n",
        "                    validation_steps=int(0.15 * dataset_size / batch_size),\n",
        "                    epochs=5)\n",
        "loss_test_1 = model.evaluate(test_set)"
      ],
      "metadata": {
        "id": "72QpYBbn4Y3Y"
      },
      "execution_count": null,
      "outputs": []
    },
    {
      "cell_type": "code",
      "source": [
        "test_split, valid_split, train_split = tfds.Split.TRAIN.subsplit([10, 15, 75])\n",
        "\n",
        "test_set_raw = tfds.load(\"cats_vs_dogs\", split=test_split, as_supervised=True)\n",
        "valid_set_raw = tfds.load(\"cats_vs_dogs\", split=valid_split, as_supervised=True)\n",
        "train_set_raw = tfds.load(\"cats_vs_dogs\", split=train_split, as_supervised=True)"
      ],
      "metadata": {
        "id": "LNg889E45bye"
      },
      "execution_count": null,
      "outputs": []
    }
  ]
}