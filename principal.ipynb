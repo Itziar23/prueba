{
  "nbformat": 4,
  "nbformat_minor": 0,
  "metadata": {
    "colab": {
      "provenance": [],
      "authorship_tag": "ABX9TyPEZhSmYaCKV6Q0O/0hYLcC",
      "include_colab_link": true
    },
    "kernelspec": {
      "name": "python3",
      "display_name": "Python 3"
    },
    "language_info": {
      "name": "python"
    },
    "accelerator": "GPU",
    "gpuClass": "standard"
  },
  "cells": [
    {
      "cell_type": "markdown",
      "metadata": {
        "id": "view-in-github",
        "colab_type": "text"
      },
      "source": [
        "<a href=\"https://colab.research.google.com/github/Itziar23/prueba/blob/master/principal.ipynb\" target=\"_parent\"><img src=\"https://colab.research.google.com/assets/colab-badge.svg\" alt=\"Open In Colab\"/></a>"
      ]
    },
    {
      "cell_type": "code",
      "execution_count": 7,
      "metadata": {
        "colab": {
          "base_uri": "https://localhost:8080/"
        },
        "id": "Sv3BhyeDIciu",
        "outputId": "85af2091-fcec-4b86-aacd-542977acd538"
      },
      "outputs": [
        {
          "output_type": "stream",
          "name": "stdout",
          "text": [
            "Mounted at /content/gdrive\n"
          ]
        }
      ],
      "source": [
        "import sys\n",
        "import os\n",
        "from google.colab import drive\n",
        "drive.mount('/content/gdrive')\n",
        "ruta='gdrive/My Drive/dataset/CAMUS/'"
      ]
    },
    {
      "cell_type": "code",
      "source": [
        "PROJECT_ROOT_DIR = \"/content/gdrive/MyDrive/Colab Notebooks/\"\n",
        "CHAPTER_ID = \"cnn\"\n",
        "IMAGES_PATH = os.path.join(PROJECT_ROOT_DIR, \"images\")"
      ],
      "metadata": {
        "id": "VOJzqWcqyE1s"
      },
      "execution_count": 8,
      "outputs": []
    },
    {
      "cell_type": "code",
      "source": [
        "pip install SimpleITK"
      ],
      "metadata": {
        "colab": {
          "base_uri": "https://localhost:8080/"
        },
        "id": "h3Si1fpKPp8u",
        "outputId": "3b99049b-5aaa-4c0d-ef64-bc0e7c9fd780"
      },
      "execution_count": 9,
      "outputs": [
        {
          "output_type": "stream",
          "name": "stdout",
          "text": [
            "Looking in indexes: https://pypi.org/simple, https://us-python.pkg.dev/colab-wheels/public/simple/\n",
            "Collecting SimpleITK\n",
            "  Downloading SimpleITK-2.2.1-cp39-cp39-manylinux_2_17_x86_64.manylinux2014_x86_64.whl (52.7 MB)\n",
            "\u001b[2K     \u001b[90m━━━━━━━━━━━━━━━━━━━━━━━━━━━━━━━━━━━━━━━━\u001b[0m \u001b[32m52.7/52.7 MB\u001b[0m \u001b[31m17.0 MB/s\u001b[0m eta \u001b[36m0:00:00\u001b[0m\n",
            "\u001b[?25hInstalling collected packages: SimpleITK\n",
            "Successfully installed SimpleITK-2.2.1\n"
          ]
        }
      ]
    },
    {
      "cell_type": "code",
      "source": [
        "import numpy as np\n",
        "import pandas as pd\n",
        "import matplotlib.pyplot as plt\n",
        "import SimpleITK as sitk\n",
        "import os\n",
        "\n",
        "%matplotlib inline"
      ],
      "metadata": {
        "id": "nUVa0vr_PAHG"
      },
      "execution_count": 10,
      "outputs": []
    },
    {
      "cell_type": "code",
      "source": [
        "def save_fig(fig_id, tight_layout=True, fig_extension=\"png\", resolution=300):\n",
        "    path = os.path.join(IMAGES_PATH, fig_id + \".\" + fig_extension)\n",
        "    print(\"Saving figure\", fig_id)\n",
        "    if tight_layout:\n",
        "        plt.tight_layout()\n",
        "    plt.savefig(path, format=fig_extension, dpi=resolution)"
      ],
      "metadata": {
        "id": "3YD6flEBrepa"
      },
      "execution_count": 11,
      "outputs": []
    },
    {
      "cell_type": "code",
      "source": [
        "print(os.getcwd())"
      ],
      "metadata": {
        "colab": {
          "base_uri": "https://localhost:8080/"
        },
        "id": "uG3axiHVXsVA",
        "outputId": "101a858c-6854-470d-b874-ae4378b57171"
      },
      "execution_count": 12,
      "outputs": [
        {
          "output_type": "stream",
          "name": "stdout",
          "text": [
            "/content\n"
          ]
        }
      ]
    },
    {
      "cell_type": "code",
      "source": [
        "import sys  \n",
        "sys.path.insert(0, '/content/gdrive/MyDrive/Colab Notebooks/architectures')\n",
        "from laddernet import LadderNet\n",
        "from unet import UNet\n",
        "from resunet import ResUNet"
      ],
      "metadata": {
        "id": "AaDntQUMXip9"
      },
      "execution_count": 13,
      "outputs": []
    },
    {
      "cell_type": "code",
      "source": [
        "import sys  \n",
        "sys.path.insert(0, '/content/gdrive/MyDrive/Colab Notebooks/metrics')\n",
        "from multiclass_dice import multiclass_dice"
      ],
      "metadata": {
        "id": "DvR8KdGS8lSA"
      },
      "execution_count": 14,
      "outputs": []
    },
    {
      "cell_type": "code",
      "source": [
        "import sys  \n",
        "sys.path.insert(0, '/content/gdrive/MyDrive/Colab Notebooks/metrics')\n",
        "from iou import iou"
      ],
      "metadata": {
        "id": "BRtdn3FoCfyC"
      },
      "execution_count": 15,
      "outputs": []
    },
    {
      "cell_type": "code",
      "source": [
        "fig_size = plt.rcParams[\"figure.figsize\"]\n",
        "\n",
        "fig_size[0] = 7\n",
        "fig_size[1] = 9\n",
        "plt.rcParams[\"figure.figsize\"] = fig_size"
      ],
      "metadata": {
        "id": "54TRe-JDPNI-"
      },
      "execution_count": 16,
      "outputs": []
    },
    {
      "cell_type": "code",
      "source": [
        "train_path = ruta + \"training/patient0001/\""
      ],
      "metadata": {
        "id": "oXoKa3_SPO2-"
      },
      "execution_count": 17,
      "outputs": []
    },
    {
      "cell_type": "code",
      "source": [
        "def mhd_to_array(path):\n",
        "    \"\"\"\n",
        "    Read an *.mhd file stored in path and return it as a numpy array.\n",
        "    \"\"\"\n",
        "    return sitk.GetArrayFromImage(sitk.ReadImage(path, sitk.sitkFloat32))"
      ],
      "metadata": {
        "id": "0IRetv7BPWp1"
      },
      "execution_count": 18,
      "outputs": []
    },
    {
      "cell_type": "code",
      "source": [
        "image = sitk.GetArrayFromImage(sitk.ReadImage(train_path + \"patient0001_4CH_ED.mhd\", sitk.sitkFloat32))\n",
        "mask = sitk.GetArrayFromImage(sitk.ReadImage(train_path + \"patient0001_4CH_ED_gt.mhd\", sitk.sitkFloat32))"
      ],
      "metadata": {
        "id": "lM1uKRavPbC9"
      },
      "execution_count": 19,
      "outputs": []
    },
    {
      "cell_type": "code",
      "source": [
        "np.shape(image)"
      ],
      "metadata": {
        "colab": {
          "base_uri": "https://localhost:8080/"
        },
        "id": "ycWNR3JbPdX2",
        "outputId": "21cd627d-cb7d-4d12-e49c-e744ce92ebb5"
      },
      "execution_count": 20,
      "outputs": [
        {
          "output_type": "execute_result",
          "data": {
            "text/plain": [
              "(1, 778, 549)"
            ]
          },
          "metadata": {},
          "execution_count": 20
        }
      ]
    },
    {
      "cell_type": "code",
      "source": [
        "np.shape(mask)"
      ],
      "metadata": {
        "colab": {
          "base_uri": "https://localhost:8080/"
        },
        "id": "SPgoCw7PPfGm",
        "outputId": "5bfe0d66-f06b-4a2d-c7bb-8bd0552e7f3b"
      },
      "execution_count": 21,
      "outputs": [
        {
          "output_type": "execute_result",
          "data": {
            "text/plain": [
              "(1, 778, 549)"
            ]
          },
          "metadata": {},
          "execution_count": 21
        }
      ]
    },
    {
      "cell_type": "code",
      "source": [
        "fig, ax = plt.subplots(2)\n",
        "ax[0].imshow(image[0]) # End Diastolic frame\n",
        "ax[1].imshow(mask[0]) # End Diastolic mask\n",
        "plt.show()"
      ],
      "metadata": {
        "colab": {
          "base_uri": "https://localhost:8080/",
          "height": 541
        },
        "id": "yOtHjdl4Pg4O",
        "outputId": "186b5b55-9efa-4c5d-b9aa-5a1eea82771a"
      },
      "execution_count": 22,
      "outputs": [
        {
          "output_type": "display_data",
          "data": {
            "text/plain": [
              "<Figure size 504x648 with 2 Axes>"
            ],
            "image/png": "[encoded data removed]"
          },
          "metadata": {
            "needs_background": "light"
          }
        }
      ]
    },
    {
      "cell_type": "code",
      "source": [
        "image = sitk.GetArrayFromImage(sitk.ReadImage(train_path + \"patient0001_4CH_ES.mhd\", sitk.sitkFloat32))\n",
        "mask = sitk.GetArrayFromImage(sitk.ReadImage(train_path + \"patient0001_4CH_ES_gt.mhd\", sitk.sitkFloat32))"
      ],
      "metadata": {
        "id": "iUzlVDdTeEHZ"
      },
      "execution_count": 23,
      "outputs": []
    },
    {
      "cell_type": "code",
      "source": [
        "np.shape(image)"
      ],
      "metadata": {
        "colab": {
          "base_uri": "https://localhost:8080/"
        },
        "id": "Mqvi41TreJ_S",
        "outputId": "94425fb2-8af3-4978-abc9-dc46a8c7a677"
      },
      "execution_count": 24,
      "outputs": [
        {
          "output_type": "execute_result",
          "data": {
            "text/plain": [
              "(1, 778, 549)"
            ]
          },
          "metadata": {},
          "execution_count": 24
        }
      ]
    },
    {
      "cell_type": "code",
      "source": [
        "np.shape(mask)"
      ],
      "metadata": {
        "colab": {
          "base_uri": "https://localhost:8080/"
        },
        "id": "WJHnqupEeK9y",
        "outputId": "fb97f859-f188-441f-a909-2a78621d8986"
      },
      "execution_count": 25,
      "outputs": [
        {
          "output_type": "execute_result",
          "data": {
            "text/plain": [
              "(1, 778, 549)"
            ]
          },
          "metadata": {},
          "execution_count": 25
        }
      ]
    },
    {
      "cell_type": "code",
      "source": [
        "fig, ax = plt.subplots(2)\n",
        "ax[0].imshow(image[0]) # End Diastolic frame\n",
        "ax[1].imshow(mask[0]) # End Diastolic mask\n",
        "plt.show()"
      ],
      "metadata": {
        "colab": {
          "base_uri": "https://localhost:8080/",
          "height": 541
        },
        "id": "u5Tjps4TeOeJ",
        "outputId": "78c25e3d-6c84-43aa-be33-81fa7c51eef3"
      },
      "execution_count": 26,
      "outputs": [
        {
          "output_type": "display_data",
          "data": {
            "text/plain": [
              "<Figure size 504x648 with 2 Axes>"
            ],
            "image/png": "[encoded data removed]"
          },
          "metadata": {
            "needs_background": "light"
          }
        }
      ]
    },
    {
      "cell_type": "code",
      "source": [
        "# Standard\n",
        "import os\n",
        "import sys\n",
        "import datetime\n",
        "import numpy as np\n",
        "import matplotlib.pyplot as plt\n",
        "# Utils\n",
        "import h5py\n",
        "# Deep Learning\n",
        "from sklearn.model_selection import train_test_split\n",
        "from tensorflow.keras import backend as K\n",
        "from tensorflow.keras.optimizers import Adam\n",
        "from tensorflow.keras.callbacks import EarlyStopping, ReduceLROnPlateau\n",
        "from tensorflow.keras.utils import plot_model"
      ],
      "metadata": {
        "id": "i2ZLe4TUsswb"
      },
      "execution_count": 27,
      "outputs": []
    },
    {
      "cell_type": "code",
      "source": [
        "earlystop = EarlyStopping(monitor='val_multiclass_dice', min_delta=0, patience=5,\n",
        "                          verbose=1, mode=\"max\", restore_best_weights = True)\n",
        "\n",
        "reduce_lr = ReduceLROnPlateau(monitor='val_multiclass_dice', factor=0.2, patience=2,\n",
        "                              verbose=1, mode=\"max\", min_lr=1e-5)"
      ],
      "metadata": {
        "id": "NQpYkrSLjj8j"
      },
      "execution_count": 28,
      "outputs": []
    },
    {
      "cell_type": "code",
      "source": [
        "f = h5py.File(\"gdrive/My Drive/dataset/image_dataset.hdf5\", \"r\")"
      ],
      "metadata": {
        "id": "tKuoJW7ojRdk"
      },
      "execution_count": 29,
      "outputs": []
    },
    {
      "cell_type": "code",
      "source": [
        "train_frames = f[\"train_4ch_ed_frames\"][:,:,:,:]\n",
        "train_masks = f[\"train_4ch_ed_masks\"][:,:,:,:]\n",
        "test_frames = f[\"test_4ch_ed_frames\"][:,:,:,:]\n",
        "test_masks = f[\"test_4ch_ed_masks\"][:,:,:,:]"
      ],
      "metadata": {
        "id": "Z62Lq0tvjVQ6"
      },
      "execution_count": 30,
      "outputs": []
    },
    {
      "cell_type": "code",
      "source": [
        "train_frames, valid_frames, train_masks, valid_masks = train_test_split(train_frames, train_masks)"
      ],
      "metadata": {
        "id": "AVNg0_rKjgyr"
      },
      "execution_count": 31,
      "outputs": []
    },
    {
      "cell_type": "code",
      "source": [
        "model_laddernet = LadderNet(input_size=(384, 384, 1), num_classes=4, filters=20)\n",
        "model_unet = UNet(input_size=(384, 384, 1), depth=5, num_classes=4, filters=10, batch_norm=True)"
      ],
      "metadata": {
        "id": "fdHcS-c1jp_8"
      },
      "execution_count": 32,
      "outputs": []
    },
    {
      "cell_type": "code",
      "source": [
        "model_unet.summary()"
      ],
      "metadata": {
        "id": "sAciEUg8KiA1",
        "colab": {
          "base_uri": "https://localhost:8080/"
        },
        "outputId": "8464fe14-5f0d-451a-9b96-87479a6c4915"
      },
      "execution_count": 27,
      "outputs": [
        {
          "output_type": "stream",
          "name": "stdout",
          "text": [
            "Model: \"model_1\"\n",
            "__________________________________________________________________________________________________\n",
            " Layer (type)                   Output Shape         Param #     Connected to                     \n",
            "==================================================================================================\n",
            " input_2 (InputLayer)           [(None, 384, 384, 1  0           []                               \n",
            "                                )]                                                                \n",
            "                                                                                                  \n",
            " conv2d_30 (Conv2D)             (None, 384, 384, 10  100         ['input_2[0][0]']                \n",
            "                                )                                                                 \n",
            "                                                                                                  \n",
            " batch_normalization_40 (BatchN  (None, 384, 384, 10  40         ['conv2d_30[0][0]']              \n",
            " ormalization)                  )                                                                 \n",
            "                                                                                                  \n",
            " conv2d_31 (Conv2D)             (None, 384, 384, 10  910         ['batch_normalization_40[0][0]'] \n",
            "                                )                                                                 \n",
            "                                                                                                  \n",
            " batch_normalization_41 (BatchN  (None, 384, 384, 10  40         ['conv2d_31[0][0]']              \n",
            " ormalization)                  )                                                                 \n",
            "                                                                                                  \n",
            " max_pooling2d (MaxPooling2D)   (None, 192, 192, 10  0           ['batch_normalization_41[0][0]'] \n",
            "                                )                                                                 \n",
            "                                                                                                  \n",
            " conv2d_32 (Conv2D)             (None, 192, 192, 20  1820        ['max_pooling2d[0][0]']          \n",
            "                                )                                                                 \n",
            "                                                                                                  \n",
            " batch_normalization_42 (BatchN  (None, 192, 192, 20  80         ['conv2d_32[0][0]']              \n",
            " ormalization)                  )                                                                 \n",
            "                                                                                                  \n",
            " conv2d_33 (Conv2D)             (None, 192, 192, 20  3620        ['batch_normalization_42[0][0]'] \n",
            "                                )                                                                 \n",
            "                                                                                                  \n",
            " batch_normalization_43 (BatchN  (None, 192, 192, 20  80         ['conv2d_33[0][0]']              \n",
            " ormalization)                  )                                                                 \n",
            "                                                                                                  \n",
            " max_pooling2d_1 (MaxPooling2D)  (None, 96, 96, 20)  0           ['batch_normalization_43[0][0]'] \n",
            "                                                                                                  \n",
            " conv2d_34 (Conv2D)             (None, 96, 96, 40)   7240        ['max_pooling2d_1[0][0]']        \n",
            "                                                                                                  \n",
            " batch_normalization_44 (BatchN  (None, 96, 96, 40)  160         ['conv2d_34[0][0]']              \n",
            " ormalization)                                                                                    \n",
            "                                                                                                  \n",
            " conv2d_35 (Conv2D)             (None, 96, 96, 40)   14440       ['batch_normalization_44[0][0]'] \n",
            "                                                                                                  \n",
            " batch_normalization_45 (BatchN  (None, 96, 96, 40)  160         ['conv2d_35[0][0]']              \n",
            " ormalization)                                                                                    \n",
            "                                                                                                  \n",
            " max_pooling2d_2 (MaxPooling2D)  (None, 48, 48, 40)  0           ['batch_normalization_45[0][0]'] \n",
            "                                                                                                  \n",
            " conv2d_36 (Conv2D)             (None, 48, 48, 80)   28880       ['max_pooling2d_2[0][0]']        \n",
            "                                                                                                  \n",
            " batch_normalization_46 (BatchN  (None, 48, 48, 80)  320         ['conv2d_36[0][0]']              \n",
            " ormalization)                                                                                    \n",
            "                                                                                                  \n",
            " conv2d_37 (Conv2D)             (None, 48, 48, 80)   57680       ['batch_normalization_46[0][0]'] \n",
            "                                                                                                  \n",
            " batch_normalization_47 (BatchN  (None, 48, 48, 80)  320         ['conv2d_37[0][0]']              \n",
            " ormalization)                                                                                    \n",
            "                                                                                                  \n",
            " max_pooling2d_3 (MaxPooling2D)  (None, 24, 24, 80)  0           ['batch_normalization_47[0][0]'] \n",
            "                                                                                                  \n",
            " conv2d_38 (Conv2D)             (None, 24, 24, 160)  115360      ['max_pooling2d_3[0][0]']        \n",
            "                                                                                                  \n",
            " batch_normalization_48 (BatchN  (None, 24, 24, 160)  640        ['conv2d_38[0][0]']              \n",
            " ormalization)                                                                                    \n",
            "                                                                                                  \n",
            " conv2d_39 (Conv2D)             (None, 24, 24, 160)  230560      ['batch_normalization_48[0][0]'] \n",
            "                                                                                                  \n",
            " batch_normalization_49 (BatchN  (None, 24, 24, 160)  640        ['conv2d_39[0][0]']              \n",
            " ormalization)                                                                                    \n",
            "                                                                                                  \n",
            " max_pooling2d_4 (MaxPooling2D)  (None, 12, 12, 160)  0          ['batch_normalization_49[0][0]'] \n",
            "                                                                                                  \n",
            " conv2d_40 (Conv2D)             (None, 12, 12, 320)  461120      ['max_pooling2d_4[0][0]']        \n",
            "                                                                                                  \n",
            " batch_normalization_50 (BatchN  (None, 12, 12, 320)  1280       ['conv2d_40[0][0]']              \n",
            " ormalization)                                                                                    \n",
            "                                                                                                  \n",
            " conv2d_41 (Conv2D)             (None, 12, 12, 320)  921920      ['batch_normalization_50[0][0]'] \n",
            "                                                                                                  \n",
            " batch_normalization_51 (BatchN  (None, 12, 12, 320)  1280       ['conv2d_41[0][0]']              \n",
            " ormalization)                                                                                    \n",
            "                                                                                                  \n",
            " up_sampling2d (UpSampling2D)   (None, 24, 24, 320)  0           ['batch_normalization_51[0][0]'] \n",
            "                                                                                                  \n",
            " concatenate (Concatenate)      (None, 24, 24, 480)  0           ['up_sampling2d[0][0]',          \n",
            "                                                                  'batch_normalization_49[0][0]'] \n",
            "                                                                                                  \n",
            " conv2d_42 (Conv2D)             (None, 24, 24, 160)  691360      ['concatenate[0][0]']            \n",
            "                                                                                                  \n",
            " batch_normalization_52 (BatchN  (None, 24, 24, 160)  640        ['conv2d_42[0][0]']              \n",
            " ormalization)                                                                                    \n",
            "                                                                                                  \n",
            " conv2d_43 (Conv2D)             (None, 24, 24, 160)  230560      ['batch_normalization_52[0][0]'] \n",
            "                                                                                                  \n",
            " batch_normalization_53 (BatchN  (None, 24, 24, 160)  640        ['conv2d_43[0][0]']              \n",
            " ormalization)                                                                                    \n",
            "                                                                                                  \n",
            " up_sampling2d_1 (UpSampling2D)  (None, 48, 48, 160)  0          ['batch_normalization_53[0][0]'] \n",
            "                                                                                                  \n",
            " concatenate_1 (Concatenate)    (None, 48, 48, 240)  0           ['up_sampling2d_1[0][0]',        \n",
            "                                                                  'batch_normalization_47[0][0]'] \n",
            "                                                                                                  \n",
            " conv2d_44 (Conv2D)             (None, 48, 48, 80)   172880      ['concatenate_1[0][0]']          \n",
            "                                                                                                  \n",
            " batch_normalization_54 (BatchN  (None, 48, 48, 80)  320         ['conv2d_44[0][0]']              \n",
            " ormalization)                                                                                    \n",
            "                                                                                                  \n",
            " conv2d_45 (Conv2D)             (None, 48, 48, 80)   57680       ['batch_normalization_54[0][0]'] \n",
            "                                                                                                  \n",
            " batch_normalization_55 (BatchN  (None, 48, 48, 80)  320         ['conv2d_45[0][0]']              \n",
            " ormalization)                                                                                    \n",
            "                                                                                                  \n",
            " up_sampling2d_2 (UpSampling2D)  (None, 96, 96, 80)  0           ['batch_normalization_55[0][0]'] \n",
            "                                                                                                  \n",
            " concatenate_2 (Concatenate)    (None, 96, 96, 120)  0           ['up_sampling2d_2[0][0]',        \n",
            "                                                                  'batch_normalization_45[0][0]'] \n",
            "                                                                                                  \n",
            " conv2d_46 (Conv2D)             (None, 96, 96, 40)   43240       ['concatenate_2[0][0]']          \n",
            "                                                                                                  \n",
            " batch_normalization_56 (BatchN  (None, 96, 96, 40)  160         ['conv2d_46[0][0]']              \n",
            " ormalization)                                                                                    \n",
            "                                                                                                  \n",
            " conv2d_47 (Conv2D)             (None, 96, 96, 40)   14440       ['batch_normalization_56[0][0]'] \n",
            "                                                                                                  \n",
            " batch_normalization_57 (BatchN  (None, 96, 96, 40)  160         ['conv2d_47[0][0]']              \n",
            " ormalization)                                                                                    \n",
            "                                                                                                  \n",
            " up_sampling2d_3 (UpSampling2D)  (None, 192, 192, 40  0          ['batch_normalization_57[0][0]'] \n",
            "                                )                                                                 \n",
            "                                                                                                  \n",
            " concatenate_3 (Concatenate)    (None, 192, 192, 60  0           ['up_sampling2d_3[0][0]',        \n",
            "                                )                                 'batch_normalization_43[0][0]'] \n",
            "                                                                                                  \n",
            " conv2d_48 (Conv2D)             (None, 192, 192, 20  10820       ['concatenate_3[0][0]']          \n",
            "                                )                                                                 \n",
            "                                                                                                  \n",
            " batch_normalization_58 (BatchN  (None, 192, 192, 20  80         ['conv2d_48[0][0]']              \n",
            " ormalization)                  )                                                                 \n",
            "                                                                                                  \n",
            " conv2d_49 (Conv2D)             (None, 192, 192, 20  3620        ['batch_normalization_58[0][0]'] \n",
            "                                )                                                                 \n",
            "                                                                                                  \n",
            " batch_normalization_59 (BatchN  (None, 192, 192, 20  80         ['conv2d_49[0][0]']              \n",
            " ormalization)                  )                                                                 \n",
            "                                                                                                  \n",
            " up_sampling2d_4 (UpSampling2D)  (None, 384, 384, 20  0          ['batch_normalization_59[0][0]'] \n",
            "                                )                                                                 \n",
            "                                                                                                  \n",
            " concatenate_4 (Concatenate)    (None, 384, 384, 30  0           ['up_sampling2d_4[0][0]',        \n",
            "                                )                                 'batch_normalization_41[0][0]'] \n",
            "                                                                                                  \n",
            " conv2d_50 (Conv2D)             (None, 384, 384, 10  2710        ['concatenate_4[0][0]']          \n",
            "                                )                                                                 \n",
            "                                                                                                  \n",
            " batch_normalization_60 (BatchN  (None, 384, 384, 10  40         ['conv2d_50[0][0]']              \n",
            " ormalization)                  )                                                                 \n",
            "                                                                                                  \n",
            " conv2d_51 (Conv2D)             (None, 384, 384, 10  910         ['batch_normalization_60[0][0]'] \n",
            "                                )                                                                 \n",
            "                                                                                                  \n",
            " batch_normalization_61 (BatchN  (None, 384, 384, 10  40         ['conv2d_51[0][0]']              \n",
            " ormalization)                  )                                                                 \n",
            "                                                                                                  \n",
            " conv2d_52 (Conv2D)             (None, 384, 384, 4)  44          ['batch_normalization_61[0][0]'] \n",
            "                                                                                                  \n",
            " batch_normalization_62 (BatchN  (None, 384, 384, 4)  16         ['conv2d_52[0][0]']              \n",
            " ormalization)                                                                                    \n",
            "                                                                                                  \n",
            " activation_29 (Activation)     (None, 384, 384, 4)  0           ['batch_normalization_62[0][0]'] \n",
            "                                                                                                  \n",
            "==================================================================================================\n",
            "Total params: 3,079,450\n",
            "Trainable params: 3,075,682\n",
            "Non-trainable params: 3,768\n",
            "__________________________________________________________________________________________________\n"
          ]
        }
      ]
    },
    {
      "cell_type": "code",
      "source": [
        "model_laddernet.summary()"
      ],
      "metadata": {
        "id": "_NnxZ6uSSpoo",
        "colab": {
          "base_uri": "https://localhost:8080/"
        },
        "outputId": "33c3edb3-78de-4be5-bdb2-165656c1e74f"
      },
      "execution_count": 28,
      "outputs": [
        {
          "output_type": "stream",
          "name": "stdout",
          "text": [
            "Model: \"model\"\n",
            "__________________________________________________________________________________________________\n",
            " Layer (type)                   Output Shape         Param #     Connected to                     \n",
            "==================================================================================================\n",
            " input_1 (InputLayer)           [(None, 384, 384, 1  0           []                               \n",
            "                                )]                                                                \n",
            "                                                                                                  \n",
            " conv2d (Conv2D)                (None, 384, 384, 20  200         ['input_1[0][0]']                \n",
            "                                )                                                                 \n",
            "                                                                                                  \n",
            " conv2d_1 (Conv2D)              (None, 384, 384, 20  3620        ['conv2d[0][0]',                 \n",
            "                                )                                 'dropout[0][0]']                \n",
            "                                                                                                  \n",
            " batch_normalization (BatchNorm  (None, 384, 384, 20  80         ['conv2d_1[0][0]']               \n",
            " alization)                     )                                                                 \n",
            "                                                                                                  \n",
            " activation (Activation)        (None, 384, 384, 20  0           ['batch_normalization[0][0]']    \n",
            "                                )                                                                 \n",
            "                                                                                                  \n",
            " dropout (Dropout)              (None, 384, 384, 20  0           ['activation[0][0]']             \n",
            "                                )                                                                 \n",
            "                                                                                                  \n",
            " batch_normalization_1 (BatchNo  (None, 384, 384, 20  80         ['conv2d_1[1][0]']               \n",
            " rmalization)                   )                                                                 \n",
            "                                                                                                  \n",
            " conv2d_2 (Conv2D)              (None, 191, 191, 40  7240        ['batch_normalization_1[0][0]']  \n",
            "                                )                                                                 \n",
            "                                                                                                  \n",
            " activation_1 (Activation)      (None, 191, 191, 40  0           ['conv2d_2[0][0]']               \n",
            "                                )                                                                 \n",
            "                                                                                                  \n",
            " conv2d_3 (Conv2D)              (None, 191, 191, 40  14440       ['activation_1[0][0]',           \n",
            "                                )                                 'dropout_1[0][0]']              \n",
            "                                                                                                  \n",
            " batch_normalization_2 (BatchNo  (None, 191, 191, 40  160        ['conv2d_3[0][0]']               \n",
            " rmalization)                   )                                                                 \n",
            "                                                                                                  \n",
            " activation_2 (Activation)      (None, 191, 191, 40  0           ['batch_normalization_2[0][0]']  \n",
            "                                )                                                                 \n",
            "                                                                                                  \n",
            " dropout_1 (Dropout)            (None, 191, 191, 40  0           ['activation_2[0][0]']           \n",
            "                                )                                                                 \n",
            "                                                                                                  \n",
            " batch_normalization_3 (BatchNo  (None, 191, 191, 40  160        ['conv2d_3[1][0]']               \n",
            " rmalization)                   )                                                                 \n",
            "                                                                                                  \n",
            " conv2d_4 (Conv2D)              (None, 95, 95, 80)   28880       ['batch_normalization_3[0][0]']  \n",
            "                                                                                                  \n",
            " activation_3 (Activation)      (None, 95, 95, 80)   0           ['conv2d_4[0][0]']               \n",
            "                                                                                                  \n",
            " conv2d_5 (Conv2D)              (None, 95, 95, 80)   57680       ['activation_3[0][0]',           \n",
            "                                                                  'dropout_2[0][0]']              \n",
            "                                                                                                  \n",
            " batch_normalization_4 (BatchNo  (None, 95, 95, 80)  320         ['conv2d_5[0][0]']               \n",
            " rmalization)                                                                                     \n",
            "                                                                                                  \n",
            " activation_4 (Activation)      (None, 95, 95, 80)   0           ['batch_normalization_4[0][0]']  \n",
            "                                                                                                  \n",
            " dropout_2 (Dropout)            (None, 95, 95, 80)   0           ['activation_4[0][0]']           \n",
            "                                                                                                  \n",
            " batch_normalization_5 (BatchNo  (None, 95, 95, 80)  320         ['conv2d_5[1][0]']               \n",
            " rmalization)                                                                                     \n",
            "                                                                                                  \n",
            " conv2d_6 (Conv2D)              (None, 47, 47, 160)  115360      ['batch_normalization_5[0][0]']  \n",
            "                                                                                                  \n",
            " activation_5 (Activation)      (None, 47, 47, 160)  0           ['conv2d_6[0][0]']               \n",
            "                                                                                                  \n",
            " conv2d_7 (Conv2D)              (None, 47, 47, 160)  230560      ['activation_5[0][0]',           \n",
            "                                                                  'dropout_3[0][0]']              \n",
            "                                                                                                  \n",
            " batch_normalization_6 (BatchNo  (None, 47, 47, 160)  640        ['conv2d_7[0][0]']               \n",
            " rmalization)                                                                                     \n",
            "                                                                                                  \n",
            " activation_6 (Activation)      (None, 47, 47, 160)  0           ['batch_normalization_6[0][0]']  \n",
            "                                                                                                  \n",
            " dropout_3 (Dropout)            (None, 47, 47, 160)  0           ['activation_6[0][0]']           \n",
            "                                                                                                  \n",
            " batch_normalization_7 (BatchNo  (None, 47, 47, 160)  640        ['conv2d_7[1][0]']               \n",
            " rmalization)                                                                                     \n",
            "                                                                                                  \n",
            " conv2d_8 (Conv2D)              (None, 23, 23, 320)  461120      ['batch_normalization_7[0][0]']  \n",
            "                                                                                                  \n",
            " activation_7 (Activation)      (None, 23, 23, 320)  0           ['conv2d_8[0][0]']               \n",
            "                                                                                                  \n",
            " conv2d_9 (Conv2D)              (None, 23, 23, 320)  921920      ['activation_7[0][0]',           \n",
            "                                                                  'dropout_4[0][0]']              \n",
            "                                                                                                  \n",
            " batch_normalization_8 (BatchNo  (None, 23, 23, 320)  1280       ['conv2d_9[0][0]']               \n",
            " rmalization)                                                                                     \n",
            "                                                                                                  \n",
            " activation_8 (Activation)      (None, 23, 23, 320)  0           ['batch_normalization_8[0][0]']  \n",
            "                                                                                                  \n",
            " dropout_4 (Dropout)            (None, 23, 23, 320)  0           ['activation_8[0][0]']           \n",
            "                                                                                                  \n",
            " batch_normalization_9 (BatchNo  (None, 23, 23, 320)  1280       ['conv2d_9[1][0]']               \n",
            " rmalization)                                                                                     \n",
            "                                                                                                  \n",
            " conv2d_transpose (Conv2DTransp  (None, 47, 47, 160)  460960     ['batch_normalization_9[0][0]']  \n",
            " ose)                                                                                             \n",
            "                                                                                                  \n",
            " add (Add)                      (None, 47, 47, 160)  0           ['conv2d_transpose[0][0]',       \n",
            "                                                                  'batch_normalization_7[0][0]']  \n",
            "                                                                                                  \n",
            " conv2d_10 (Conv2D)             (None, 47, 47, 160)  230560      ['add[0][0]',                    \n",
            "                                                                  'dropout_5[0][0]']              \n",
            "                                                                                                  \n",
            " batch_normalization_10 (BatchN  (None, 47, 47, 160)  640        ['conv2d_10[0][0]']              \n",
            " ormalization)                                                                                    \n",
            "                                                                                                  \n",
            " activation_9 (Activation)      (None, 47, 47, 160)  0           ['batch_normalization_10[0][0]'] \n",
            "                                                                                                  \n",
            " dropout_5 (Dropout)            (None, 47, 47, 160)  0           ['activation_9[0][0]']           \n",
            "                                                                                                  \n",
            " batch_normalization_11 (BatchN  (None, 47, 47, 160)  640        ['conv2d_10[1][0]']              \n",
            " ormalization)                                                                                    \n",
            "                                                                                                  \n",
            " conv2d_transpose_1 (Conv2DTran  (None, 95, 95, 80)  115280      ['batch_normalization_11[0][0]'] \n",
            " spose)                                                                                           \n",
            "                                                                                                  \n",
            " add_1 (Add)                    (None, 95, 95, 80)   0           ['conv2d_transpose_1[0][0]',     \n",
            "                                                                  'batch_normalization_5[0][0]']  \n",
            "                                                                                                  \n",
            " conv2d_11 (Conv2D)             (None, 95, 95, 80)   57680       ['add_1[0][0]',                  \n",
            "                                                                  'dropout_6[0][0]']              \n",
            "                                                                                                  \n",
            " batch_normalization_12 (BatchN  (None, 95, 95, 80)  320         ['conv2d_11[0][0]']              \n",
            " ormalization)                                                                                    \n",
            "                                                                                                  \n",
            " activation_10 (Activation)     (None, 95, 95, 80)   0           ['batch_normalization_12[0][0]'] \n",
            "                                                                                                  \n",
            " dropout_6 (Dropout)            (None, 95, 95, 80)   0           ['activation_10[0][0]']          \n",
            "                                                                                                  \n",
            " batch_normalization_13 (BatchN  (None, 95, 95, 80)  320         ['conv2d_11[1][0]']              \n",
            " ormalization)                                                                                    \n",
            "                                                                                                  \n",
            " conv2d_transpose_2 (Conv2DTran  (None, 191, 191, 40  28840      ['batch_normalization_13[0][0]'] \n",
            " spose)                         )                                                                 \n",
            "                                                                                                  \n",
            " add_2 (Add)                    (None, 191, 191, 40  0           ['conv2d_transpose_2[0][0]',     \n",
            "                                )                                 'batch_normalization_3[0][0]']  \n",
            "                                                                                                  \n",
            " conv2d_12 (Conv2D)             (None, 191, 191, 40  14440       ['add_2[0][0]',                  \n",
            "                                )                                 'dropout_7[0][0]']              \n",
            "                                                                                                  \n",
            " batch_normalization_14 (BatchN  (None, 191, 191, 40  160        ['conv2d_12[0][0]']              \n",
            " ormalization)                  )                                                                 \n",
            "                                                                                                  \n",
            " activation_11 (Activation)     (None, 191, 191, 40  0           ['batch_normalization_14[0][0]'] \n",
            "                                )                                                                 \n",
            "                                                                                                  \n",
            " dropout_7 (Dropout)            (None, 191, 191, 40  0           ['activation_11[0][0]']          \n",
            "                                )                                                                 \n",
            "                                                                                                  \n",
            " batch_normalization_15 (BatchN  (None, 191, 191, 40  160        ['conv2d_12[1][0]']              \n",
            " ormalization)                  )                                                                 \n",
            "                                                                                                  \n",
            " conv2d_transpose_3 (Conv2DTran  (None, 384, 384, 20  7220       ['batch_normalization_15[0][0]'] \n",
            " spose)                         )                                                                 \n",
            "                                                                                                  \n",
            " add_3 (Add)                    (None, 384, 384, 20  0           ['conv2d_transpose_3[0][0]',     \n",
            "                                )                                 'batch_normalization_1[0][0]']  \n",
            "                                                                                                  \n",
            " conv2d_13 (Conv2D)             (None, 384, 384, 20  3620        ['add_3[0][0]',                  \n",
            "                                )                                 'dropout_8[0][0]']              \n",
            "                                                                                                  \n",
            " batch_normalization_16 (BatchN  (None, 384, 384, 20  80         ['conv2d_13[0][0]']              \n",
            " ormalization)                  )                                                                 \n",
            "                                                                                                  \n",
            " activation_12 (Activation)     (None, 384, 384, 20  0           ['batch_normalization_16[0][0]'] \n",
            "                                )                                                                 \n",
            "                                                                                                  \n",
            " dropout_8 (Dropout)            (None, 384, 384, 20  0           ['activation_12[0][0]']          \n",
            "                                )                                                                 \n",
            "                                                                                                  \n",
            " batch_normalization_17 (BatchN  (None, 384, 384, 20  80         ['conv2d_13[1][0]']              \n",
            " ormalization)                  )                                                                 \n",
            "                                                                                                  \n",
            " conv2d_15 (Conv2D)             (None, 384, 384, 20  3620        ['batch_normalization_17[0][0]', \n",
            "                                )                                 'dropout_10[0][0]']             \n",
            "                                                                                                  \n",
            " conv2d_14 (Conv2D)             (None, 384, 384, 20  3620        ['batch_normalization_17[0][0]', \n",
            "                                )                                 'dropout_9[0][0]']              \n",
            "                                                                                                  \n",
            " batch_normalization_20 (BatchN  (None, 384, 384, 20  80         ['conv2d_15[0][0]']              \n",
            " ormalization)                  )                                                                 \n",
            "                                                                                                  \n",
            " batch_normalization_18 (BatchN  (None, 384, 384, 20  80         ['conv2d_14[0][0]']              \n",
            " ormalization)                  )                                                                 \n",
            "                                                                                                  \n",
            " activation_14 (Activation)     (None, 384, 384, 20  0           ['batch_normalization_20[0][0]'] \n",
            "                                )                                                                 \n",
            "                                                                                                  \n",
            " activation_13 (Activation)     (None, 384, 384, 20  0           ['batch_normalization_18[0][0]'] \n",
            "                                )                                                                 \n",
            "                                                                                                  \n",
            " dropout_10 (Dropout)           (None, 384, 384, 20  0           ['activation_14[0][0]']          \n",
            "                                )                                                                 \n",
            "                                                                                                  \n",
            " dropout_9 (Dropout)            (None, 384, 384, 20  0           ['activation_13[0][0]']          \n",
            "                                )                                                                 \n",
            "                                                                                                  \n",
            " batch_normalization_21 (BatchN  (None, 384, 384, 20  80         ['conv2d_15[1][0]']              \n",
            " ormalization)                  )                                                                 \n",
            "                                                                                                  \n",
            " batch_normalization_19 (BatchN  (None, 384, 384, 20  80         ['conv2d_14[1][0]']              \n",
            " ormalization)                  )                                                                 \n",
            "                                                                                                  \n",
            " add_4 (Add)                    (None, 384, 384, 20  0           ['batch_normalization_21[0][0]', \n",
            "                                )                                 'batch_normalization_19[0][0]'] \n",
            "                                                                                                  \n",
            " conv2d_17 (Conv2D)             (None, 191, 191, 40  7240        ['add_4[0][0]']                  \n",
            "                                )                                                                 \n",
            "                                                                                                  \n",
            " activation_16 (Activation)     (None, 191, 191, 40  0           ['conv2d_17[0][0]']              \n",
            "                                )                                                                 \n",
            "                                                                                                  \n",
            " add_5 (Add)                    (None, 191, 191, 40  0           ['batch_normalization_15[0][0]', \n",
            "                                )                                 'activation_16[0][0]']          \n",
            "                                                                                                  \n",
            " conv2d_19 (Conv2D)             (None, 95, 95, 80)   28880       ['add_5[0][0]']                  \n",
            "                                                                                                  \n",
            " activation_18 (Activation)     (None, 95, 95, 80)   0           ['conv2d_19[0][0]']              \n",
            "                                                                                                  \n",
            " add_6 (Add)                    (None, 95, 95, 80)   0           ['batch_normalization_13[0][0]', \n",
            "                                                                  'activation_18[0][0]']          \n",
            "                                                                                                  \n",
            " conv2d_21 (Conv2D)             (None, 47, 47, 160)  115360      ['add_6[0][0]']                  \n",
            "                                                                                                  \n",
            " activation_20 (Activation)     (None, 47, 47, 160)  0           ['conv2d_21[0][0]']              \n",
            "                                                                                                  \n",
            " add_7 (Add)                    (None, 47, 47, 160)  0           ['batch_normalization_11[0][0]', \n",
            "                                                                  'activation_20[0][0]']          \n",
            "                                                                                                  \n",
            " conv2d_23 (Conv2D)             (None, 23, 23, 320)  461120      ['add_7[0][0]']                  \n",
            "                                                                                                  \n",
            " activation_22 (Activation)     (None, 23, 23, 320)  0           ['conv2d_23[0][0]']              \n",
            "                                                                                                  \n",
            " conv2d_24 (Conv2D)             (None, 23, 23, 320)  921920      ['activation_22[0][0]',          \n",
            "                                                                  'dropout_15[0][0]']             \n",
            "                                                                                                  \n",
            " batch_normalization_30 (BatchN  (None, 23, 23, 320)  1280       ['conv2d_24[0][0]']              \n",
            " ormalization)                                                                                    \n",
            "                                                                                                  \n",
            " conv2d_22 (Conv2D)             (None, 47, 47, 160)  230560      ['add_7[0][0]',                  \n",
            "                                                                  'dropout_14[0][0]']             \n",
            "                                                                                                  \n",
            " activation_23 (Activation)     (None, 23, 23, 320)  0           ['batch_normalization_30[0][0]'] \n",
            "                                                                                                  \n",
            " batch_normalization_28 (BatchN  (None, 47, 47, 160)  640        ['conv2d_22[0][0]']              \n",
            " ormalization)                                                                                    \n",
            "                                                                                                  \n",
            " dropout_15 (Dropout)           (None, 23, 23, 320)  0           ['activation_23[0][0]']          \n",
            "                                                                                                  \n",
            " activation_21 (Activation)     (None, 47, 47, 160)  0           ['batch_normalization_28[0][0]'] \n",
            "                                                                                                  \n",
            " dropout_14 (Dropout)           (None, 47, 47, 160)  0           ['activation_21[0][0]']          \n",
            "                                                                                                  \n",
            " batch_normalization_31 (BatchN  (None, 23, 23, 320)  1280       ['conv2d_24[1][0]']              \n",
            " ormalization)                                                                                    \n",
            "                                                                                                  \n",
            " conv2d_transpose_4 (Conv2DTran  (None, 47, 47, 160)  460960     ['batch_normalization_31[0][0]'] \n",
            " spose)                                                                                           \n",
            "                                                                                                  \n",
            " batch_normalization_29 (BatchN  (None, 47, 47, 160)  640        ['conv2d_22[1][0]']              \n",
            " ormalization)                                                                                    \n",
            "                                                                                                  \n",
            " add_8 (Add)                    (None, 47, 47, 160)  0           ['conv2d_transpose_4[0][0]',     \n",
            "                                                                  'batch_normalization_29[0][0]'] \n",
            "                                                                                                  \n",
            " conv2d_25 (Conv2D)             (None, 47, 47, 160)  230560      ['add_8[0][0]',                  \n",
            "                                                                  'dropout_16[0][0]']             \n",
            "                                                                                                  \n",
            " batch_normalization_32 (BatchN  (None, 47, 47, 160)  640        ['conv2d_25[0][0]']              \n",
            " ormalization)                                                                                    \n",
            "                                                                                                  \n",
            " conv2d_20 (Conv2D)             (None, 95, 95, 80)   57680       ['add_6[0][0]',                  \n",
            "                                                                  'dropout_13[0][0]']             \n",
            "                                                                                                  \n",
            " activation_24 (Activation)     (None, 47, 47, 160)  0           ['batch_normalization_32[0][0]'] \n",
            "                                                                                                  \n",
            " batch_normalization_26 (BatchN  (None, 95, 95, 80)  320         ['conv2d_20[0][0]']              \n",
            " ormalization)                                                                                    \n",
            "                                                                                                  \n",
            " dropout_16 (Dropout)           (None, 47, 47, 160)  0           ['activation_24[0][0]']          \n",
            "                                                                                                  \n",
            " activation_19 (Activation)     (None, 95, 95, 80)   0           ['batch_normalization_26[0][0]'] \n",
            "                                                                                                  \n",
            " dropout_13 (Dropout)           (None, 95, 95, 80)   0           ['activation_19[0][0]']          \n",
            "                                                                                                  \n",
            " batch_normalization_33 (BatchN  (None, 47, 47, 160)  640        ['conv2d_25[1][0]']              \n",
            " ormalization)                                                                                    \n",
            "                                                                                                  \n",
            " conv2d_transpose_5 (Conv2DTran  (None, 95, 95, 80)  115280      ['batch_normalization_33[0][0]'] \n",
            " spose)                                                                                           \n",
            "                                                                                                  \n",
            " batch_normalization_27 (BatchN  (None, 95, 95, 80)  320         ['conv2d_20[1][0]']              \n",
            " ormalization)                                                                                    \n",
            "                                                                                                  \n",
            " add_9 (Add)                    (None, 95, 95, 80)   0           ['conv2d_transpose_5[0][0]',     \n",
            "                                                                  'batch_normalization_27[0][0]'] \n",
            "                                                                                                  \n",
            " conv2d_26 (Conv2D)             (None, 95, 95, 80)   57680       ['add_9[0][0]',                  \n",
            "                                                                  'dropout_17[0][0]']             \n",
            "                                                                                                  \n",
            " batch_normalization_34 (BatchN  (None, 95, 95, 80)  320         ['conv2d_26[0][0]']              \n",
            " ormalization)                                                                                    \n",
            "                                                                                                  \n",
            " conv2d_18 (Conv2D)             (None, 191, 191, 40  14440       ['add_5[0][0]',                  \n",
            "                                )                                 'dropout_12[0][0]']             \n",
            "                                                                                                  \n",
            " activation_25 (Activation)     (None, 95, 95, 80)   0           ['batch_normalization_34[0][0]'] \n",
            "                                                                                                  \n",
            " batch_normalization_24 (BatchN  (None, 191, 191, 40  160        ['conv2d_18[0][0]']              \n",
            " ormalization)                  )                                                                 \n",
            "                                                                                                  \n",
            " dropout_17 (Dropout)           (None, 95, 95, 80)   0           ['activation_25[0][0]']          \n",
            "                                                                                                  \n",
            " activation_17 (Activation)     (None, 191, 191, 40  0           ['batch_normalization_24[0][0]'] \n",
            "                                )                                                                 \n",
            "                                                                                                  \n",
            " dropout_12 (Dropout)           (None, 191, 191, 40  0           ['activation_17[0][0]']          \n",
            "                                )                                                                 \n",
            "                                                                                                  \n",
            " batch_normalization_35 (BatchN  (None, 95, 95, 80)  320         ['conv2d_26[1][0]']              \n",
            " ormalization)                                                                                    \n",
            "                                                                                                  \n",
            " conv2d_transpose_6 (Conv2DTran  (None, 191, 191, 40  28840      ['batch_normalization_35[0][0]'] \n",
            " spose)                         )                                                                 \n",
            "                                                                                                  \n",
            " batch_normalization_25 (BatchN  (None, 191, 191, 40  160        ['conv2d_18[1][0]']              \n",
            " ormalization)                  )                                                                 \n",
            "                                                                                                  \n",
            " add_10 (Add)                   (None, 191, 191, 40  0           ['conv2d_transpose_6[0][0]',     \n",
            "                                )                                 'batch_normalization_25[0][0]'] \n",
            "                                                                                                  \n",
            " conv2d_27 (Conv2D)             (None, 191, 191, 40  14440       ['add_10[0][0]',                 \n",
            "                                )                                 'dropout_18[0][0]']             \n",
            "                                                                                                  \n",
            " batch_normalization_36 (BatchN  (None, 191, 191, 40  160        ['conv2d_27[0][0]']              \n",
            " ormalization)                  )                                                                 \n",
            "                                                                                                  \n",
            " conv2d_16 (Conv2D)             (None, 384, 384, 20  3620        ['add_4[0][0]',                  \n",
            "                                )                                 'dropout_11[0][0]']             \n",
            "                                                                                                  \n",
            " activation_26 (Activation)     (None, 191, 191, 40  0           ['batch_normalization_36[0][0]'] \n",
            "                                )                                                                 \n",
            "                                                                                                  \n",
            " batch_normalization_22 (BatchN  (None, 384, 384, 20  80         ['conv2d_16[0][0]']              \n",
            " ormalization)                  )                                                                 \n",
            "                                                                                                  \n",
            " dropout_18 (Dropout)           (None, 191, 191, 40  0           ['activation_26[0][0]']          \n",
            "                                )                                                                 \n",
            "                                                                                                  \n",
            " activation_15 (Activation)     (None, 384, 384, 20  0           ['batch_normalization_22[0][0]'] \n",
            "                                )                                                                 \n",
            "                                                                                                  \n",
            " dropout_11 (Dropout)           (None, 384, 384, 20  0           ['activation_15[0][0]']          \n",
            "                                )                                                                 \n",
            "                                                                                                  \n",
            " batch_normalization_37 (BatchN  (None, 191, 191, 40  160        ['conv2d_27[1][0]']              \n",
            " ormalization)                  )                                                                 \n",
            "                                                                                                  \n",
            " conv2d_transpose_7 (Conv2DTran  (None, 384, 384, 20  7220       ['batch_normalization_37[0][0]'] \n",
            " spose)                         )                                                                 \n",
            "                                                                                                  \n",
            " batch_normalization_23 (BatchN  (None, 384, 384, 20  80         ['conv2d_16[1][0]']              \n",
            " ormalization)                  )                                                                 \n",
            "                                                                                                  \n",
            " add_11 (Add)                   (None, 384, 384, 20  0           ['conv2d_transpose_7[0][0]',     \n",
            "                                )                                 'batch_normalization_23[0][0]'] \n",
            "                                                                                                  \n",
            " conv2d_28 (Conv2D)             (None, 384, 384, 20  3620        ['add_11[0][0]',                 \n",
            "                                )                                 'dropout_19[0][0]']             \n",
            "                                                                                                  \n",
            " batch_normalization_38 (BatchN  (None, 384, 384, 20  80         ['conv2d_28[0][0]']              \n",
            " ormalization)                  )                                                                 \n",
            "                                                                                                  \n",
            " activation_27 (Activation)     (None, 384, 384, 20  0           ['batch_normalization_38[0][0]'] \n",
            "                                )                                                                 \n",
            "                                                                                                  \n",
            " dropout_19 (Dropout)           (None, 384, 384, 20  0           ['activation_27[0][0]']          \n",
            "                                )                                                                 \n",
            "                                                                                                  \n",
            " batch_normalization_39 (BatchN  (None, 384, 384, 20  80         ['conv2d_28[1][0]']              \n",
            " ormalization)                  )                                                                 \n",
            "                                                                                                  \n",
            " conv2d_29 (Conv2D)             (None, 384, 384, 4)  84          ['batch_normalization_39[0][0]'] \n",
            "                                                                                                  \n",
            " activation_28 (Activation)     (None, 384, 384, 4)  0           ['conv2d_29[0][0]']              \n",
            "                                                                                                  \n",
            "==================================================================================================\n",
            "Total params: 5,541,404\n",
            "Trainable params: 5,533,884\n",
            "Non-trainable params: 7,520\n",
            "__________________________________________________________________________________________________\n"
          ]
        }
      ]
    },
    {
      "cell_type": "code",
      "source": [
        "model_laddernet.compile(optimizer=Adam(learning_rate=1e-3), loss=\"sparse_categorical_crossentropy\", metrics=[multiclass_dice,iou, \"accuracy\"])"
      ],
      "metadata": {
        "id": "nreu1w5Sjjib"
      },
      "execution_count": 29,
      "outputs": []
    },
    {
      "cell_type": "code",
      "source": [
        "history_laddernet=model_laddernet.fit(x=train_frames,\n",
        "                    y=train_masks,\n",
        "                    validation_data=[test_frames, test_masks],\n",
        "                    batch_size=5,\n",
        "                    epochs=150,\n",
        "                    callbacks=[earlystop, reduce_lr])"
      ],
      "metadata": {
        "colab": {
          "base_uri": "https://localhost:8080/",
          "height": 431
        },
        "id": "4WQ9127je8yq",
        "outputId": "c27298a4-be80-4c1a-fdae-d964a1c55583"
      },
      "execution_count": 30,
      "outputs": [
        {
          "output_type": "stream",
          "name": "stdout",
          "text": [
            "Epoch 1/150\n",
            " 16/135 [==>...........................] - ETA: 1:05 - loss: 1.3937 - multiclass_dice: 0.1622 - iou: 0.0902 - accuracy: 0.6669"
          ]
        },
        {
          "output_type": "error",
          "ename": "KeyboardInterrupt",
          "evalue": "ignored",
          "traceback": [
            "\u001b[0;31m---------------------------------------------------------------------------\u001b[0m",
            "\u001b[0;31mKeyboardInterrupt\u001b[0m                         Traceback (most recent call last)",
            "\u001b[0;32m<ipython-input-30-2b6f535a6599>\u001b[0m in \u001b[0;36m<module>\u001b[0;34m\u001b[0m\n\u001b[0;32m----> 1\u001b[0;31m model_laddernet.fit(x=train_frames,\n\u001b[0m\u001b[1;32m      2\u001b[0m                     \u001b[0my\u001b[0m\u001b[0;34m=\u001b[0m\u001b[0mtrain_masks\u001b[0m\u001b[0;34m,\u001b[0m\u001b[0;34m\u001b[0m\u001b[0;34m\u001b[0m\u001b[0m\n\u001b[1;32m      3\u001b[0m                     \u001b[0mvalidation_data\u001b[0m\u001b[0;34m=\u001b[0m\u001b[0;34m[\u001b[0m\u001b[0mtest_frames\u001b[0m\u001b[0;34m,\u001b[0m \u001b[0mtest_masks\u001b[0m\u001b[0;34m]\u001b[0m\u001b[0;34m,\u001b[0m\u001b[0;34m\u001b[0m\u001b[0;34m\u001b[0m\u001b[0m\n\u001b[1;32m      4\u001b[0m                     \u001b[0mbatch_size\u001b[0m\u001b[0;34m=\u001b[0m\u001b[0;36m5\u001b[0m\u001b[0;34m,\u001b[0m\u001b[0;34m\u001b[0m\u001b[0;34m\u001b[0m\u001b[0m\n\u001b[1;32m      5\u001b[0m                     \u001b[0mepochs\u001b[0m\u001b[0;34m=\u001b[0m\u001b[0;36m150\u001b[0m\u001b[0;34m,\u001b[0m\u001b[0;34m\u001b[0m\u001b[0;34m\u001b[0m\u001b[0m\n",
            "\u001b[0;32m/usr/local/lib/python3.9/dist-packages/keras/utils/traceback_utils.py\u001b[0m in \u001b[0;36merror_handler\u001b[0;34m(*args, **kwargs)\u001b[0m\n\u001b[1;32m     63\u001b[0m         \u001b[0mfiltered_tb\u001b[0m \u001b[0;34m=\u001b[0m \u001b[0;32mNone\u001b[0m\u001b[0;34m\u001b[0m\u001b[0;34m\u001b[0m\u001b[0m\n\u001b[1;32m     64\u001b[0m         \u001b[0;32mtry\u001b[0m\u001b[0;34m:\u001b[0m\u001b[0;34m\u001b[0m\u001b[0;34m\u001b[0m\u001b[0m\n\u001b[0;32m---> 65\u001b[0;31m             \u001b[0;32mreturn\u001b[0m \u001b[0mfn\u001b[0m\u001b[0;34m(\u001b[0m\u001b[0;34m*\u001b[0m\u001b[0margs\u001b[0m\u001b[0;34m,\u001b[0m \u001b[0;34m**\u001b[0m\u001b[0mkwargs\u001b[0m\u001b[0;34m)\u001b[0m\u001b[0;34m\u001b[0m\u001b[0;34m\u001b[0m\u001b[0m\n\u001b[0m\u001b[1;32m     66\u001b[0m         \u001b[0;32mexcept\u001b[0m \u001b[0mException\u001b[0m \u001b[0;32mas\u001b[0m \u001b[0me\u001b[0m\u001b[0;34m:\u001b[0m\u001b[0;34m\u001b[0m\u001b[0;34m\u001b[0m\u001b[0m\n\u001b[1;32m     67\u001b[0m             \u001b[0mfiltered_tb\u001b[0m \u001b[0;34m=\u001b[0m \u001b[0m_process_traceback_frames\u001b[0m\u001b[0;34m(\u001b[0m\u001b[0me\u001b[0m\u001b[0;34m.\u001b[0m\u001b[0m__traceback__\u001b[0m\u001b[0;34m)\u001b[0m\u001b[0;34m\u001b[0m\u001b[0;34m\u001b[0m\u001b[0m\n",
            "\u001b[0;32m/usr/local/lib/python3.9/dist-packages/keras/engine/training.py\u001b[0m in \u001b[0;36mfit\u001b[0;34m(self, x, y, batch_size, epochs, verbose, callbacks, validation_split, validation_data, shuffle, class_weight, sample_weight, initial_epoch, steps_per_epoch, validation_steps, validation_batch_size, validation_freq, max_queue_size, workers, use_multiprocessing)\u001b[0m\n\u001b[1;32m   1654\u001b[0m                             \u001b[0mlogs\u001b[0m \u001b[0;34m=\u001b[0m \u001b[0mtmp_logs\u001b[0m\u001b[0;34m\u001b[0m\u001b[0;34m\u001b[0m\u001b[0m\n\u001b[1;32m   1655\u001b[0m                             \u001b[0mend_step\u001b[0m \u001b[0;34m=\u001b[0m \u001b[0mstep\u001b[0m \u001b[0;34m+\u001b[0m \u001b[0mdata_handler\u001b[0m\u001b[0;34m.\u001b[0m\u001b[0mstep_increment\u001b[0m\u001b[0;34m\u001b[0m\u001b[0;34m\u001b[0m\u001b[0m\n\u001b[0;32m-> 1656\u001b[0;31m                             \u001b[0mcallbacks\u001b[0m\u001b[0;34m.\u001b[0m\u001b[0mon_train_batch_end\u001b[0m\u001b[0;34m(\u001b[0m\u001b[0mend_step\u001b[0m\u001b[0;34m,\u001b[0m \u001b[0mlogs\u001b[0m\u001b[0;34m)\u001b[0m\u001b[0;34m\u001b[0m\u001b[0;34m\u001b[0m\u001b[0m\n\u001b[0m\u001b[1;32m   1657\u001b[0m                             \u001b[0;32mif\u001b[0m \u001b[0mself\u001b[0m\u001b[0;34m.\u001b[0m\u001b[0mstop_training\u001b[0m\u001b[0;34m:\u001b[0m\u001b[0;34m\u001b[0m\u001b[0;34m\u001b[0m\u001b[0m\n\u001b[1;32m   1658\u001b[0m                                 \u001b[0;32mbreak\u001b[0m\u001b[0;34m\u001b[0m\u001b[0;34m\u001b[0m\u001b[0m\n",
            "\u001b[0;32m/usr/local/lib/python3.9/dist-packages/keras/callbacks.py\u001b[0m in \u001b[0;36mon_train_batch_end\u001b[0;34m(self, batch, logs)\u001b[0m\n\u001b[1;32m    474\u001b[0m         \"\"\"\n\u001b[1;32m    475\u001b[0m         \u001b[0;32mif\u001b[0m \u001b[0mself\u001b[0m\u001b[0;34m.\u001b[0m\u001b[0m_should_call_train_batch_hooks\u001b[0m\u001b[0;34m:\u001b[0m\u001b[0;34m\u001b[0m\u001b[0;34m\u001b[0m\u001b[0m\n\u001b[0;32m--> 476\u001b[0;31m             \u001b[0mself\u001b[0m\u001b[0;34m.\u001b[0m\u001b[0m_call_batch_hook\u001b[0m\u001b[0;34m(\u001b[0m\u001b[0mModeKeys\u001b[0m\u001b[0;34m.\u001b[0m\u001b[0mTRAIN\u001b[0m\u001b[0;34m,\u001b[0m \u001b[0;34m\"end\"\u001b[0m\u001b[0;34m,\u001b[0m \u001b[0mbatch\u001b[0m\u001b[0;34m,\u001b[0m \u001b[0mlogs\u001b[0m\u001b[0;34m=\u001b[0m\u001b[0mlogs\u001b[0m\u001b[0;34m)\u001b[0m\u001b[0;34m\u001b[0m\u001b[0;34m\u001b[0m\u001b[0m\n\u001b[0m\u001b[1;32m    477\u001b[0m \u001b[0;34m\u001b[0m\u001b[0m\n\u001b[1;32m    478\u001b[0m     \u001b[0;32mdef\u001b[0m \u001b[0mon_test_batch_begin\u001b[0m\u001b[0;34m(\u001b[0m\u001b[0mself\u001b[0m\u001b[0;34m,\u001b[0m \u001b[0mbatch\u001b[0m\u001b[0;34m,\u001b[0m \u001b[0mlogs\u001b[0m\u001b[0;34m=\u001b[0m\u001b[0;32mNone\u001b[0m\u001b[0;34m)\u001b[0m\u001b[0;34m:\u001b[0m\u001b[0;34m\u001b[0m\u001b[0;34m\u001b[0m\u001b[0m\n",
            "\u001b[0;32m/usr/local/lib/python3.9/dist-packages/keras/callbacks.py\u001b[0m in \u001b[0;36m_call_batch_hook\u001b[0;34m(self, mode, hook, batch, logs)\u001b[0m\n\u001b[1;32m    321\u001b[0m             \u001b[0mself\u001b[0m\u001b[0;34m.\u001b[0m\u001b[0m_call_batch_begin_hook\u001b[0m\u001b[0;34m(\u001b[0m\u001b[0mmode\u001b[0m\u001b[0;34m,\u001b[0m \u001b[0mbatch\u001b[0m\u001b[0;34m,\u001b[0m \u001b[0mlogs\u001b[0m\u001b[0;34m)\u001b[0m\u001b[0;34m\u001b[0m\u001b[0;34m\u001b[0m\u001b[0m\n\u001b[1;32m    322\u001b[0m         \u001b[0;32melif\u001b[0m \u001b[0mhook\u001b[0m \u001b[0;34m==\u001b[0m \u001b[0;34m\"end\"\u001b[0m\u001b[0;34m:\u001b[0m\u001b[0;34m\u001b[0m\u001b[0;34m\u001b[0m\u001b[0m\n\u001b[0;32m--> 323\u001b[0;31m             \u001b[0mself\u001b[0m\u001b[0;34m.\u001b[0m\u001b[0m_call_batch_end_hook\u001b[0m\u001b[0;34m(\u001b[0m\u001b[0mmode\u001b[0m\u001b[0;34m,\u001b[0m \u001b[0mbatch\u001b[0m\u001b[0;34m,\u001b[0m \u001b[0mlogs\u001b[0m\u001b[0;34m)\u001b[0m\u001b[0;34m\u001b[0m\u001b[0;34m\u001b[0m\u001b[0m\n\u001b[0m\u001b[1;32m    324\u001b[0m         \u001b[0;32melse\u001b[0m\u001b[0;34m:\u001b[0m\u001b[0;34m\u001b[0m\u001b[0;34m\u001b[0m\u001b[0m\n\u001b[1;32m    325\u001b[0m             raise ValueError(\n",
            "\u001b[0;32m/usr/local/lib/python3.9/dist-packages/keras/callbacks.py\u001b[0m in \u001b[0;36m_call_batch_end_hook\u001b[0;34m(self, mode, batch, logs)\u001b[0m\n\u001b[1;32m    344\u001b[0m             \u001b[0mself\u001b[0m\u001b[0;34m.\u001b[0m\u001b[0m_batch_times\u001b[0m\u001b[0;34m.\u001b[0m\u001b[0mappend\u001b[0m\u001b[0;34m(\u001b[0m\u001b[0mbatch_time\u001b[0m\u001b[0;34m)\u001b[0m\u001b[0;34m\u001b[0m\u001b[0;34m\u001b[0m\u001b[0m\n\u001b[1;32m    345\u001b[0m \u001b[0;34m\u001b[0m\u001b[0m\n\u001b[0;32m--> 346\u001b[0;31m         \u001b[0mself\u001b[0m\u001b[0;34m.\u001b[0m\u001b[0m_call_batch_hook_helper\u001b[0m\u001b[0;34m(\u001b[0m\u001b[0mhook_name\u001b[0m\u001b[0;34m,\u001b[0m \u001b[0mbatch\u001b[0m\u001b[0;34m,\u001b[0m \u001b[0mlogs\u001b[0m\u001b[0;34m)\u001b[0m\u001b[0;34m\u001b[0m\u001b[0;34m\u001b[0m\u001b[0m\n\u001b[0m\u001b[1;32m    347\u001b[0m \u001b[0;34m\u001b[0m\u001b[0m\n\u001b[1;32m    348\u001b[0m         \u001b[0;32mif\u001b[0m \u001b[0mlen\u001b[0m\u001b[0;34m(\u001b[0m\u001b[0mself\u001b[0m\u001b[0;34m.\u001b[0m\u001b[0m_batch_times\u001b[0m\u001b[0;34m)\u001b[0m \u001b[0;34m>=\u001b[0m \u001b[0mself\u001b[0m\u001b[0;34m.\u001b[0m\u001b[0m_num_batches_for_timing_check\u001b[0m\u001b[0;34m:\u001b[0m\u001b[0;34m\u001b[0m\u001b[0;34m\u001b[0m\u001b[0m\n",
            "\u001b[0;32m/usr/local/lib/python3.9/dist-packages/keras/callbacks.py\u001b[0m in \u001b[0;36m_call_batch_hook_helper\u001b[0;34m(self, hook_name, batch, logs)\u001b[0m\n\u001b[1;32m    392\u001b[0m         \u001b[0;32mfor\u001b[0m \u001b[0mcallback\u001b[0m \u001b[0;32min\u001b[0m \u001b[0mself\u001b[0m\u001b[0;34m.\u001b[0m\u001b[0mcallbacks\u001b[0m\u001b[0;34m:\u001b[0m\u001b[0;34m\u001b[0m\u001b[0;34m\u001b[0m\u001b[0m\n\u001b[1;32m    393\u001b[0m             \u001b[0mhook\u001b[0m \u001b[0;34m=\u001b[0m \u001b[0mgetattr\u001b[0m\u001b[0;34m(\u001b[0m\u001b[0mcallback\u001b[0m\u001b[0;34m,\u001b[0m \u001b[0mhook_name\u001b[0m\u001b[0;34m)\u001b[0m\u001b[0;34m\u001b[0m\u001b[0;34m\u001b[0m\u001b[0m\n\u001b[0;32m--> 394\u001b[0;31m             \u001b[0mhook\u001b[0m\u001b[0;34m(\u001b[0m\u001b[0mbatch\u001b[0m\u001b[0;34m,\u001b[0m \u001b[0mlogs\u001b[0m\u001b[0;34m)\u001b[0m\u001b[0;34m\u001b[0m\u001b[0;34m\u001b[0m\u001b[0m\n\u001b[0m\u001b[1;32m    395\u001b[0m \u001b[0;34m\u001b[0m\u001b[0m\n\u001b[1;32m    396\u001b[0m         \u001b[0;32mif\u001b[0m \u001b[0mself\u001b[0m\u001b[0;34m.\u001b[0m\u001b[0m_check_timing\u001b[0m\u001b[0;34m:\u001b[0m\u001b[0;34m\u001b[0m\u001b[0;34m\u001b[0m\u001b[0m\n",
            "\u001b[0;32m/usr/local/lib/python3.9/dist-packages/keras/callbacks.py\u001b[0m in \u001b[0;36mon_train_batch_end\u001b[0;34m(self, batch, logs)\u001b[0m\n\u001b[1;32m   1092\u001b[0m \u001b[0;34m\u001b[0m\u001b[0m\n\u001b[1;32m   1093\u001b[0m     \u001b[0;32mdef\u001b[0m \u001b[0mon_train_batch_end\u001b[0m\u001b[0;34m(\u001b[0m\u001b[0mself\u001b[0m\u001b[0;34m,\u001b[0m \u001b[0mbatch\u001b[0m\u001b[0;34m,\u001b[0m \u001b[0mlogs\u001b[0m\u001b[0;34m=\u001b[0m\u001b[0;32mNone\u001b[0m\u001b[0;34m)\u001b[0m\u001b[0;34m:\u001b[0m\u001b[0;34m\u001b[0m\u001b[0;34m\u001b[0m\u001b[0m\n\u001b[0;32m-> 1094\u001b[0;31m         \u001b[0mself\u001b[0m\u001b[0;34m.\u001b[0m\u001b[0m_batch_update_progbar\u001b[0m\u001b[0;34m(\u001b[0m\u001b[0mbatch\u001b[0m\u001b[0;34m,\u001b[0m \u001b[0mlogs\u001b[0m\u001b[0;34m)\u001b[0m\u001b[0;34m\u001b[0m\u001b[0;34m\u001b[0m\u001b[0m\n\u001b[0m\u001b[1;32m   1095\u001b[0m \u001b[0;34m\u001b[0m\u001b[0m\n\u001b[1;32m   1096\u001b[0m     \u001b[0;32mdef\u001b[0m \u001b[0mon_test_batch_end\u001b[0m\u001b[0;34m(\u001b[0m\u001b[0mself\u001b[0m\u001b[0;34m,\u001b[0m \u001b[0mbatch\u001b[0m\u001b[0;34m,\u001b[0m \u001b[0mlogs\u001b[0m\u001b[0;34m=\u001b[0m\u001b[0;32mNone\u001b[0m\u001b[0;34m)\u001b[0m\u001b[0;34m:\u001b[0m\u001b[0;34m\u001b[0m\u001b[0;34m\u001b[0m\u001b[0m\n",
            "\u001b[0;32m/usr/local/lib/python3.9/dist-packages/keras/callbacks.py\u001b[0m in \u001b[0;36m_batch_update_progbar\u001b[0;34m(self, batch, logs)\u001b[0m\n\u001b[1;32m   1168\u001b[0m         \u001b[0;32mif\u001b[0m \u001b[0mself\u001b[0m\u001b[0;34m.\u001b[0m\u001b[0mverbose\u001b[0m \u001b[0;34m==\u001b[0m \u001b[0;36m1\u001b[0m\u001b[0;34m:\u001b[0m\u001b[0;34m\u001b[0m\u001b[0;34m\u001b[0m\u001b[0m\n\u001b[1;32m   1169\u001b[0m             \u001b[0;31m# Only block async when verbose = 1.\u001b[0m\u001b[0;34m\u001b[0m\u001b[0;34m\u001b[0m\u001b[0m\n\u001b[0;32m-> 1170\u001b[0;31m             \u001b[0mlogs\u001b[0m \u001b[0;34m=\u001b[0m \u001b[0mtf_utils\u001b[0m\u001b[0;34m.\u001b[0m\u001b[0msync_to_numpy_or_python_type\u001b[0m\u001b[0;34m(\u001b[0m\u001b[0mlogs\u001b[0m\u001b[0;34m)\u001b[0m\u001b[0;34m\u001b[0m\u001b[0;34m\u001b[0m\u001b[0m\n\u001b[0m\u001b[1;32m   1171\u001b[0m             \u001b[0mself\u001b[0m\u001b[0;34m.\u001b[0m\u001b[0mprogbar\u001b[0m\u001b[0;34m.\u001b[0m\u001b[0mupdate\u001b[0m\u001b[0;34m(\u001b[0m\u001b[0mself\u001b[0m\u001b[0;34m.\u001b[0m\u001b[0mseen\u001b[0m\u001b[0;34m,\u001b[0m \u001b[0mlist\u001b[0m\u001b[0;34m(\u001b[0m\u001b[0mlogs\u001b[0m\u001b[0;34m.\u001b[0m\u001b[0mitems\u001b[0m\u001b[0;34m(\u001b[0m\u001b[0;34m)\u001b[0m\u001b[0;34m)\u001b[0m\u001b[0;34m,\u001b[0m \u001b[0mfinalize\u001b[0m\u001b[0;34m=\u001b[0m\u001b[0;32mFalse\u001b[0m\u001b[0;34m)\u001b[0m\u001b[0;34m\u001b[0m\u001b[0;34m\u001b[0m\u001b[0m\n\u001b[1;32m   1172\u001b[0m \u001b[0;34m\u001b[0m\u001b[0m\n",
            "\u001b[0;32m/usr/local/lib/python3.9/dist-packages/keras/utils/tf_utils.py\u001b[0m in \u001b[0;36msync_to_numpy_or_python_type\u001b[0;34m(tensors)\u001b[0m\n\u001b[1;32m    663\u001b[0m         \u001b[0;32mreturn\u001b[0m \u001b[0mt\u001b[0m\u001b[0;34m.\u001b[0m\u001b[0mitem\u001b[0m\u001b[0;34m(\u001b[0m\u001b[0;34m)\u001b[0m \u001b[0;32mif\u001b[0m \u001b[0mnp\u001b[0m\u001b[0;34m.\u001b[0m\u001b[0mndim\u001b[0m\u001b[0;34m(\u001b[0m\u001b[0mt\u001b[0m\u001b[0;34m)\u001b[0m \u001b[0;34m==\u001b[0m \u001b[0;36m0\u001b[0m \u001b[0;32melse\u001b[0m \u001b[0mt\u001b[0m\u001b[0;34m\u001b[0m\u001b[0;34m\u001b[0m\u001b[0m\n\u001b[1;32m    664\u001b[0m \u001b[0;34m\u001b[0m\u001b[0m\n\u001b[0;32m--> 665\u001b[0;31m     \u001b[0;32mreturn\u001b[0m \u001b[0mtf\u001b[0m\u001b[0;34m.\u001b[0m\u001b[0mnest\u001b[0m\u001b[0;34m.\u001b[0m\u001b[0mmap_structure\u001b[0m\u001b[0;34m(\u001b[0m\u001b[0m_to_single_numpy_or_python_type\u001b[0m\u001b[0;34m,\u001b[0m \u001b[0mtensors\u001b[0m\u001b[0;34m)\u001b[0m\u001b[0;34m\u001b[0m\u001b[0;34m\u001b[0m\u001b[0m\n\u001b[0m\u001b[1;32m    666\u001b[0m \u001b[0;34m\u001b[0m\u001b[0m\n\u001b[1;32m    667\u001b[0m \u001b[0;34m\u001b[0m\u001b[0m\n",
            "\u001b[0;32m/usr/local/lib/python3.9/dist-packages/tensorflow/python/util/nest.py\u001b[0m in \u001b[0;36mmap_structure\u001b[0;34m(func, *structure, **kwargs)\u001b[0m\n\u001b[1;32m    915\u001b[0m \u001b[0;34m\u001b[0m\u001b[0m\n\u001b[1;32m    916\u001b[0m   return pack_sequence_as(\n\u001b[0;32m--> 917\u001b[0;31m       \u001b[0mstructure\u001b[0m\u001b[0;34m[\u001b[0m\u001b[0;36m0\u001b[0m\u001b[0;34m]\u001b[0m\u001b[0;34m,\u001b[0m \u001b[0;34m[\u001b[0m\u001b[0mfunc\u001b[0m\u001b[0;34m(\u001b[0m\u001b[0;34m*\u001b[0m\u001b[0mx\u001b[0m\u001b[0;34m)\u001b[0m \u001b[0;32mfor\u001b[0m \u001b[0mx\u001b[0m \u001b[0;32min\u001b[0m \u001b[0mentries\u001b[0m\u001b[0;34m]\u001b[0m\u001b[0;34m,\u001b[0m\u001b[0;34m\u001b[0m\u001b[0;34m\u001b[0m\u001b[0m\n\u001b[0m\u001b[1;32m    918\u001b[0m       expand_composites=expand_composites)\n\u001b[1;32m    919\u001b[0m \u001b[0;34m\u001b[0m\u001b[0m\n",
            "\u001b[0;32m/usr/local/lib/python3.9/dist-packages/tensorflow/python/util/nest.py\u001b[0m in \u001b[0;36m<listcomp>\u001b[0;34m(.0)\u001b[0m\n\u001b[1;32m    915\u001b[0m \u001b[0;34m\u001b[0m\u001b[0m\n\u001b[1;32m    916\u001b[0m   return pack_sequence_as(\n\u001b[0;32m--> 917\u001b[0;31m       \u001b[0mstructure\u001b[0m\u001b[0;34m[\u001b[0m\u001b[0;36m0\u001b[0m\u001b[0;34m]\u001b[0m\u001b[0;34m,\u001b[0m \u001b[0;34m[\u001b[0m\u001b[0mfunc\u001b[0m\u001b[0;34m(\u001b[0m\u001b[0;34m*\u001b[0m\u001b[0mx\u001b[0m\u001b[0;34m)\u001b[0m \u001b[0;32mfor\u001b[0m \u001b[0mx\u001b[0m \u001b[0;32min\u001b[0m \u001b[0mentries\u001b[0m\u001b[0;34m]\u001b[0m\u001b[0;34m,\u001b[0m\u001b[0;34m\u001b[0m\u001b[0;34m\u001b[0m\u001b[0m\n\u001b[0m\u001b[1;32m    918\u001b[0m       expand_composites=expand_composites)\n\u001b[1;32m    919\u001b[0m \u001b[0;34m\u001b[0m\u001b[0m\n",
            "\u001b[0;32m/usr/local/lib/python3.9/dist-packages/keras/utils/tf_utils.py\u001b[0m in \u001b[0;36m_to_single_numpy_or_python_type\u001b[0;34m(t)\u001b[0m\n\u001b[1;32m    656\u001b[0m         \u001b[0;31m# Don't turn ragged or sparse tensors to NumPy.\u001b[0m\u001b[0;34m\u001b[0m\u001b[0;34m\u001b[0m\u001b[0m\n\u001b[1;32m    657\u001b[0m         \u001b[0;32mif\u001b[0m \u001b[0misinstance\u001b[0m\u001b[0;34m(\u001b[0m\u001b[0mt\u001b[0m\u001b[0;34m,\u001b[0m \u001b[0mtf\u001b[0m\u001b[0;34m.\u001b[0m\u001b[0mTensor\u001b[0m\u001b[0;34m)\u001b[0m\u001b[0;34m:\u001b[0m\u001b[0;34m\u001b[0m\u001b[0;34m\u001b[0m\u001b[0m\n\u001b[0;32m--> 658\u001b[0;31m             \u001b[0mt\u001b[0m \u001b[0;34m=\u001b[0m \u001b[0mt\u001b[0m\u001b[0;34m.\u001b[0m\u001b[0mnumpy\u001b[0m\u001b[0;34m(\u001b[0m\u001b[0;34m)\u001b[0m\u001b[0;34m\u001b[0m\u001b[0;34m\u001b[0m\u001b[0m\n\u001b[0m\u001b[1;32m    659\u001b[0m         \u001b[0;31m# Strings, ragged and sparse tensors don't have .item(). Return them\u001b[0m\u001b[0;34m\u001b[0m\u001b[0;34m\u001b[0m\u001b[0m\n\u001b[1;32m    660\u001b[0m         \u001b[0;31m# as-is.\u001b[0m\u001b[0;34m\u001b[0m\u001b[0;34m\u001b[0m\u001b[0m\n",
            "\u001b[0;32m/usr/local/lib/python3.9/dist-packages/tensorflow/python/framework/ops.py\u001b[0m in \u001b[0;36mnumpy\u001b[0;34m(self)\u001b[0m\n\u001b[1;32m   1153\u001b[0m     \"\"\"\n\u001b[1;32m   1154\u001b[0m     \u001b[0;31m# TODO(slebedev): Consider avoiding a copy for non-CPU or remote tensors.\u001b[0m\u001b[0;34m\u001b[0m\u001b[0;34m\u001b[0m\u001b[0m\n\u001b[0;32m-> 1155\u001b[0;31m     \u001b[0mmaybe_arr\u001b[0m \u001b[0;34m=\u001b[0m \u001b[0mself\u001b[0m\u001b[0;34m.\u001b[0m\u001b[0m_numpy\u001b[0m\u001b[0;34m(\u001b[0m\u001b[0;34m)\u001b[0m  \u001b[0;31m# pylint: disable=protected-access\u001b[0m\u001b[0;34m\u001b[0m\u001b[0;34m\u001b[0m\u001b[0m\n\u001b[0m\u001b[1;32m   1156\u001b[0m     \u001b[0;32mreturn\u001b[0m \u001b[0mmaybe_arr\u001b[0m\u001b[0;34m.\u001b[0m\u001b[0mcopy\u001b[0m\u001b[0;34m(\u001b[0m\u001b[0;34m)\u001b[0m \u001b[0;32mif\u001b[0m \u001b[0misinstance\u001b[0m\u001b[0;34m(\u001b[0m\u001b[0mmaybe_arr\u001b[0m\u001b[0;34m,\u001b[0m \u001b[0mnp\u001b[0m\u001b[0;34m.\u001b[0m\u001b[0mndarray\u001b[0m\u001b[0;34m)\u001b[0m \u001b[0;32melse\u001b[0m \u001b[0mmaybe_arr\u001b[0m\u001b[0;34m\u001b[0m\u001b[0;34m\u001b[0m\u001b[0m\n\u001b[1;32m   1157\u001b[0m \u001b[0;34m\u001b[0m\u001b[0m\n",
            "\u001b[0;32m/usr/local/lib/python3.9/dist-packages/tensorflow/python/framework/ops.py\u001b[0m in \u001b[0;36m_numpy\u001b[0;34m(self)\u001b[0m\n\u001b[1;32m   1119\u001b[0m   \u001b[0;32mdef\u001b[0m \u001b[0m_numpy\u001b[0m\u001b[0;34m(\u001b[0m\u001b[0mself\u001b[0m\u001b[0;34m)\u001b[0m\u001b[0;34m:\u001b[0m\u001b[0;34m\u001b[0m\u001b[0;34m\u001b[0m\u001b[0m\n\u001b[1;32m   1120\u001b[0m     \u001b[0;32mtry\u001b[0m\u001b[0;34m:\u001b[0m\u001b[0;34m\u001b[0m\u001b[0;34m\u001b[0m\u001b[0m\n\u001b[0;32m-> 1121\u001b[0;31m       \u001b[0;32mreturn\u001b[0m \u001b[0mself\u001b[0m\u001b[0;34m.\u001b[0m\u001b[0m_numpy_internal\u001b[0m\u001b[0;34m(\u001b[0m\u001b[0;34m)\u001b[0m\u001b[0;34m\u001b[0m\u001b[0;34m\u001b[0m\u001b[0m\n\u001b[0m\u001b[1;32m   1122\u001b[0m     \u001b[0;32mexcept\u001b[0m \u001b[0mcore\u001b[0m\u001b[0;34m.\u001b[0m\u001b[0m_NotOkStatusException\u001b[0m \u001b[0;32mas\u001b[0m \u001b[0me\u001b[0m\u001b[0;34m:\u001b[0m  \u001b[0;31m# pylint: disable=protected-access\u001b[0m\u001b[0;34m\u001b[0m\u001b[0;34m\u001b[0m\u001b[0m\n\u001b[1;32m   1123\u001b[0m       \u001b[0;32mraise\u001b[0m \u001b[0mcore\u001b[0m\u001b[0;34m.\u001b[0m\u001b[0m_status_to_exception\u001b[0m\u001b[0;34m(\u001b[0m\u001b[0me\u001b[0m\u001b[0;34m)\u001b[0m \u001b[0;32mfrom\u001b[0m \u001b[0;32mNone\u001b[0m  \u001b[0;31m# pylint: disable=protected-access\u001b[0m\u001b[0;34m\u001b[0m\u001b[0;34m\u001b[0m\u001b[0m\n",
            "\u001b[0;31mKeyboardInterrupt\u001b[0m: "
          ]
        }
      ]
    },
    {
      "cell_type": "code",
      "source": [
        "model_laddernet.save_weights(\"/content/gdrive/MyDrive/Colab Notebooks/models/ladder_4ch_ed.h5\")"
      ],
      "metadata": {
        "id": "sqacZCGJfibL"
      },
      "execution_count": null,
      "outputs": []
    },
    {
      "cell_type": "code",
      "source": [
        "df=pd.DataFrame(history_laddernet.history)\n",
        "df.plot(figsize=(8, 5))\n",
        "plt.grid(True)\n",
        "plt.gca().set_ylim(0, 1)\n",
        "save_fig(\"keras_learning_curves_plot_1\")\n",
        "plt.show()"
      ],
      "metadata": {
        "id": "AzGMAOHqVrrI"
      },
      "execution_count": null,
      "outputs": []
    },
    {
      "cell_type": "code",
      "source": [
        "model_unet.compile(optimizer=Adam(learning_rate=1e-3), loss=\"sparse_categorical_crossentropy\", metrics=[multiclass_dice,iou, \"accuracy\"])"
      ],
      "metadata": {
        "id": "1ZWZ68APXW-Z"
      },
      "execution_count": null,
      "outputs": []
    },
    {
      "cell_type": "code",
      "source": [
        "\n",
        "history_unet=model_unet.fit(x=train_frames,\n",
        "                    y=train_masks,\n",
        "                    validation_data=[test_frames, test_masks],\n",
        "                    batch_size=5,\n",
        "                    epochs=150,\n",
        "                    callbacks=[earlystop, reduce_lr])"
      ],
      "metadata": {
        "colab": {
          "base_uri": "https://localhost:8080/"
        },
        "id": "QBCz_W01XZ0_",
        "outputId": "f0064724-79bd-4101-d647-b08c0bf675a5"
      },
      "execution_count": null,
      "outputs": [
        {
          "output_type": "stream",
          "name": "stdout",
          "text": [
            "Epoch 1/10\n",
            "135/135 [==============================] - 1352s 10s/step - loss: 0.9618 - multiclass_dice: 0.5521 - accuracy: 0.8702 - val_loss: 2.8722 - val_multiclass_dice: 0.2912 - val_accuracy: 0.7376 - lr: 0.0010\n",
            "Epoch 2/10\n",
            "135/135 [==============================] - 1330s 10s/step - loss: 0.7242 - multiclass_dice: 0.7322 - accuracy: 0.9458 - val_loss: 4.4335 - val_multiclass_dice: 0.1813 - val_accuracy: 0.2832 - lr: 0.0010\n",
            "Epoch 3/10\n",
            "135/135 [==============================] - ETA: 0s - loss: 0.5968 - multiclass_dice: 0.7615 - accuracy: 0.9558\n",
            "Epoch 3: ReduceLROnPlateau reducing learning rate to 0.00020000000949949026.\n",
            "135/135 [==============================] - 1321s 10s/step - loss: 0.5968 - multiclass_dice: 0.7615 - accuracy: 0.9558 - val_loss: 1.6089 - val_multiclass_dice: 0.2838 - val_accuracy: 0.5210 - lr: 0.0010\n",
            "Epoch 4/10\n",
            "135/135 [==============================] - 1310s 10s/step - loss: 0.5000 - multiclass_dice: 0.8310 - accuracy: 0.9687 - val_loss: 0.5209 - val_multiclass_dice: 0.7786 - val_accuracy: 0.9521 - lr: 2.0000e-04\n",
            "Epoch 5/10\n",
            "135/135 [==============================] - 1313s 10s/step - loss: 0.4791 - multiclass_dice: 0.8382 - accuracy: 0.9706 - val_loss: 0.4440 - val_multiclass_dice: 0.8640 - val_accuracy: 0.9720 - lr: 2.0000e-04\n",
            "Epoch 6/10\n",
            "135/135 [==============================] - 1316s 10s/step - loss: 0.4538 - multiclass_dice: 0.8488 - accuracy: 0.9726 - val_loss: 0.4147 - val_multiclass_dice: 0.8692 - val_accuracy: 0.9741 - lr: 2.0000e-04\n",
            "Epoch 7/10\n",
            "135/135 [==============================] - 1316s 10s/step - loss: 0.4449 - multiclass_dice: 0.8273 - accuracy: 0.9731 - val_loss: 0.3908 - val_multiclass_dice: 0.8659 - val_accuracy: 0.9740 - lr: 2.0000e-04\n",
            "Epoch 8/10\n",
            "135/135 [==============================] - ETA: 0s - loss: 0.4192 - multiclass_dice: 0.8556 - accuracy: 0.9751\n",
            "Epoch 8: ReduceLROnPlateau reducing learning rate to 4.0000001899898055e-05.\n",
            "135/135 [==============================] - 1315s 10s/step - loss: 0.4192 - multiclass_dice: 0.8556 - accuracy: 0.9751 - val_loss: 0.3853 - val_multiclass_dice: 0.8691 - val_accuracy: 0.9743 - lr: 2.0000e-04\n",
            "Epoch 9/10\n",
            "135/135 [==============================] - 1318s 10s/step - loss: 0.4125 - multiclass_dice: 0.8461 - accuracy: 0.9768 - val_loss: 0.3735 - val_multiclass_dice: 0.8809 - val_accuracy: 0.9761 - lr: 4.0000e-05\n",
            "Epoch 10/10\n",
            "135/135 [==============================] - 1318s 10s/step - loss: 0.4100 - multiclass_dice: 0.8354 - accuracy: 0.9773 - val_loss: 0.3662 - val_multiclass_dice: 0.8784 - val_accuracy: 0.9758 - lr: 4.0000e-05\n"
          ]
        },
        {
          "output_type": "execute_result",
          "data": {
            "text/plain": [
              "<keras.callbacks.History at 0x7f0a7d96b6d0>"
            ]
          },
          "metadata": {},
          "execution_count": 27
        }
      ]
    },
    {
      "cell_type": "code",
      "source": [
        "model_unet.save_weights(\"/content/gdrive/MyDrive/Colab Notebooks/models/unet_4ch_ed.h5\")"
      ],
      "metadata": {
        "id": "jLnPgM6lfaec"
      },
      "execution_count": null,
      "outputs": []
    },
    {
      "cell_type": "code",
      "source": [
        "df=pd.DataFrame(history_unet.history)\n",
        "df.plot(figsize=(8, 5))\n",
        "plt.grid(True)\n",
        "plt.gca().set_ylim(0, 1)\n",
        "save_fig(\"keras_learning_curves_plot_1\")\n",
        "plt.show()"
      ],
      "metadata": {
        "id": "jgHbjHxPV8un"
      },
      "execution_count": null,
      "outputs": []
    },
    {
      "cell_type": "code",
      "source": [
        "import sys  \n",
        "sys.path.insert(0, '/content/gdrive/MyDrive/Colab Notebooks/architectures')\n",
        "\n",
        "\n",
        "from cnn import CNN"
      ],
      "metadata": {
        "id": "AHPgdfn5oMUC"
      },
      "execution_count": null,
      "outputs": []
    },
    {
      "cell_type": "markdown",
      "source": [],
      "metadata": {
        "id": "EzHSDXIRqrVQ"
      }
    },
    {
      "cell_type": "code",
      "source": [
        "from keras.models import Sequential\n",
        "from keras.layers import Conv2D, MaxPooling2D, Flatten, Dense\n",
        "\n",
        "def CNN(input_size, num_classes):\n",
        "   # Crear modelo secuencial\n",
        "   model = Sequential()\n",
        "\n",
        "   # Agregar capas convolucionales y de max pooling\n",
        "   model.add(Conv2D(32, (3, 3), activation='relu', input_shape=(384, 384, 1)))\n",
        "   model.add(MaxPooling2D((2, 2)))\n",
        "   model.add(Conv2D(64, (3, 3), activation='relu'))\n",
        "   model.add(MaxPooling2D((2, 2)))\n",
        "   model.add(Conv2D(128, (3, 3), activation='relu'))\n",
        "   model.add(MaxPooling2D((2, 2)))\n",
        "\n",
        "   # Aplanar la salida y agregar capas densas\n",
        "   model.add(Flatten())\n",
        "   model.add(Dense(64, activation='relu'))\n",
        "   model.add(Dense(4, activation='softmax'))\n",
        "    \n",
        "   return model\n"
      ],
      "metadata": {
        "id": "ZDUjMu7oGqSN"
      },
      "execution_count": null,
      "outputs": []
    },
    {
      "cell_type": "code",
      "source": [
        "model_cnn= CNN(input_size=(384, 384, 1),num_classes=4)"
      ],
      "metadata": {
        "id": "v4rdJUvkfGzd"
      },
      "execution_count": null,
      "outputs": []
    },
    {
      "cell_type": "code",
      "source": [
        "model_cnn.compile(optimizer=Adam(learning_rate=1e-3), loss=\"sparse_categorical_crossentropy\", metrics=[multiclass_dice, iou,\"accuracy\"])"
      ],
      "metadata": {
        "id": "b-G7sxIxfYtd"
      },
      "execution_count": null,
      "outputs": []
    },
    {
      "cell_type": "code",
      "source": [
        "model_cnn.fit(x=train_frames,\n",
        "                    y=train_masks,\n",
        "                    validation_data=[test_frames, test_masks],\n",
        "                    batch_size=5,\n",
        "                    epochs=150,\n",
        "                    callbacks=[earlystop, reduce_lr])"
      ],
      "metadata": {
        "id": "Z-BvhCnPfao1"
      },
      "execution_count": null,
      "outputs": []
    },
    {
      "cell_type": "code",
      "source": [
        "import sys  \n",
        "sys.path.insert(0, '/content/gdrive/MyDrive/Colab Notebooks/architectures')\n",
        "\n",
        "from acnn import ACNN"
      ],
      "metadata": {
        "id": "5TOZU8wceLww"
      },
      "execution_count": 31,
      "outputs": []
    },
    {
      "cell_type": "code",
      "source": [
        "model_acnn= ACNN(input_size=(384, 384, 1),num_classes=4)"
      ],
      "metadata": {
        "id": "CdeqX37veZw6"
      },
      "execution_count": 32,
      "outputs": []
    },
    {
      "cell_type": "code",
      "source": [
        "model_acnn.summary()"
      ],
      "metadata": {
        "colab": {
          "base_uri": "https://localhost:8080/"
        },
        "id": "6hXFkcazHCqv",
        "outputId": "c11216d9-e33f-4541-9267-abc5c8adf863"
      },
      "execution_count": 33,
      "outputs": [
        {
          "output_type": "stream",
          "name": "stdout",
          "text": [
            "Model: \"model_2\"\n",
            "_________________________________________________________________\n",
            " Layer (type)                Output Shape              Param #   \n",
            "=================================================================\n",
            " input_3 (InputLayer)        [(None, 384, 384, 1)]     0         \n",
            "                                                                 \n",
            " conv2d_53 (Conv2D)          (None, 384, 384, 32)      320       \n",
            "                                                                 \n",
            " max_pooling2d_5 (MaxPooling  (None, 192, 192, 32)     0         \n",
            " 2D)                                                             \n",
            "                                                                 \n",
            " conv2d_54 (Conv2D)          (None, 192, 192, 64)      18496     \n",
            "                                                                 \n",
            " max_pooling2d_6 (MaxPooling  (None, 96, 96, 64)       0         \n",
            " 2D)                                                             \n",
            "                                                                 \n",
            " conv2d_55 (Conv2D)          (None, 96, 96, 128)       73856     \n",
            "                                                                 \n",
            " conv2d_56 (Conv2D)          (None, 96, 96, 256)       295168    \n",
            "                                                                 \n",
            " conv2d_57 (Conv2D)          (None, 96, 96, 128)       295040    \n",
            "                                                                 \n",
            " up_sampling2d_5 (UpSampling  (None, 192, 192, 128)    0         \n",
            " 2D)                                                             \n",
            "                                                                 \n",
            " conv2d_58 (Conv2D)          (None, 192, 192, 64)      73792     \n",
            "                                                                 \n",
            " up_sampling2d_6 (UpSampling  (None, 384, 384, 64)     0         \n",
            " 2D)                                                             \n",
            "                                                                 \n",
            " conv2d_59 (Conv2D)          (None, 384, 384, 4)       260       \n",
            "                                                                 \n",
            " activation_30 (Activation)  (None, 384, 384, 4)       0         \n",
            "                                                                 \n",
            "=================================================================\n",
            "Total params: 756,932\n",
            "Trainable params: 756,932\n",
            "Non-trainable params: 0\n",
            "_________________________________________________________________\n"
          ]
        }
      ]
    },
    {
      "cell_type": "code",
      "source": [
        "model_acnn.compile(optimizer=Adam(learning_rate=1e-3), loss=\"sparse_categorical_crossentropy\", metrics=[multiclass_dice, iou,\"accuracy\"])"
      ],
      "metadata": {
        "id": "cvzildvFq5Jq"
      },
      "execution_count": 34,
      "outputs": []
    },
    {
      "cell_type": "code",
      "source": [
        "history_acnn=model_acnn.fit(x=train_frames,\n",
        "                    y=train_masks,\n",
        "                    validation_data=(valid_frames, valid_masks),\n",
        "                    batch_size=5,\n",
        "                    epochs=150,\n",
        "                    callbacks=[earlystop, reduce_lr])"
      ],
      "metadata": {
        "colab": {
          "base_uri": "https://localhost:8080/"
        },
        "id": "37iy0OmSrAoB",
        "outputId": "58d0ca8b-5ca9-48ff-9720-0c98ebd06b12"
      },
      "execution_count": 35,
      "outputs": [
        {
          "output_type": "stream",
          "name": "stdout",
          "text": [
            "Epoch 1/150\n",
            "135/135 [==============================] - 18s 95ms/step - loss: 0.3684 - multiclass_dice: 0.0659 - iou: 0.0390 - accuracy: 0.8727 - val_loss: 0.2767 - val_multiclass_dice: 0.3587 - val_iou: 0.2209 - val_accuracy: 0.8906 - lr: 0.0010\n",
            "Epoch 2/150\n",
            "135/135 [==============================] - 12s 86ms/step - loss: 0.2900 - multiclass_dice: 0.1983 - iou: 0.1209 - accuracy: 0.8763 - val_loss: 0.2382 - val_multiclass_dice: 0.2145 - val_iou: 0.1244 - val_accuracy: 0.8950 - lr: 0.0010\n",
            "Epoch 3/150\n",
            "135/135 [==============================] - ETA: 0s - loss: 0.2762 - multiclass_dice: 0.3168 - iou: 0.1956 - accuracy: 0.8805\n",
            "Epoch 3: ReduceLROnPlateau reducing learning rate to 0.00020000000949949026.\n",
            "135/135 [==============================] - 12s 87ms/step - loss: 0.2762 - multiclass_dice: 0.3168 - iou: 0.1956 - accuracy: 0.8805 - val_loss: 0.2327 - val_multiclass_dice: 0.2935 - val_iou: 0.1734 - val_accuracy: 0.8986 - lr: 0.0010\n",
            "Epoch 4/150\n",
            "135/135 [==============================] - 12s 87ms/step - loss: 0.2597 - multiclass_dice: 0.4124 - iou: 0.2642 - accuracy: 0.8902 - val_loss: 0.2232 - val_multiclass_dice: 0.4827 - val_iou: 0.3207 - val_accuracy: 0.9047 - lr: 2.0000e-04\n",
            "Epoch 5/150\n",
            "135/135 [==============================] - 12s 88ms/step - loss: 0.2464 - multiclass_dice: 0.4519 - iou: 0.2978 - accuracy: 0.8996 - val_loss: 0.1998 - val_multiclass_dice: 0.5319 - val_iou: 0.3650 - val_accuracy: 0.9189 - lr: 2.0000e-04\n",
            "Epoch 6/150\n",
            "135/135 [==============================] - 12s 88ms/step - loss: 0.2185 - multiclass_dice: 0.5262 - iou: 0.3636 - accuracy: 0.9149 - val_loss: 0.1666 - val_multiclass_dice: 0.5845 - val_iou: 0.4157 - val_accuracy: 0.9359 - lr: 2.0000e-04\n",
            "Epoch 7/150\n",
            "135/135 [==============================] - 12s 89ms/step - loss: 0.2029 - multiclass_dice: 0.5639 - iou: 0.3978 - accuracy: 0.9209 - val_loss: 0.1639 - val_multiclass_dice: 0.5862 - val_iou: 0.4174 - val_accuracy: 0.9342 - lr: 2.0000e-04\n",
            "Epoch 8/150\n",
            "135/135 [==============================] - 12s 88ms/step - loss: 0.1905 - multiclass_dice: 0.5767 - iou: 0.4124 - accuracy: 0.9259 - val_loss: 0.1598 - val_multiclass_dice: 0.5876 - val_iou: 0.4183 - val_accuracy: 0.9379 - lr: 2.0000e-04\n",
            "Epoch 9/150\n",
            "135/135 [==============================] - 12s 88ms/step - loss: 0.1737 - multiclass_dice: 0.6200 - iou: 0.4519 - accuracy: 0.9325 - val_loss: 0.1361 - val_multiclass_dice: 0.6475 - val_iou: 0.4822 - val_accuracy: 0.9468 - lr: 2.0000e-04\n",
            "Epoch 10/150\n",
            "135/135 [==============================] - 12s 87ms/step - loss: 0.1623 - multiclass_dice: 0.6329 - iou: 0.4691 - accuracy: 0.9369 - val_loss: 0.1302 - val_multiclass_dice: 0.6727 - val_iou: 0.5105 - val_accuracy: 0.9495 - lr: 2.0000e-04\n",
            "Epoch 11/150\n",
            "135/135 [==============================] - 12s 87ms/step - loss: 0.1770 - multiclass_dice: 0.6083 - iou: 0.4442 - accuracy: 0.9309 - val_loss: 0.1348 - val_multiclass_dice: 0.6503 - val_iou: 0.4853 - val_accuracy: 0.9475 - lr: 2.0000e-04\n",
            "Epoch 12/150\n",
            "135/135 [==============================] - 12s 87ms/step - loss: 0.1664 - multiclass_dice: 0.6232 - iou: 0.4630 - accuracy: 0.9354 - val_loss: 0.1312 - val_multiclass_dice: 0.6769 - val_iou: 0.5165 - val_accuracy: 0.9484 - lr: 2.0000e-04\n",
            "Epoch 13/150\n",
            "135/135 [==============================] - 12s 87ms/step - loss: 0.1550 - multiclass_dice: 0.6494 - iou: 0.4884 - accuracy: 0.9394 - val_loss: 0.1317 - val_multiclass_dice: 0.6638 - val_iou: 0.5010 - val_accuracy: 0.9486 - lr: 2.0000e-04\n",
            "Epoch 14/150\n",
            "135/135 [==============================] - 12s 88ms/step - loss: 0.1502 - multiclass_dice: 0.6357 - iou: 0.4820 - accuracy: 0.9415 - val_loss: 0.1229 - val_multiclass_dice: 0.6817 - val_iou: 0.5216 - val_accuracy: 0.9519 - lr: 2.0000e-04\n",
            "Epoch 15/150\n",
            "135/135 [==============================] - 12s 88ms/step - loss: 0.1489 - multiclass_dice: 0.6537 - iou: 0.4966 - accuracy: 0.9417 - val_loss: 0.1179 - val_multiclass_dice: 0.6946 - val_iou: 0.5349 - val_accuracy: 0.9550 - lr: 2.0000e-04\n",
            "Epoch 16/150\n",
            "135/135 [==============================] - 12s 88ms/step - loss: 0.1445 - multiclass_dice: 0.6672 - iou: 0.5102 - accuracy: 0.9438 - val_loss: 0.1195 - val_multiclass_dice: 0.6880 - val_iou: 0.5292 - val_accuracy: 0.9534 - lr: 2.0000e-04\n",
            "Epoch 17/150\n",
            "135/135 [==============================] - 12s 88ms/step - loss: 0.1439 - multiclass_dice: 0.6827 - iou: 0.5260 - accuracy: 0.9442 - val_loss: 0.1225 - val_multiclass_dice: 0.6989 - val_iou: 0.5407 - val_accuracy: 0.9519 - lr: 2.0000e-04\n",
            "Epoch 18/150\n",
            "135/135 [==============================] - 12s 88ms/step - loss: 0.1381 - multiclass_dice: 0.6881 - iou: 0.5323 - accuracy: 0.9464 - val_loss: 0.1100 - val_multiclass_dice: 0.7164 - val_iou: 0.5625 - val_accuracy: 0.9577 - lr: 2.0000e-04\n",
            "Epoch 19/150\n",
            "135/135 [==============================] - 13s 97ms/step - loss: 0.1354 - multiclass_dice: 0.6750 - iou: 0.5265 - accuracy: 0.9474 - val_loss: 0.1169 - val_multiclass_dice: 0.7001 - val_iou: 0.5434 - val_accuracy: 0.9543 - lr: 2.0000e-04\n",
            "Epoch 20/150\n",
            "135/135 [==============================] - ETA: 0s - loss: 0.1385 - multiclass_dice: 0.6836 - iou: 0.5297 - accuracy: 0.9459\n",
            "Epoch 20: ReduceLROnPlateau reducing learning rate to 4.0000001899898055e-05.\n",
            "135/135 [==============================] - 13s 98ms/step - loss: 0.1385 - multiclass_dice: 0.6836 - iou: 0.5297 - accuracy: 0.9459 - val_loss: 0.1252 - val_multiclass_dice: 0.6861 - val_iou: 0.5267 - val_accuracy: 0.9515 - lr: 2.0000e-04\n",
            "Epoch 21/150\n",
            "135/135 [==============================] - 12s 88ms/step - loss: 0.1243 - multiclass_dice: 0.7007 - iou: 0.5543 - accuracy: 0.9517 - val_loss: 0.1018 - val_multiclass_dice: 0.7409 - val_iou: 0.5921 - val_accuracy: 0.9610 - lr: 4.0000e-05\n",
            "Epoch 22/150\n",
            "135/135 [==============================] - 12s 87ms/step - loss: 0.1217 - multiclass_dice: 0.7087 - iou: 0.5620 - accuracy: 0.9529 - val_loss: 0.1009 - val_multiclass_dice: 0.7458 - val_iou: 0.5983 - val_accuracy: 0.9614 - lr: 4.0000e-05\n",
            "Epoch 23/150\n",
            "135/135 [==============================] - 12s 87ms/step - loss: 0.1213 - multiclass_dice: 0.7073 - iou: 0.5627 - accuracy: 0.9530 - val_loss: 0.1001 - val_multiclass_dice: 0.7447 - val_iou: 0.5970 - val_accuracy: 0.9614 - lr: 4.0000e-05\n",
            "Epoch 24/150\n",
            "135/135 [==============================] - ETA: 0s - loss: 0.1205 - multiclass_dice: 0.7207 - iou: 0.5737 - accuracy: 0.9533\n",
            "Epoch 24: ReduceLROnPlateau reducing learning rate to 1e-05.\n",
            "135/135 [==============================] - 12s 88ms/step - loss: 0.1205 - multiclass_dice: 0.7207 - iou: 0.5737 - accuracy: 0.9533 - val_loss: 0.1010 - val_multiclass_dice: 0.7413 - val_iou: 0.5925 - val_accuracy: 0.9609 - lr: 4.0000e-05\n",
            "Epoch 25/150\n",
            "135/135 [==============================] - 12s 88ms/step - loss: 0.1186 - multiclass_dice: 0.7309 - iou: 0.5839 - accuracy: 0.9540 - val_loss: 0.0988 - val_multiclass_dice: 0.7475 - val_iou: 0.6004 - val_accuracy: 0.9619 - lr: 1.0000e-05\n",
            "Epoch 26/150\n",
            "135/135 [==============================] - 12s 88ms/step - loss: 0.1179 - multiclass_dice: 0.7265 - iou: 0.5809 - accuracy: 0.9542 - val_loss: 0.0985 - val_multiclass_dice: 0.7479 - val_iou: 0.6008 - val_accuracy: 0.9620 - lr: 1.0000e-05\n",
            "Epoch 27/150\n",
            "135/135 [==============================] - 12s 88ms/step - loss: 0.1177 - multiclass_dice: 0.7263 - iou: 0.5802 - accuracy: 0.9543 - val_loss: 0.0992 - val_multiclass_dice: 0.7483 - val_iou: 0.6015 - val_accuracy: 0.9618 - lr: 1.0000e-05\n",
            "Epoch 28/150\n",
            "135/135 [==============================] - 13s 97ms/step - loss: 0.1177 - multiclass_dice: 0.7293 - iou: 0.5840 - accuracy: 0.9543 - val_loss: 0.0981 - val_multiclass_dice: 0.7497 - val_iou: 0.6031 - val_accuracy: 0.9622 - lr: 1.0000e-05\n",
            "Epoch 29/150\n",
            "135/135 [==============================] - 12s 88ms/step - loss: 0.1179 - multiclass_dice: 0.7054 - iou: 0.5642 - accuracy: 0.9542 - val_loss: 0.1003 - val_multiclass_dice: 0.7442 - val_iou: 0.5961 - val_accuracy: 0.9613 - lr: 1.0000e-05\n",
            "Epoch 30/150\n",
            "135/135 [==============================] - 12s 87ms/step - loss: 0.1174 - multiclass_dice: 0.7246 - iou: 0.5788 - accuracy: 0.9544 - val_loss: 0.0984 - val_multiclass_dice: 0.7483 - val_iou: 0.6014 - val_accuracy: 0.9620 - lr: 1.0000e-05\n",
            "Epoch 31/150\n",
            "135/135 [==============================] - 12s 87ms/step - loss: 0.1175 - multiclass_dice: 0.7214 - iou: 0.5769 - accuracy: 0.9544 - val_loss: 0.0980 - val_multiclass_dice: 0.7498 - val_iou: 0.6032 - val_accuracy: 0.9622 - lr: 1.0000e-05\n",
            "Epoch 32/150\n",
            "135/135 [==============================] - 12s 88ms/step - loss: 0.1170 - multiclass_dice: 0.7242 - iou: 0.5805 - accuracy: 0.9545 - val_loss: 0.0974 - val_multiclass_dice: 0.7495 - val_iou: 0.6027 - val_accuracy: 0.9624 - lr: 1.0000e-05\n",
            "Epoch 33/150\n",
            "135/135 [==============================] - 12s 88ms/step - loss: 0.1169 - multiclass_dice: 0.7158 - iou: 0.5727 - accuracy: 0.9546 - val_loss: 0.0984 - val_multiclass_dice: 0.7467 - val_iou: 0.5993 - val_accuracy: 0.9620 - lr: 1.0000e-05\n",
            "Epoch 34/150\n",
            "135/135 [==============================] - 12s 88ms/step - loss: 0.1172 - multiclass_dice: 0.7270 - iou: 0.5817 - accuracy: 0.9545 - val_loss: 0.0979 - val_multiclass_dice: 0.7482 - val_iou: 0.6012 - val_accuracy: 0.9622 - lr: 1.0000e-05\n",
            "Epoch 35/150\n",
            "135/135 [==============================] - 12s 88ms/step - loss: 0.1169 - multiclass_dice: 0.7376 - iou: 0.5924 - accuracy: 0.9546 - val_loss: 0.0978 - val_multiclass_dice: 0.7503 - val_iou: 0.6038 - val_accuracy: 0.9623 - lr: 1.0000e-05\n",
            "Epoch 36/150\n",
            "135/135 [==============================] - 12s 88ms/step - loss: 0.1168 - multiclass_dice: 0.7183 - iou: 0.5756 - accuracy: 0.9547 - val_loss: 0.0978 - val_multiclass_dice: 0.7512 - val_iou: 0.6050 - val_accuracy: 0.9622 - lr: 1.0000e-05\n",
            "Epoch 37/150\n",
            "135/135 [==============================] - 12s 88ms/step - loss: 0.1164 - multiclass_dice: 0.7321 - iou: 0.5861 - accuracy: 0.9547 - val_loss: 0.0977 - val_multiclass_dice: 0.7509 - val_iou: 0.6046 - val_accuracy: 0.9623 - lr: 1.0000e-05\n",
            "Epoch 38/150\n",
            "135/135 [==============================] - 12s 87ms/step - loss: 0.1161 - multiclass_dice: 0.7349 - iou: 0.5888 - accuracy: 0.9549 - val_loss: 0.0972 - val_multiclass_dice: 0.7515 - val_iou: 0.6051 - val_accuracy: 0.9624 - lr: 1.0000e-05\n",
            "Epoch 39/150\n",
            "135/135 [==============================] - 12s 87ms/step - loss: 0.1162 - multiclass_dice: 0.7205 - iou: 0.5760 - accuracy: 0.9548 - val_loss: 0.0981 - val_multiclass_dice: 0.7509 - val_iou: 0.6042 - val_accuracy: 0.9622 - lr: 1.0000e-05\n",
            "Epoch 40/150\n",
            "135/135 [==============================] - 12s 87ms/step - loss: 0.1162 - multiclass_dice: 0.7334 - iou: 0.5895 - accuracy: 0.9549 - val_loss: 0.0978 - val_multiclass_dice: 0.7483 - val_iou: 0.6016 - val_accuracy: 0.9621 - lr: 1.0000e-05\n",
            "Epoch 41/150\n",
            "135/135 [==============================] - 12s 88ms/step - loss: 0.1162 - multiclass_dice: 0.7489 - iou: 0.6022 - accuracy: 0.9549 - val_loss: 0.0983 - val_multiclass_dice: 0.7483 - val_iou: 0.6013 - val_accuracy: 0.9620 - lr: 1.0000e-05\n",
            "Epoch 42/150\n",
            "135/135 [==============================] - 12s 88ms/step - loss: 0.1160 - multiclass_dice: 0.7347 - iou: 0.5892 - accuracy: 0.9549 - val_loss: 0.0977 - val_multiclass_dice: 0.7520 - val_iou: 0.6059 - val_accuracy: 0.9623 - lr: 1.0000e-05\n",
            "Epoch 43/150\n",
            "135/135 [==============================] - 12s 88ms/step - loss: 0.1158 - multiclass_dice: 0.7285 - iou: 0.5857 - accuracy: 0.9550 - val_loss: 0.0967 - val_multiclass_dice: 0.7518 - val_iou: 0.6058 - val_accuracy: 0.9626 - lr: 1.0000e-05\n",
            "Epoch 44/150\n",
            "135/135 [==============================] - 12s 88ms/step - loss: 0.1156 - multiclass_dice: 0.7115 - iou: 0.5697 - accuracy: 0.9550 - val_loss: 0.0980 - val_multiclass_dice: 0.7510 - val_iou: 0.6048 - val_accuracy: 0.9622 - lr: 1.0000e-05\n",
            "Epoch 45/150\n",
            "135/135 [==============================] - 12s 89ms/step - loss: 0.1154 - multiclass_dice: 0.7318 - iou: 0.5875 - accuracy: 0.9553 - val_loss: 0.0970 - val_multiclass_dice: 0.7519 - val_iou: 0.6058 - val_accuracy: 0.9625 - lr: 1.0000e-05\n",
            "Epoch 46/150\n",
            "135/135 [==============================] - 13s 98ms/step - loss: 0.1158 - multiclass_dice: 0.7284 - iou: 0.5856 - accuracy: 0.9550 - val_loss: 0.0969 - val_multiclass_dice: 0.7524 - val_iou: 0.6064 - val_accuracy: 0.9626 - lr: 1.0000e-05\n",
            "Epoch 47/150\n",
            "135/135 [==============================] - 12s 88ms/step - loss: 0.1156 - multiclass_dice: 0.7212 - iou: 0.5789 - accuracy: 0.9550 - val_loss: 0.0970 - val_multiclass_dice: 0.7513 - val_iou: 0.6052 - val_accuracy: 0.9625 - lr: 1.0000e-05\n",
            "Epoch 48/150\n",
            "135/135 [==============================] - 12s 88ms/step - loss: 0.1154 - multiclass_dice: 0.7214 - iou: 0.5793 - accuracy: 0.9551 - val_loss: 0.0980 - val_multiclass_dice: 0.7505 - val_iou: 0.6039 - val_accuracy: 0.9621 - lr: 1.0000e-05\n",
            "Epoch 49/150\n",
            "135/135 [==============================] - 14s 101ms/step - loss: 0.1149 - multiclass_dice: 0.7398 - iou: 0.5949 - accuracy: 0.9553 - val_loss: 0.0965 - val_multiclass_dice: 0.7519 - val_iou: 0.6059 - val_accuracy: 0.9627 - lr: 1.0000e-05\n",
            "Epoch 50/150\n",
            "135/135 [==============================] - 12s 88ms/step - loss: 0.1152 - multiclass_dice: 0.7376 - iou: 0.5929 - accuracy: 0.9552 - val_loss: 0.0973 - val_multiclass_dice: 0.7509 - val_iou: 0.6046 - val_accuracy: 0.9624 - lr: 1.0000e-05\n",
            "Epoch 51/150\n",
            "135/135 [==============================] - 12s 88ms/step - loss: 0.1152 - multiclass_dice: 0.7348 - iou: 0.5891 - accuracy: 0.9551 - val_loss: 0.0958 - val_multiclass_dice: 0.7539 - val_iou: 0.6083 - val_accuracy: 0.9630 - lr: 1.0000e-05\n",
            "Epoch 52/150\n",
            "135/135 [==============================] - 12s 88ms/step - loss: 0.1145 - multiclass_dice: 0.7293 - iou: 0.5853 - accuracy: 0.9554 - val_loss: 0.0970 - val_multiclass_dice: 0.7511 - val_iou: 0.6050 - val_accuracy: 0.9625 - lr: 1.0000e-05\n",
            "Epoch 53/150\n",
            "135/135 [==============================] - 12s 90ms/step - loss: 0.1148 - multiclass_dice: 0.7153 - iou: 0.5751 - accuracy: 0.9554 - val_loss: 0.0973 - val_multiclass_dice: 0.7505 - val_iou: 0.6043 - val_accuracy: 0.9623 - lr: 1.0000e-05\n",
            "Epoch 54/150\n",
            "135/135 [==============================] - 12s 88ms/step - loss: 0.1146 - multiclass_dice: 0.7301 - iou: 0.5882 - accuracy: 0.9554 - val_loss: 0.0963 - val_multiclass_dice: 0.7539 - val_iou: 0.6084 - val_accuracy: 0.9628 - lr: 1.0000e-05\n",
            "Epoch 55/150\n",
            "135/135 [==============================] - 13s 97ms/step - loss: 0.1145 - multiclass_dice: 0.7277 - iou: 0.5854 - accuracy: 0.9555 - val_loss: 0.0963 - val_multiclass_dice: 0.7517 - val_iou: 0.6056 - val_accuracy: 0.9628 - lr: 1.0000e-05\n",
            "Epoch 56/150\n",
            "135/135 [==============================] - 12s 88ms/step - loss: 0.1143 - multiclass_dice: 0.7366 - iou: 0.5931 - accuracy: 0.9556 - val_loss: 0.0956 - val_multiclass_dice: 0.7554 - val_iou: 0.6102 - val_accuracy: 0.9631 - lr: 1.0000e-05\n",
            "Epoch 57/150\n",
            "135/135 [==============================] - 12s 88ms/step - loss: 0.1140 - multiclass_dice: 0.7341 - iou: 0.5909 - accuracy: 0.9557 - val_loss: 0.0965 - val_multiclass_dice: 0.7537 - val_iou: 0.6083 - val_accuracy: 0.9627 - lr: 1.0000e-05\n",
            "Epoch 58/150\n",
            "135/135 [==============================] - 12s 88ms/step - loss: 0.1140 - multiclass_dice: 0.7384 - iou: 0.5953 - accuracy: 0.9557 - val_loss: 0.0965 - val_multiclass_dice: 0.7563 - val_iou: 0.6112 - val_accuracy: 0.9629 - lr: 1.0000e-05\n",
            "Epoch 59/150\n",
            "135/135 [==============================] - 12s 88ms/step - loss: 0.1141 - multiclass_dice: 0.7425 - iou: 0.5958 - accuracy: 0.9555 - val_loss: 0.0960 - val_multiclass_dice: 0.7532 - val_iou: 0.6077 - val_accuracy: 0.9629 - lr: 1.0000e-05\n",
            "Epoch 60/150\n",
            "135/135 [==============================] - 12s 88ms/step - loss: 0.1147 - multiclass_dice: 0.7305 - iou: 0.5880 - accuracy: 0.9553 - val_loss: 0.0968 - val_multiclass_dice: 0.7543 - val_iou: 0.6090 - val_accuracy: 0.9627 - lr: 1.0000e-05\n",
            "Epoch 61/150\n",
            "135/135 [==============================] - 12s 88ms/step - loss: 0.1143 - multiclass_dice: 0.7352 - iou: 0.5922 - accuracy: 0.9555 - val_loss: 0.0957 - val_multiclass_dice: 0.7566 - val_iou: 0.6118 - val_accuracy: 0.9631 - lr: 1.0000e-05\n",
            "Epoch 62/150\n",
            "135/135 [==============================] - 12s 88ms/step - loss: 0.1140 - multiclass_dice: 0.7431 - iou: 0.5994 - accuracy: 0.9557 - val_loss: 0.0972 - val_multiclass_dice: 0.7504 - val_iou: 0.6043 - val_accuracy: 0.9624 - lr: 1.0000e-05\n",
            "Epoch 63/150\n",
            "135/135 [==============================] - 12s 88ms/step - loss: 0.1134 - multiclass_dice: 0.7377 - iou: 0.5955 - accuracy: 0.9558 - val_loss: 0.0977 - val_multiclass_dice: 0.7455 - val_iou: 0.5982 - val_accuracy: 0.9621 - lr: 1.0000e-05\n",
            "Epoch 64/150\n",
            "135/135 [==============================] - 13s 99ms/step - loss: 0.1135 - multiclass_dice: 0.7487 - iou: 0.6041 - accuracy: 0.9558 - val_loss: 0.0952 - val_multiclass_dice: 0.7564 - val_iou: 0.6113 - val_accuracy: 0.9632 - lr: 1.0000e-05\n",
            "Epoch 65/150\n",
            "135/135 [==============================] - 12s 89ms/step - loss: 0.1137 - multiclass_dice: 0.7451 - iou: 0.6019 - accuracy: 0.9558 - val_loss: 0.0956 - val_multiclass_dice: 0.7577 - val_iou: 0.6132 - val_accuracy: 0.9632 - lr: 1.0000e-05\n",
            "Epoch 66/150\n",
            "135/135 [==============================] - 12s 88ms/step - loss: 0.1134 - multiclass_dice: 0.7413 - iou: 0.5976 - accuracy: 0.9559 - val_loss: 0.0953 - val_multiclass_dice: 0.7579 - val_iou: 0.6133 - val_accuracy: 0.9632 - lr: 1.0000e-05\n",
            "Epoch 67/150\n",
            "135/135 [==============================] - 12s 88ms/step - loss: 0.1133 - multiclass_dice: 0.7291 - iou: 0.5889 - accuracy: 0.9558 - val_loss: 0.0953 - val_multiclass_dice: 0.7567 - val_iou: 0.6119 - val_accuracy: 0.9632 - lr: 1.0000e-05\n",
            "Epoch 68/150\n",
            "135/135 [==============================] - 12s 88ms/step - loss: 0.1134 - multiclass_dice: 0.7374 - iou: 0.5955 - accuracy: 0.9559 - val_loss: 0.0949 - val_multiclass_dice: 0.7576 - val_iou: 0.6129 - val_accuracy: 0.9633 - lr: 1.0000e-05\n",
            "Epoch 69/150\n",
            "135/135 [==============================] - 12s 88ms/step - loss: 0.1136 - multiclass_dice: 0.7404 - iou: 0.5958 - accuracy: 0.9558 - val_loss: 0.0945 - val_multiclass_dice: 0.7590 - val_iou: 0.6146 - val_accuracy: 0.9636 - lr: 1.0000e-05\n",
            "Epoch 70/150\n",
            "135/135 [==============================] - 12s 88ms/step - loss: 0.1132 - multiclass_dice: 0.7314 - iou: 0.5901 - accuracy: 0.9559 - val_loss: 0.0950 - val_multiclass_dice: 0.7587 - val_iou: 0.6145 - val_accuracy: 0.9633 - lr: 1.0000e-05\n",
            "Epoch 71/150\n",
            "135/135 [==============================] - 12s 88ms/step - loss: 0.1128 - multiclass_dice: 0.7360 - iou: 0.5954 - accuracy: 0.9561 - val_loss: 0.0950 - val_multiclass_dice: 0.7580 - val_iou: 0.6135 - val_accuracy: 0.9633 - lr: 1.0000e-05\n",
            "Epoch 72/150\n",
            "135/135 [==============================] - 12s 88ms/step - loss: 0.1131 - multiclass_dice: 0.7282 - iou: 0.5861 - accuracy: 0.9560 - val_loss: 0.0946 - val_multiclass_dice: 0.7576 - val_iou: 0.6130 - val_accuracy: 0.9635 - lr: 1.0000e-05\n",
            "Epoch 73/150\n",
            "135/135 [==============================] - 12s 88ms/step - loss: 0.1132 - multiclass_dice: 0.7419 - iou: 0.5980 - accuracy: 0.9559 - val_loss: 0.0955 - val_multiclass_dice: 0.7552 - val_iou: 0.6101 - val_accuracy: 0.9631 - lr: 1.0000e-05\n",
            "Epoch 74/150\n",
            "135/135 [==============================] - ETA: 0s - loss: 0.1127 - multiclass_dice: 0.7452 - iou: 0.6024 - accuracy: 0.9561Restoring model weights from the end of the best epoch: 69.\n",
            "135/135 [==============================] - 12s 89ms/step - loss: 0.1127 - multiclass_dice: 0.7452 - iou: 0.6024 - accuracy: 0.9561 - val_loss: 0.0959 - val_multiclass_dice: 0.7559 - val_iou: 0.6106 - val_accuracy: 0.9630 - lr: 1.0000e-05\n",
            "Epoch 74: early stopping\n"
          ]
        }
      ]
    },
    {
      "cell_type": "code",
      "source": [
        "loss_acnn_4 = model_acnn.evaluate(x=test_frames,y=test_masks)"
      ],
      "metadata": {
        "colab": {
          "base_uri": "https://localhost:8080/"
        },
        "id": "BawAwxw1_76m",
        "outputId": "1a249bdb-c128-42f4-cc24-e5e54b5a4e24"
      },
      "execution_count": 36,
      "outputs": [
        {
          "output_type": "stream",
          "name": "stdout",
          "text": [
            "29/29 [==============================] - 8s 185ms/step - loss: 0.0111 - multiclass_dice: 0.0532 - iou: 0.0434 - accuracy: 0.9959\n"
          ]
        }
      ]
    },
    {
      "cell_type": "code",
      "source": [
        "print(history_acnn.history.keys())"
      ],
      "metadata": {
        "colab": {
          "base_uri": "https://localhost:8080/"
        },
        "id": "PPbeO8WbvU8h",
        "outputId": "74ea4ddf-09a8-44b2-efeb-be17b00ea283"
      },
      "execution_count": 37,
      "outputs": [
        {
          "output_type": "stream",
          "name": "stdout",
          "text": [
            "dict_keys(['loss', 'multiclass_dice', 'iou', 'accuracy', 'val_loss', 'val_multiclass_dice', 'val_iou', 'val_accuracy', 'lr'])\n"
          ]
        }
      ]
    },
    {
      "cell_type": "code",
      "source": [
        "df=pd.DataFrame(history_acnn.history)\n",
        "df.plot(figsize=(8, 5))\n",
        "plt.grid(True)\n",
        "plt.gca().set_ylim(0, 1)\n",
        "save_fig(\"keras_learning_curves_plot_1\")\n",
        "plt.show()"
      ],
      "metadata": {
        "colab": {
          "base_uri": "https://localhost:8080/",
          "height": 387
        },
        "id": "LQRfQWoVwQZZ",
        "outputId": "87e8b759-a005-4e85-d246-28f8d3509f84"
      },
      "execution_count": 39,
      "outputs": [
        {
          "output_type": "stream",
          "name": "stdout",
          "text": [
            "Saving figure keras_learning_curves_plot_1\n"
          ]
        },
        {
          "output_type": "display_data",
          "data": {
            "text/plain": [
              "<Figure size 576x360 with 1 Axes>"
            ],
            "image/png": "[encoded data removed]"
          },
          "metadata": {
            "needs_background": "light"
          }
        }
      ]
    },
    {
      "cell_type": "code",
      "source": [
        "df.to_csv('/content/gdrive/MyDrive/Colab Notebooks/file_name.csv')"
      ],
      "metadata": {
        "id": "6Wj5v37wwSw2"
      },
      "execution_count": 40,
      "outputs": []
    },
    {
      "cell_type": "code",
      "source": [
        "model_acnn.save_weights(\"/content/gdrive/MyDrive/Colab Notebooks/models/acnn_4ch_ed.h5\")"
      ],
      "metadata": {
        "id": "Fkn4oOrXfJpp"
      },
      "execution_count": 41,
      "outputs": []
    },
    {
      "cell_type": "code",
      "source": [
        "loss_acnn_4 = model_acnn.evaluate(x=test_frames,\n",
        "                    y=test_masks)"
      ],
      "metadata": {
        "id": "JujwSDkln1hB"
      },
      "execution_count": null,
      "outputs": []
    },
    {
      "cell_type": "code",
      "source": [
        "print(type(model_acnn.history))"
      ],
      "metadata": {
        "id": "_C2n6EApnVsS"
      },
      "execution_count": null,
      "outputs": []
    },
    {
      "cell_type": "markdown",
      "source": [
        "# MODELO RESUNET"
      ],
      "metadata": {
        "id": "nICfQUDtxStu"
      }
    },
    {
      "cell_type": "code",
      "source": [
        "model_resunet= ResUNet(input_shape=(384, 384, 1),num_classes=4)"
      ],
      "metadata": {
        "id": "ZO7xHCpwMsM-"
      },
      "execution_count": 33,
      "outputs": []
    },
    {
      "cell_type": "code",
      "source": [
        "model_resunet.compile(optimizer=Adam(learning_rate=1e-3), loss=\"sparse_categorical_crossentropy\", metrics=[multiclass_dice, iou, \"accuracy\"])"
      ],
      "metadata": {
        "id": "TH01bS0RM4UM"
      },
      "execution_count": 35,
      "outputs": []
    },
    {
      "cell_type": "code",
      "source": [
        "history_resunet=model_resunet.fit(x=train_frames,\n",
        "                    y=train_masks,\n",
        "                    validation_data=[valid_frames, valid_masks],\n",
        "                    batch_size=3,\n",
        "                    epochs=3,\n",
        "                    callbacks=[earlystop, reduce_lr])"
      ],
      "metadata": {
        "colab": {
          "base_uri": "https://localhost:8080/"
        },
        "id": "R3kqsWC3M9eT",
        "outputId": "49b28206-194b-4289-dc0f-7eb8fc947b61"
      },
      "execution_count": 36,
      "outputs": [
        {
          "output_type": "stream",
          "name": "stdout",
          "text": [
            "Epoch 1/3\n",
            "225/225 [==============================] - 213s 801ms/step - loss: 0.3136 - multiclass_dice: 0.1493 - iou: 0.0932 - accuracy: 0.8813 - val_loss: 0.2358 - val_multiclass_dice: 0.3671 - val_iou: 0.2372 - val_accuracy: 0.9006 - lr: 0.0010\n",
            "Epoch 2/3\n",
            "225/225 [==============================] - 176s 781ms/step - loss: 0.2361 - multiclass_dice: 0.4123 - iou: 0.2760 - accuracy: 0.9013 - val_loss: 0.2143 - val_multiclass_dice: 0.4075 - val_iou: 0.2705 - val_accuracy: 0.9085 - lr: 0.0010\n",
            "Epoch 3/3\n",
            "225/225 [==============================] - 172s 766ms/step - loss: 0.2139 - multiclass_dice: 0.4874 - iou: 0.3400 - accuracy: 0.9131 - val_loss: 0.1974 - val_multiclass_dice: 0.4986 - val_iou: 0.3536 - val_accuracy: 0.9237 - lr: 0.0010\n"
          ]
        }
      ]
    },
    {
      "cell_type": "code",
      "source": [
        "model_resunet.save_weights(\"/content/gdrive/MyDrive/Colab Notebooks/models/resunet_4ch_ed.h5\")\n"
      ],
      "metadata": {
        "id": "gHvZBgSyqB4r"
      },
      "execution_count": 37,
      "outputs": []
    },
    {
      "cell_type": "code",
      "source": [
        "pd.DataFrame(history_resunet.history).plot(figsize=(8, 5))\n",
        "plt.grid(True)\n",
        "plt.gca().set_ylim(0, 1)\n",
        "save_fig(\"keras_learning_curves_plot_1\")\n",
        "plt.show()"
      ],
      "metadata": {
        "id": "KlESI1yPqSgf",
        "colab": {
          "base_uri": "https://localhost:8080/",
          "height": 387
        },
        "outputId": "d289ac10-00f1-40f7-9e6f-e2da0f97a634"
      },
      "execution_count": 38,
      "outputs": [
        {
          "output_type": "stream",
          "name": "stdout",
          "text": [
            "Saving figure keras_learning_curves_plot_1\n"
          ]
        },
        {
          "output_type": "display_data",
          "data": {
            "text/plain": [
              "<Figure size 576x360 with 1 Axes>"
            ],
            "image/png": "[encoded data removed]"
          },
          "metadata": {
            "needs_background": "light"
          }
        }
      ]
    },
    {
      "cell_type": "markdown",
      "source": [
        "# Aumento de datos"
      ],
      "metadata": {
        "id": "D0xHE1xr0dzP"
      }
    },
    {
      "cell_type": "code",
      "source": [
        "def central_crop(image):\n",
        "    shape = tf.shape(image)\n",
        "    min_dim = tf.reduce_min([shape[0], shape[1]])\n",
        "    top_crop = (shape[0] - min_dim) // 4\n",
        "    bottom_crop = shape[0] - top_crop\n",
        "    left_crop = (shape[1] - min_dim) // 4\n",
        "    right_crop = shape[1] - left_crop\n",
        "    return image[top_crop:bottom_crop, left_crop:right_crop]\n",
        "\n",
        "def random_crop(image):\n",
        "    shape = tf.shape(image)\n",
        "    min_dim = tf.reduce_min([shape[0], shape[1]]) * 90 // 100\n",
        "    return tf.image.random_crop(image, [min_dim, min_dim, 3])\n",
        "\n",
        "def preprocess(image, label, randomize=False):\n",
        "    if randomize:\n",
        "        cropped_image = random_crop(image)\n",
        "        cropped_image = tf.image.random_flip_left_right(cropped_image)\n",
        "    else:\n",
        "        cropped_image = central_crop(image)\n",
        "    resized_image = tf.image.resize(cropped_image, [224, 224])\n",
        "    final_image = keras.applications.xception.preprocess_input(resized_image)\n",
        "    return final_image, label\n",
        "\n",
        "batch_size = 32\n",
        "train_set = train_set_raw.shuffle(1000).repeat()\n",
        "train_set = train_set.map(partial(preprocess, randomize=True)).batch(batch_size).prefetch(1)\n",
        "valid_set = valid_set_raw.map(preprocess).batch(batch_size).prefetch(1)\n",
        "test_set = test_set_raw.map(preprocess).batch(batch_size).prefetch(1)"
      ],
      "metadata": {
        "id": "S6GPWwMP0XeX"
      },
      "execution_count": null,
      "outputs": []
    },
    {
      "cell_type": "code",
      "source": [
        "history_1 = model.fit(train_set,\n",
        "                    steps_per_epoch=int(0.75 * dataset_size / batch_size),\n",
        "                    validation_data=valid_set,\n",
        "                    validation_steps=int(0.15 * dataset_size / batch_size),\n",
        "                    epochs=5)\n",
        "loss_test_1 = model.evaluate(test_set)"
      ],
      "metadata": {
        "id": "72QpYBbn4Y3Y"
      },
      "execution_count": null,
      "outputs": []
    },
    {
      "cell_type": "code",
      "source": [
        "test_split, valid_split, train_split = tfds.Split.TRAIN.subsplit([10, 15, 75])\n",
        "\n",
        "test_set_raw = tfds.load(\"cats_vs_dogs\", split=test_split, as_supervised=True)\n",
        "valid_set_raw = tfds.load(\"cats_vs_dogs\", split=valid_split, as_supervised=True)\n",
        "train_set_raw = tfds.load(\"cats_vs_dogs\", split=train_split, as_supervised=True)"
      ],
      "metadata": {
        "id": "LNg889E45bye"
      },
      "execution_count": null,
      "outputs": []
    },
    {
      "cell_type": "code",
      "source": [
        "import imgaug.augmenters as iaa\n",
        "import numpy as np\n",
        "import cv2\n",
        "\n",
        "# Carga la imagen y la máscara\n",
        "img = train_frames[0]\n",
        "mask = train_masks[0]\n",
        "print(np.shape(img))\n",
        "# Define el objeto de aumento de datos\n",
        "seq = iaa.Sequential([\n",
        "    iaa.Fliplr(0.5), # Voltear la imagen horizontalmente\n",
        "    iaa.Flipud(0.5), # Voltear la imagen verticalmente\n",
        "    iaa.Affine(rotate=(-45, 45)), # Rotar la imagen\n",
        "    iaa.AdditiveGaussianNoise(scale=(0, 0.1*255)), # Agregar ruido gaussiano\n",
        "    iaa.Multiply((0.5, 1.5)), # Ajustar el brillo de la imagen\n",
        "    iaa.GammaContrast((0.5, 2.0)) # Ajustar el contraste de la imagen\n",
        "], random_order=True)\n",
        "\n",
        "# Generar 10 imágenes y máscaras aumentadas\n",
        "images_aug = []\n",
        "masks_aug = []\n",
        "for _ in range(10):\n",
        "    # Aplicar el aumento de datos a la imagen y la máscara\n",
        "    image_aug, mask_aug = seq(image=img, segmentation_maps=mask)\n",
        "    images_aug.append(image_aug)\n",
        "    masks_aug.append(mask_aug)\n",
        "\n",
        "# Mostrar una imagen y su máscara aumentada\n",
        "cv2.imshow('Imagen aumentada', images_aug[0])\n",
        "cv2.imshow('Máscara aumentada', masks_aug[0])\n",
        "cv2.waitKey(0)\n",
        "cv2.destroyAllWindows()"
      ],
      "metadata": {
        "colab": {
          "base_uri": "https://localhost:8080/",
          "height": 431
        },
        "id": "erMfyLlyT3cH",
        "outputId": "cb1759ba-20f0-414a-ba72-cf0958182e71"
      },
      "execution_count": 45,
      "outputs": [
        {
          "output_type": "stream",
          "name": "stdout",
          "text": [
            "(384, 384, 1)\n"
          ]
        },
        {
          "output_type": "error",
          "ename": "ValueError",
          "evalue": "ignored",
          "traceback": [
            "\u001b[0;31m---------------------------------------------------------------------------\u001b[0m",
            "\u001b[0;31mValueError\u001b[0m                                Traceback (most recent call last)",
            "\u001b[0;32m<ipython-input-45-466da7d6cbca>\u001b[0m in \u001b[0;36m<module>\u001b[0;34m\u001b[0m\n\u001b[1;32m     22\u001b[0m \u001b[0;32mfor\u001b[0m \u001b[0m_\u001b[0m \u001b[0;32min\u001b[0m \u001b[0mrange\u001b[0m\u001b[0;34m(\u001b[0m\u001b[0;36m10\u001b[0m\u001b[0;34m)\u001b[0m\u001b[0;34m:\u001b[0m\u001b[0;34m\u001b[0m\u001b[0;34m\u001b[0m\u001b[0m\n\u001b[1;32m     23\u001b[0m     \u001b[0;31m# Aplicar el aumento de datos a la imagen y la máscara\u001b[0m\u001b[0;34m\u001b[0m\u001b[0;34m\u001b[0m\u001b[0m\n\u001b[0;32m---> 24\u001b[0;31m     \u001b[0mimage_aug\u001b[0m\u001b[0;34m,\u001b[0m \u001b[0mmask_aug\u001b[0m \u001b[0;34m=\u001b[0m \u001b[0mseq\u001b[0m\u001b[0;34m(\u001b[0m\u001b[0mimage\u001b[0m\u001b[0;34m=\u001b[0m\u001b[0mimg\u001b[0m\u001b[0;34m,\u001b[0m \u001b[0msegmentation_maps\u001b[0m\u001b[0;34m=\u001b[0m\u001b[0mmask\u001b[0m\u001b[0;34m)\u001b[0m\u001b[0;34m\u001b[0m\u001b[0;34m\u001b[0m\u001b[0m\n\u001b[0m\u001b[1;32m     25\u001b[0m     \u001b[0mimages_aug\u001b[0m\u001b[0;34m.\u001b[0m\u001b[0mappend\u001b[0m\u001b[0;34m(\u001b[0m\u001b[0mimage_aug\u001b[0m\u001b[0;34m)\u001b[0m\u001b[0;34m\u001b[0m\u001b[0;34m\u001b[0m\u001b[0m\n\u001b[1;32m     26\u001b[0m     \u001b[0mmasks_aug\u001b[0m\u001b[0;34m.\u001b[0m\u001b[0mappend\u001b[0m\u001b[0;34m(\u001b[0m\u001b[0mmask_aug\u001b[0m\u001b[0;34m)\u001b[0m\u001b[0;34m\u001b[0m\u001b[0;34m\u001b[0m\u001b[0m\n",
            "\u001b[0;32m/usr/local/lib/python3.9/dist-packages/imgaug/augmenters/meta.py\u001b[0m in \u001b[0;36m__call__\u001b[0;34m(self, *args, **kwargs)\u001b[0m\n\u001b[1;32m   2006\u001b[0m     \u001b[0;32mdef\u001b[0m \u001b[0m__call__\u001b[0m\u001b[0;34m(\u001b[0m\u001b[0mself\u001b[0m\u001b[0;34m,\u001b[0m \u001b[0;34m*\u001b[0m\u001b[0margs\u001b[0m\u001b[0;34m,\u001b[0m \u001b[0;34m**\u001b[0m\u001b[0mkwargs\u001b[0m\u001b[0;34m)\u001b[0m\u001b[0;34m:\u001b[0m\u001b[0;34m\u001b[0m\u001b[0;34m\u001b[0m\u001b[0m\n\u001b[1;32m   2007\u001b[0m         \u001b[0;34m\"\"\"Alias for :func:`~imgaug.augmenters.meta.Augmenter.augment`.\"\"\"\u001b[0m\u001b[0;34m\u001b[0m\u001b[0;34m\u001b[0m\u001b[0m\n\u001b[0;32m-> 2008\u001b[0;31m         \u001b[0;32mreturn\u001b[0m \u001b[0mself\u001b[0m\u001b[0;34m.\u001b[0m\u001b[0maugment\u001b[0m\u001b[0;34m(\u001b[0m\u001b[0;34m*\u001b[0m\u001b[0margs\u001b[0m\u001b[0;34m,\u001b[0m \u001b[0;34m**\u001b[0m\u001b[0mkwargs\u001b[0m\u001b[0;34m)\u001b[0m\u001b[0;34m\u001b[0m\u001b[0;34m\u001b[0m\u001b[0m\n\u001b[0m\u001b[1;32m   2009\u001b[0m \u001b[0;34m\u001b[0m\u001b[0m\n\u001b[1;32m   2010\u001b[0m     \u001b[0;32mdef\u001b[0m \u001b[0mpool\u001b[0m\u001b[0;34m(\u001b[0m\u001b[0mself\u001b[0m\u001b[0;34m,\u001b[0m \u001b[0mprocesses\u001b[0m\u001b[0;34m=\u001b[0m\u001b[0;32mNone\u001b[0m\u001b[0;34m,\u001b[0m \u001b[0mmaxtasksperchild\u001b[0m\u001b[0;34m=\u001b[0m\u001b[0;32mNone\u001b[0m\u001b[0;34m,\u001b[0m \u001b[0mseed\u001b[0m\u001b[0;34m=\u001b[0m\u001b[0;32mNone\u001b[0m\u001b[0;34m)\u001b[0m\u001b[0;34m:\u001b[0m\u001b[0;34m\u001b[0m\u001b[0;34m\u001b[0m\u001b[0m\n",
            "\u001b[0;32m/usr/local/lib/python3.9/dist-packages/imgaug/augmenters/meta.py\u001b[0m in \u001b[0;36maugment\u001b[0;34m(self, return_batch, hooks, **kwargs)\u001b[0m\n\u001b[1;32m   1977\u001b[0m         )\n\u001b[1;32m   1978\u001b[0m \u001b[0;34m\u001b[0m\u001b[0m\n\u001b[0;32m-> 1979\u001b[0;31m         \u001b[0mbatch_aug\u001b[0m \u001b[0;34m=\u001b[0m \u001b[0mself\u001b[0m\u001b[0;34m.\u001b[0m\u001b[0maugment_batch_\u001b[0m\u001b[0;34m(\u001b[0m\u001b[0mbatch\u001b[0m\u001b[0;34m,\u001b[0m \u001b[0mhooks\u001b[0m\u001b[0;34m=\u001b[0m\u001b[0mhooks\u001b[0m\u001b[0;34m)\u001b[0m\u001b[0;34m\u001b[0m\u001b[0;34m\u001b[0m\u001b[0m\n\u001b[0m\u001b[1;32m   1980\u001b[0m \u001b[0;34m\u001b[0m\u001b[0m\n\u001b[1;32m   1981\u001b[0m         \u001b[0;31m# return either batch or tuple of augmentables, depending on what\u001b[0m\u001b[0;34m\u001b[0m\u001b[0;34m\u001b[0m\u001b[0m\n",
            "\u001b[0;32m/usr/local/lib/python3.9/dist-packages/imgaug/augmenters/meta.py\u001b[0m in \u001b[0;36maugment_batch_\u001b[0;34m(self, batch, parents, hooks)\u001b[0m\n\u001b[1;32m    594\u001b[0m         \u001b[0;32melif\u001b[0m \u001b[0misinstance\u001b[0m\u001b[0;34m(\u001b[0m\u001b[0mbatch\u001b[0m\u001b[0;34m,\u001b[0m \u001b[0mUnnormalizedBatch\u001b[0m\u001b[0;34m)\u001b[0m\u001b[0;34m:\u001b[0m\u001b[0;34m\u001b[0m\u001b[0;34m\u001b[0m\u001b[0m\n\u001b[1;32m    595\u001b[0m             \u001b[0mbatch_unnorm\u001b[0m \u001b[0;34m=\u001b[0m \u001b[0mbatch\u001b[0m\u001b[0;34m\u001b[0m\u001b[0;34m\u001b[0m\u001b[0m\n\u001b[0;32m--> 596\u001b[0;31m             \u001b[0mbatch_norm\u001b[0m \u001b[0;34m=\u001b[0m \u001b[0mbatch\u001b[0m\u001b[0;34m.\u001b[0m\u001b[0mto_normalized_batch\u001b[0m\u001b[0;34m(\u001b[0m\u001b[0;34m)\u001b[0m\u001b[0;34m\u001b[0m\u001b[0;34m\u001b[0m\u001b[0m\n\u001b[0m\u001b[1;32m    597\u001b[0m             \u001b[0mbatch_inaug\u001b[0m \u001b[0;34m=\u001b[0m \u001b[0mbatch_norm\u001b[0m\u001b[0;34m.\u001b[0m\u001b[0mto_batch_in_augmentation\u001b[0m\u001b[0;34m(\u001b[0m\u001b[0;34m)\u001b[0m\u001b[0;34m\u001b[0m\u001b[0;34m\u001b[0m\u001b[0m\n\u001b[1;32m    598\u001b[0m         \u001b[0;32melif\u001b[0m \u001b[0misinstance\u001b[0m\u001b[0;34m(\u001b[0m\u001b[0mbatch\u001b[0m\u001b[0;34m,\u001b[0m \u001b[0mBatch\u001b[0m\u001b[0;34m)\u001b[0m\u001b[0;34m:\u001b[0m\u001b[0;34m\u001b[0m\u001b[0;34m\u001b[0m\u001b[0m\n",
            "\u001b[0;32m/usr/local/lib/python3.9/dist-packages/imgaug/augmentables/batches.py\u001b[0m in \u001b[0;36mto_normalized_batch\u001b[0;34m(self)\u001b[0m\n\u001b[1;32m    203\u001b[0m             heatmaps=nlib.normalize_heatmaps(\n\u001b[1;32m    204\u001b[0m                 self.heatmaps_unaug, shapes),\n\u001b[0;32m--> 205\u001b[0;31m             segmentation_maps=nlib.normalize_segmentation_maps(\n\u001b[0m\u001b[1;32m    206\u001b[0m                 self.segmentation_maps_unaug, shapes),\n\u001b[1;32m    207\u001b[0m             keypoints=nlib.normalize_keypoints(\n",
            "\u001b[0;32m/usr/local/lib/python3.9/dist-packages/imgaug/augmentables/normalization.py\u001b[0m in \u001b[0;36mnormalize_segmentation_maps\u001b[0;34m(inputs, shapes)\u001b[0m\n\u001b[1;32m    202\u001b[0m         \u001b[0;32mreturn\u001b[0m \u001b[0;32mNone\u001b[0m\u001b[0;34m\u001b[0m\u001b[0;34m\u001b[0m\u001b[0m\n\u001b[1;32m    203\u001b[0m     \u001b[0;32mif\u001b[0m \u001b[0mntype\u001b[0m \u001b[0;32min\u001b[0m \u001b[0;34m[\u001b[0m\u001b[0;34m\"array[int]\"\u001b[0m\u001b[0;34m,\u001b[0m \u001b[0;34m\"array[uint]\"\u001b[0m\u001b[0;34m,\u001b[0m \u001b[0;34m\"array[bool]\"\u001b[0m\u001b[0;34m]\u001b[0m\u001b[0;34m:\u001b[0m\u001b[0;34m\u001b[0m\u001b[0;34m\u001b[0m\u001b[0m\n\u001b[0;32m--> 204\u001b[0;31m         _assert_single_array_ndim(inputs, 4, \"(N,H,W,#SegmapsPerImage)\",\n\u001b[0m\u001b[1;32m    205\u001b[0m                                   \"SegmentationMapsOnImage\")\n\u001b[1;32m    206\u001b[0m         \u001b[0m_assert_exactly_n_shapes_partial\u001b[0m\u001b[0;34m(\u001b[0m\u001b[0mn\u001b[0m\u001b[0;34m=\u001b[0m\u001b[0mlen\u001b[0m\u001b[0;34m(\u001b[0m\u001b[0minputs\u001b[0m\u001b[0;34m)\u001b[0m\u001b[0;34m)\u001b[0m\u001b[0;34m\u001b[0m\u001b[0;34m\u001b[0m\u001b[0m\n",
            "\u001b[0;32m/usr/local/lib/python3.9/dist-packages/imgaug/augmentables/normalization.py\u001b[0m in \u001b[0;36m_assert_single_array_ndim\u001b[0;34m(arr, ndim, shape_str, to_ntype)\u001b[0m\n\u001b[1;32m     63\u001b[0m \u001b[0;32mdef\u001b[0m \u001b[0m_assert_single_array_ndim\u001b[0m\u001b[0;34m(\u001b[0m\u001b[0marr\u001b[0m\u001b[0;34m,\u001b[0m \u001b[0mndim\u001b[0m\u001b[0;34m,\u001b[0m \u001b[0mshape_str\u001b[0m\u001b[0;34m,\u001b[0m \u001b[0mto_ntype\u001b[0m\u001b[0;34m)\u001b[0m\u001b[0;34m:\u001b[0m\u001b[0;34m\u001b[0m\u001b[0;34m\u001b[0m\u001b[0m\n\u001b[1;32m     64\u001b[0m     \u001b[0;32mif\u001b[0m \u001b[0marr\u001b[0m\u001b[0;34m.\u001b[0m\u001b[0mndim\u001b[0m \u001b[0;34m!=\u001b[0m \u001b[0mndim\u001b[0m\u001b[0;34m:\u001b[0m\u001b[0;34m\u001b[0m\u001b[0;34m\u001b[0m\u001b[0m\n\u001b[0;32m---> 65\u001b[0;31m         raise ValueError(\n\u001b[0m\u001b[1;32m     66\u001b[0m             \u001b[0;34m\"Tried to convert an array to list of %s. Expected \"\u001b[0m\u001b[0;34m\u001b[0m\u001b[0;34m\u001b[0m\u001b[0m\n\u001b[1;32m     67\u001b[0m             \u001b[0;34m\"that array to be of shape %s, i.e. %d-dimensional, but \"\u001b[0m\u001b[0;34m\u001b[0m\u001b[0;34m\u001b[0m\u001b[0m\n",
            "\u001b[0;31mValueError\u001b[0m: Tried to convert an array to list of SegmentationMapsOnImage. Expected that array to be of shape (N,H,W,#SegmapsPerImage), i.e. 4-dimensional, but got 3 dimensions instead."
          ]
        }
      ]
    }
  ]
}